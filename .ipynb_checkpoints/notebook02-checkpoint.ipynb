{
 "cells": [
  {
   "cell_type": "markdown",
   "metadata": {},
   "source": [
    "# Notebook 2: Relationale Algebra"
   ]
  },
  {
   "cell_type": "markdown",
   "metadata": {},
   "source": [
    "## Aufgabe 1: Relationale Algebra in Python (6 Punkte)\n",
    "\n",
    "In dieser Aufgabe sollt ihr selbst zwei abgeleitete Operatoren und den Grouping-Operator der relationalen Algebra implementieren.\n",
    "\n",
    "In unserer Implementierung erlauben wir im Gegensatz zur allgemeinen Definition aus der Vorlesung keine gleichnamigen Attribute. Dadurch müssen wir uns nicht um mehrdeutige Attributnamen beim kartesischen Produkt (oder abgeleiteten Operatoren) kümmern und keine Punkt-Notation zum Referenzieren von Attributen verwenden.\n",
    "\n",
    "Als Basis für unsere Implementierung dient die Klasse `Relation` aus der `relation.py`. Sie beschreibt eine Relation mit Name, Schema (bestehend aus Attributnamen und Domains) und eine Menge von Tupeln. Für euch sind insbesondere die folgenden Methoden der Klasse wichtig:\n",
    "* `__init__`: Der Konstruktor bildet aus einem Namen `name` und ein Schema `schema` eine neue **leere** Relation.\n",
    "* `add_tuple`: Fügt der Relation ein Tupel `tup` hinzu falls das Schema übereinstimmt\n",
    "* `set_name`: Ändert den Namen eines Relationsobjekts in `name` um. Im Unterschied zu `renaming_relation` wird kein neues Relationsobjekt erzeugt. Die Umbenennung findet also *in-place* statt. Diese Methode ist wichtig um bei der Implementierung abgeleiteter Operatoren, den richtigen Relationsnamen zu setzen.\n",
    "* `print_table`: Gibt die Relation in tabellarischer Form aus.\n",
    "Außerdem hat Relation die folgenden Hilfsmethoden, die beim Grouping-Operator benötigt werden:\n",
    "* `has_attribute`: Gibt für ein Attributnamen `attribute` den Wert `True` zurück, wenn die Relation ein Attribut mit diesem Namen besitzt.\n",
    "* `get_attribute_domain`: Gibt für ein Attributnamen `attribute` des Typen zurück, wenn die Relation ein Attribut mit diesem Namen besitzt.\n",
    "* `get_attribute_domain`: Gibt für ein Attributnamen `attribute` die Position zurück, an der dieses Attribut im Schema der Relation steht, wenn die Relation ein Attribut mit diesem Namen besitzt.\n",
    "\n",
    "Alle anderen Methoden, die die Klasse bereitstellt, sollten bei der Bearbeitung der Aufgabe keine Rolle spielen, sind aber auch dokumentiert.\n",
    "\n",
    "Zunächst importieren wir die Klasse `Relation` und alle Basisoperatoren aus der Vorlesung in dieses Notebook, indem wir mithilfe von Cell Magic das Skript `relation.py`, in dem diese definiert sind, ausführen."
   ]
  },
  {
   "cell_type": "code",
   "execution_count": 1,
   "metadata": {},
   "outputs": [],
   "source": [
    "%run relation  # runs the relation.py and thereby imports the Relation class and predefined base operators"
   ]
  },
  {
   "cell_type": "markdown",
   "metadata": {},
   "source": [
    "Anschließend lesen wir alle Relationen aus dem PhotoDB Schema über die zur Verfügung gestellten .csv-Dateien ein. Hierzu wird die Funktion `load_csv` verwendet, die jeweils ein fertiges Relationsobjekt für jede .csv-Datei erstellt."
   ]
  },
  {
   "cell_type": "code",
   "execution_count": 2,
   "metadata": {},
   "outputs": [],
   "source": [
    "# load .csv files into relation objects\n",
    "erfahrungsstufen = load_csv('photodb/erfahrungsstufen.csv', 'erfahrungsstufen')\n",
    "fotoabzuege = load_csv('photodb/fotoabzuege.csv', 'fotoabzuege')\n",
    "fotographen = load_csv('photodb/fotographen.csv', 'fotographen')\n",
    "fotos = load_csv('photodb/fotos.csv', 'fotos')\n",
    "kameras = load_csv('photodb/kameras.csv', 'kameras')\n",
    "kunden = load_csv('photodb/kunden.csv', 'kunden')\n",
    "managed = load_csv('photodb/managed.csv', 'managed')\n",
    "mitarbeiter = load_csv('photodb/mitarbeiter.csv', 'mitarbeiter')\n",
    "personen = load_csv('photodb/personen.csv', 'personen')\n",
    "seniors = load_csv('photodb/seniors.csv', 'seniors')\n",
    "verkaufen = load_csv('photodb/verkaufen.csv', 'verkaufen')\n",
    "verkaeufer = load_csv('photodb/verkaeufer.csv', 'verkaeufer')"
   ]
  },
  {
   "cell_type": "markdown",
   "metadata": {},
   "source": [
    "Um den Einstieg etwas zu erleichtern, schauen wir uns zunächst die Implementierung des abgeleiteten Schnitt-Operators (intersection) an. Unsere Implementierung sieht wie folgt aus:\n",
    "\n",
    "```python\n",
    "def intersection(relation1, relation2):\n",
    "    \"\"\"\n",
    "    Computes the intersection of two relations\n",
    "\n",
    "    :param relation1: the first relation\n",
    "    :param relation2:  the second relation\n",
    "    :return: a new relation representing the intersection of the given relations\n",
    "    \"\"\"\n",
    "    # integrity checks\n",
    "    assert relation1.attributes == relation2.attributes  # the schema of both relations has to be identical\n",
    "    assert relation1.domains == relation2.domains  # # the schema of both relations has to be identical\n",
    "    # create empty new relation\n",
    "    new_name = '(' + relation1.name + ') ∩ (' + relation2.name + ')'\n",
    "    new_schema = build_schema(relation1.attributes, relation1.domains)\n",
    "    new_relation = Relation(new_name, new_schema)\n",
    "    # add all tuples of the intersection to the new relation\n",
    "    for tup in relation1.tuples & relation2.tuples:\n",
    "        new_relation.add_tuple(tup)\n",
    "    return new_relation\n",
    "```\n",
    "\n",
    "Die Funktion ist folgendermaßen aufgebaut:\n",
    "* Als Argumente bekommt sie zwei Relationen `relation1` und `relation2`, deren Schnitt berechnet werden soll.\n",
    "* Da der Schnitt voraussetzt, dass die Schemata der beiden Relationen gleich sein müssen, testen wir dies zunächst mit zwei Assertions. Dabei testet der erste Ausdruck die Gleichheit der Attributnamen beider Relationen und der zweite die Gleichheit der Typen (oder Domains). Intern verwaltet ein Relationsobjekt sein Schema als ein Tupel von Attributnamen (`attributes`) und ein Tupel von Typen zu den entsprechenden Attributnamen (`domains`).\n",
    "* Anschließend wird eine neue, leere Relation erstellt. Zum Erstellen einer Relation benötigen wir einen Namen (`new_name`) und das Schema (`new_schema`) der Ergebnisrelation. Als Namen wählen wir die Operation (Schnitt) in Verbindung mit den Namen der beiden Eingaberelationen. Da die Schemata beider Eingaberelationen gleich sind, können wir einfach eines der Schemata übernehmen. Hierzu verwenden wir die Hilfsfunktion `build_schema`, die aus einem Tupel aus Attributnamen und einem Tupel aus Typen ein Schema, wie es vom Konstruktor erwartet wird, erstellt. Die leere Relation wird dann durch Aufrufen des Konstruktors `Relation` mit den beiden Parametern `new_name` und `new_schema` erstellt.\n",
    "* Zum Schluss müssen noch die Tupel in die Relation eingefügt werden, die Teil der Ergebnisrelation sind. Intern verwaltet die Klasse `Relation` Tupel in einem `set` mit dem Namen `tuples`, das automatisch Doppelvorkommen eliminiert. Da die grundlegenden Mengenoperationen auf `sets` in Python vordefiniert sind, reicht es den Schnitt der beiden Tupelsets mit dem `&` Operator zu bilden und alle resultierenden Tupel in einer `for`-Schleife mit `add_tuple` in die Ergebnisrelation `new_relation` einzufügen und anschließend zurückzugeben.\n",
    "\n",
    "Im Folgenden soll der Theta-Join, der Left-Semi-Join und Grouping mit Aggregation implementiert werden. Beim Setzen des Namens der Ergebnisrelation könnt ihr das Symbol für die Operation einfach aus dem Erwarteten Output der Tests kopieren. Bei den Tests kann es aufgrund der Verwaltung von Tupeln als `sets` sein, dass die Reihenfolge eures Ergebnisses eine andere ist."
   ]
  },
  {
   "cell_type": "code",
   "execution_count": 3,
   "metadata": {},
   "outputs": [],
   "source": [
    "import pandas as pd"
   ]
  },
  {
   "cell_type": "markdown",
   "metadata": {},
   "source": [
    "### 1.1 Theta Join (1.5 Punkte)\n",
    "\n",
    "Implementiere den Theta-Join-Operator. Dabei sind `relation1` und `relation2` Objekte der Klasse `Relation` und `theta` ein Prädikat in Form eines strings, wie es auch bei der Selektion und dem dazugehörigen Operator `selection` verwendet wird. Zwei Beispiele zur Verwendung des Operators mit erwartetem Ergebnis findet ihr in der Testzelle."
   ]
  },
  {
   "cell_type": "code",
   "execution_count": 4,
   "metadata": {},
   "outputs": [],
   "source": [
    "# THETA JOIN\n",
    "def theta_join(relation1, relation2, theta):\n",
    "    \"\"\"\n",
    "    Performs a theta join between two relations by first performing the cartesian product and then selection\n",
    "\n",
    "    :param relation1: the first relation\n",
    "    :param relation2: the second relation\n",
    "    :param theta: the theta defining the join predicate\n",
    "    :return: a new relation computed by executing the theta join\n",
    "    \"\"\"\n",
    "    # TODO: implement this function\n",
    "        \n",
    "    new_relation1 = cartesian_product(relation1, relation2)\n",
    "    \n",
    "    new_relation2 = selection(new_relation1, theta)\n",
    "    \n",
    "    return new_relation2\n",
    "    \n",
    "    #pass"
   ]
  },
  {
   "cell_type": "code",
   "execution_count": 5,
   "metadata": {},
   "outputs": [
    {
     "name": "stdout",
     "output_type": "stream",
     "text": [
      "-------------------------------------------------\n",
      "\u001b[1mσ_{kamera==kid}((fotos) × (ρ_{kid<-id}(kameras)))\u001b[0m \n",
      "--------------------------------------------------------------------------------------------------------------------------------------------------------------------------------------------------------------------------------------------------------\n",
      "\u001b[1mid                             gpskoordinaten                 aufnahmezeitpunkt              fotograph                      kamera                         kid                            marke                          modell                         \u001b[0m \n",
      "--------------------------------------------------------------------------------------------------------------------------------------------------------------------------------------------------------------------------------------------------------\n",
      "2                              (3123.98,67.987)               2013-05-14 15:40:47.170802+02  6                              3                              3                              Nikon                          D3200                          \n",
      "3                              (615.65,691.95)                2013-05-14 15:42:33.031867+02  7                              2                              2                              Canon                          650d                           \n",
      "1                              (123,234)                      2013-05-14 15:40:47.161073+02  3                              1                              1                              Canon                          6d                             \n",
      "\n",
      "-----------------------------------------------------------------------------------\n",
      "\u001b[1mπ_{id,name,vorname,fotoid}(σ_{id==fotograph}((personen) × (ρ_{fotoid<-id}(fotos))))\u001b[0m \n",
      "-----------------------------------------------------------------------------------\n",
      "\u001b[1mid       name     vorname  fotoid   \u001b[0m \n",
      "-----------------------------------------------------------------------------------\n",
      "6        Wurst    Hans     2        \n",
      "3        Mueller  Peter    1        \n",
      "7        Miese    Peter    3        \n",
      "\n"
     ]
    }
   ],
   "source": [
    "# 1.5 Punkte\n",
    "# Grading Test:\n",
    "theta_join(fotos, renaming_attributes(kameras, ['kid<-id']), 'kamera==kid').print_table()  # Zu jedem Foto, die Informationen über die Kamera, mit der sie aufgenommen wurden\n",
    "# expected output:\n",
    "#----------------------------------------------\n",
    "#(fotos) ⋈_{kamera==kid} (ρ_{kid<-id}(kameras)) \n",
    "#--------------------------------------------------------------------------------------------------------------------------------------------------------------------------------------------------------------------------------------------------------\n",
    "#id                             gpskoordinaten                 aufnahmezeitpunkt              fotograph                      kamera                         kid                            marke                          modell                          \n",
    "#--------------------------------------------------------------------------------------------------------------------------------------------------------------------------------------------------------------------------------------------------------\n",
    "#3                              (615.65,691.95)                2013-05-14 15:42:33.031867+02  7                              2                              2                              Canon                          650d                           \n",
    "#1                              (123,234)                      2013-05-14 15:40:47.161073+02  3                              1                              1                              Canon                          6d                             \n",
    "#2                              (3123.98,67.987)               2013-05-14 15:40:47.170802+02  6                              3                              3                              Nikon                          D3200                          \n",
    "projection(theta_join(personen, renaming_attributes(fotos, ['fotoid<-id']), 'id==fotograph'), ['id', 'name', 'vorname','fotoid']).print_table()  # Zu jeder FotoID den Namen und Vornamen des Fotographen, der das Foto geschossen hat\n",
    "# expected output:\n",
    "#--------------------------------------------------------------------------------\n",
    "#π_{id,name,vorname,fotoid}((personen) ⋈_{id==fotograph} (ρ_{fotoid<-id}(fotos))) \n",
    "#--------------------------------------------------------------------------------\n",
    "#id       name     vorname  fotoid    \n",
    "#--------------------------------------------------------------------------------\n",
    "#3        Mueller  Peter    1        \n",
    "#7        Miese    Peter    3        \n",
    "#6        Wurst    Hans     2 "
   ]
  },
  {
   "cell_type": "markdown",
   "metadata": {},
   "source": [
    "### 1.2 Left Semi Join (1.5 Punkte)\n",
    "\n",
    "Implementiere den Left-Semi-Join-Operator. Dabei sind `relation1` und `relation2` Objekte der Klasse `Relation` und `theta` ein Prädikat in Form eines strings, wie es auch bei der Selektion und dem dazugehörigen Operator `selection` verwendet wird. Zwei Beispiele zur Verwendung des Operators mit erwartetem Ergebnis findet ihr in der Testzelle."
   ]
  },
  {
   "cell_type": "code",
   "execution_count": 6,
   "metadata": {},
   "outputs": [],
   "source": [
    "import pandas as pd"
   ]
  },
  {
   "cell_type": "code",
   "execution_count": 7,
   "metadata": {},
   "outputs": [],
   "source": [
    "# LEFT SEMI JOIN\n",
    "def left_semi_join(relation1, relation2, theta):\n",
    "    \"\"\"\n",
    "    Perfoms a left semi join between two relations\n",
    "\n",
    "    :param relation1: the first relation\n",
    "    :param relation2: the second relation\n",
    "    :param theta: The theta defining the join predicate\n",
    "    :return: a new relation computed by executing the left semi join\n",
    "    \"\"\"\n",
    "    # TODO: implement this function\n",
    "    \n",
    "    new_relation1 = theta_join(relation1, relation2, theta)\n",
    "    new_relation2 = projection(new_relation1, relation1.attributes)\n",
    "    \n",
    "    return new_relation2\n",
    "    \n",
    "    #pass"
   ]
  },
  {
   "cell_type": "code",
   "execution_count": 8,
   "metadata": {},
   "outputs": [
    {
     "name": "stdout",
     "output_type": "stream",
     "text": [
      "----------------------------------------------------------------------------\n",
      "\u001b[1mπ_{mitarbeiterid}(σ_{mitarbeiterid==fotographid}((fotographen) × (managed)))\u001b[0m \n",
      "----------------------------------------------------------------------------\n",
      "\u001b[1mmitarbeiterid  \u001b[0m \n",
      "----------------------------------------------------------------------------\n",
      "7              \n",
      "3              \n",
      "6              \n",
      "\n",
      "-----------------------------------------------------------------------------------\n",
      "\u001b[1mπ_{id,name,vorname,geburtsdatum}(σ_{id==mitarbeiterid}((personen) × (fotographen)))\u001b[0m \n",
      "-----------------------------------------------------------------------------------\n",
      "\u001b[1mid            name          vorname       geburtsdatum  \u001b[0m \n",
      "-----------------------------------------------------------------------------------\n",
      "7             Miese         Peter         1983-05-06    \n",
      "3             Mueller       Peter         1963-10-09    \n",
      "6             Wurst         Hans          1974-02-01    \n",
      "\n"
     ]
    }
   ],
   "source": [
    "# 1.5 Punkte\n",
    "# Grading Test:\n",
    "left_semi_join(fotographen, managed, 'mitarbeiterid==fotographid').print_table()  # Fotographen, die von Seniors gemanagt werden\n",
    "# expected output:\n",
    "#------------------------------------------------------\n",
    "#(fotographen) ⋉_{mitarbeiterid==fotographid} (managed) \n",
    "#------------------------------------------------------\n",
    "#mitarbeiterid   \n",
    "#------------------------------------------------------\n",
    "#7              \n",
    "#3              \n",
    "#6\n",
    "left_semi_join(personen, fotographen, 'id==mitarbeiterid').print_table()  # Persönliche Daten aller Fotographen\n",
    "# expected output:\n",
    "#----------------------------------------------\n",
    "#(personen) ⋉_{id==mitarbeiterid} (fotographen) \n",
    "#--------------------------------------------------------\n",
    "#id            name          vorname       geburtsdatum   \n",
    "#--------------------------------------------------------\n",
    "#7             Miese         Peter         1983-05-06    \n",
    "#3             Mueller       Peter         1963-10-09    \n",
    "#6             Wurst         Hans          1974-02-01   "
   ]
  },
  {
   "cell_type": "markdown",
   "metadata": {},
   "source": [
    "### 1.3 Grouping mit Aggregation (3 Punkte)\n",
    "\n",
    "In dieser Aufgabe soll der Grouping-Operator mit Aggregation implementiert werden. Dabei ist `relation` ein Objekt der Klasse `Relation`, `group` eine liste von Attributnamen nach denen gruppiert werden soll und `aggregations` eine Liste von Aggregationen.\n",
    "\n",
    "Um die Implementierung zu erleichtern verwenden wir für die Aggregationen ausschließlich die folgenden Built-in Funktionen von Python die jeweils für Listen definiert sind:\n",
    "* `max`: berechnet das Maximum einer Liste von Zahlen,\n",
    "* `min`: berechnet das Minimum einer Liste von Zahlen,\n",
    "* `sum`: berechnet die Summe einer Liste von Zahlen.\n",
    "\n",
    "Ein Beispielaufruf der `grouping`-Funktion könnte folgendermaßen aussehen:\n",
    "```python\n",
    "grouping(managed, ['seniorid'], [(max, 'fotographid')])\n",
    "```\n",
    "Dabei gruppieren wir die relation `managed` nach dem Attribut `'seniorid'` und berechnen für jede Gruppe das Maximum des Attributs `'fotographid'`. Eine Gruppierung auf mehren Attributen und weitere Aggregationen wären ebenfalls möglich.\n",
    "\n",
    "Geht bei der Implementierung wie folgt vor:\n",
    "* **Gruppierung**: Erstellt zunächst die Gruppen. Eine einfache Möglichkeit ein Mapping von Gruppe auf alle Tupel der Gruppe zu verwalten ist die Verwendung eines dictionaries (`dict`), das ein Tupel (oder eine Liste) auf eine List von Tupeln der Gruppe abbildet.\n",
    "* **Aggregation**: Berechnet anschließend für jede Gruppe jede der Aggregationen. Da die Built-in Funktionen von Python bereits für Listen definiert sind, reicht es zur Berechnung alle Werte eines Attributs einer Gruppe (beispielsweise `'fotographid'`) in eine Liste zu packen und die Built-in Funktion auf dieser Liste aufzurufen. Beim extrahieren der entsprechenden Attributwerte aus den Tupeln, helfen euch die Hilfsfunktionen, die eingangs beschrieben wurden.\n",
    "* **Projektion**: Das Ergebnis der Gruppierung sind Tupel bestehend aus dem Teil, der die Gruppe beschreibt (beispielsweise `['seniorid']`) und den Werten der Aggregationen. Baut die Tupel entsprechend dieses Schemas zusammen.\n",
    "* **Abschluss**: Zum Schluss müsst ihr ein neues Relationsobjekt erstellen. Der Name der Relation soll wie zuvor die Operation beinhalten. Beim Schema soll der Attributname für die Aggregationen aus der Funktion gefolgt von einem Unterstrich und dem Attributnamen, auf dem die Aggregation berechnet wurde, bestehen (besipielsweise `max_photographid`). Baut das Schema mithilfe der Funktion `build_schema`. Nach dem Initialisieren des neuen Relationsobjekts müssen nun noch die Ergebnistupel mittels `add_tuple` der Relation hinzugefügt werden.\n",
    "\n",
    "Zwei Beispiele zur Verwendung des Operators mit erwartetem Ergebnis findet ihr in der Testzelle."
   ]
  },
  {
   "cell_type": "code",
   "execution_count": 50,
   "metadata": {},
   "outputs": [
    {
     "data": {
      "text/plain": [
       "('seniorid', 'fotographid', 'von', 'bis')"
      ]
     },
     "execution_count": 50,
     "metadata": {},
     "output_type": "execute_result"
    }
   ],
   "source": [
    "dic = dict()\n",
    "\n",
    "relation = managed\n",
    "relation.attributes\n"
   ]
  },
  {
   "cell_type": "code",
   "execution_count": 52,
   "metadata": {},
   "outputs": [
    {
     "data": {
      "text/plain": [
       "4"
      ]
     },
     "execution_count": 52,
     "metadata": {},
     "output_type": "execute_result"
    }
   ],
   "source": [
    "relation.card()"
   ]
  },
  {
   "cell_type": "code",
   "execution_count": 53,
   "metadata": {},
   "outputs": [
    {
     "data": {
      "text/plain": [
       "(int, int, str, str)"
      ]
     },
     "execution_count": 53,
     "metadata": {},
     "output_type": "execute_result"
    }
   ],
   "source": [
    "relation.domains"
   ]
  },
  {
   "cell_type": "code",
   "execution_count": 55,
   "metadata": {},
   "outputs": [
    {
     "data": {
      "text/plain": [
       "{(1, 3, '2013-01-01', ''),\n",
       " (1, 6, '2013-04-01', ''),\n",
       " (2, 6, '2012-09-01', '2013-03-31'),\n",
       " (2, 7, '2013-01-01', '')}"
      ]
     },
     "execution_count": 55,
     "metadata": {},
     "output_type": "execute_result"
    }
   ],
   "source": [
    "relation.tuples"
   ]
  },
  {
   "cell_type": "code",
   "execution_count": 79,
   "metadata": {},
   "outputs": [],
   "source": [
    "d = dict()\n",
    "\n",
    "l = list()\n",
    "for sid, fid, v, b in relation.tuples:\n",
    "    l.append((sid, fid))\n",
    "\n",
    "i = 0\n",
    "for t in l:\n",
    "    d[i] = t\n",
    "    i = i + 1\n"
   ]
  },
  {
   "cell_type": "code",
   "execution_count": 80,
   "metadata": {},
   "outputs": [
    {
     "data": {
      "text/plain": [
       "[(1, 6), (2, 6), (1, 3), (2, 7)]"
      ]
     },
     "execution_count": 80,
     "metadata": {},
     "output_type": "execute_result"
    }
   ],
   "source": [
    "l"
   ]
  },
  {
   "cell_type": "code",
   "execution_count": 99,
   "metadata": {},
   "outputs": [
    {
     "data": {
      "text/plain": [
       "[7, 8, 4, 9]"
      ]
     },
     "execution_count": 99,
     "metadata": {},
     "output_type": "execute_result"
    }
   ],
   "source": [
    "l2 = list()\n",
    "for i in l:\n",
    "    l2.append(sum(i))\n",
    "\n",
    "l2"
   ]
  },
  {
   "cell_type": "code",
   "execution_count": 81,
   "metadata": {},
   "outputs": [
    {
     "data": {
      "text/plain": [
       "dict_items([(0, (1, 6)), (1, (2, 6)), (2, (1, 3)), (3, (2, 7))])"
      ]
     },
     "execution_count": 81,
     "metadata": {},
     "output_type": "execute_result"
    }
   ],
   "source": [
    "d.items()"
   ]
  },
  {
   "cell_type": "code",
   "execution_count": 82,
   "metadata": {},
   "outputs": [
    {
     "data": {
      "text/plain": [
       "dict_values([(1, 6), (2, 6), (1, 3), (2, 7)])"
      ]
     },
     "execution_count": 82,
     "metadata": {},
     "output_type": "execute_result"
    }
   ],
   "source": [
    "d.values()"
   ]
  },
  {
   "cell_type": "code",
   "execution_count": 91,
   "metadata": {},
   "outputs": [
    {
     "name": "stdout",
     "output_type": "stream",
     "text": [
      "1998-01-20 8\n",
      "1998-01-22 4\n",
      "1998-06-18 8\n",
      "1999-07-15 7\n",
      "1999-07-21 1\n"
     ]
    }
   ],
   "source": [
    "from itertools import groupby\n",
    "a = [('1998-01-20', 8), ('1998-01-22', 4), ('1998-06-18', 8), \n",
    "     ('1999-07-15', 7), ('1999-07-21', 1)]\n",
    "\n",
    "for key, group in groupby(a, key=lambda x: x[0]):\n",
    "    print(key, sum(j for i, j in group))"
   ]
  },
  {
   "cell_type": "code",
   "execution_count": 92,
   "metadata": {},
   "outputs": [
    {
     "name": "stdout",
     "output_type": "stream",
     "text": [
      "1 6\n",
      "2 6\n",
      "1 3\n",
      "2 7\n"
     ]
    }
   ],
   "source": [
    "for key, group in groupby(l, key=lambda x: x[0]):\n",
    "    print(key, sum(j for i, j in group))\n",
    "\n",
    "for \n"
   ]
  },
  {
   "cell_type": "code",
   "execution_count": null,
   "metadata": {},
   "outputs": [],
   "source": []
  },
  {
   "cell_type": "code",
   "execution_count": 9,
   "metadata": {},
   "outputs": [],
   "source": [
    "# GROUPING\n",
    "def grouping(relation, group, aggregations):\n",
    "    \"\"\"\n",
    "    Performs grouping and aggregation on a relation\n",
    "\n",
    "    :param relation: the relation\n",
    "    :param group: a list of attributes the relation should be grouped by\n",
    "    :param aggregations: a list of aggregations of the form (builtin_func, attribute) e.g. [(sum, 'photographid'), (len, 'fotographid')]\n",
    "    :return: a new relation computed by executing grouping and computing the aggregations on the groups\n",
    "    \"\"\"\n",
    "    # TODO: implement this function\n",
    "    \n",
    "    tup = (1,2,3)\n",
    "    #tup = build_tuple(relation.rows, relation.domains)\n",
    "    group1 = locals_dict(tup, relation.attributes)\n",
    "    \n",
    "    tup = (1,)\n",
    "    group2 = locals_dict(tup, group)\n",
    "    \n",
    "    df = relation.to_DataFrame()\n",
    "    res = df.groupby(group)\n",
    "    res = res.max()\n",
    "\n",
    "    data.groupby(['']).groups.keys()\n",
    "    len(data.groupby(['month']).groups['2014-11'])\n",
    "    \n",
    "    \n",
    "    \n",
    "    \n",
    "    #new_name = '(' + relation.name + ') ∩ (' + relation2.name + ')'\n",
    "    #new_schema = build_schema(res.attributes, res.domains)\n",
    "    #new_relation = Relation(group, new_schema)\n",
    "    \n",
    "    #return group2\n",
    "    return res\n",
    "    #return new_relation\n",
    "    \n",
    "    #pass"
   ]
  },
  {
   "cell_type": "code",
   "execution_count": 10,
   "metadata": {},
   "outputs": [
    {
     "data": {
      "text/html": [
       "<div>\n",
       "<style scoped>\n",
       "    .dataframe tbody tr th:only-of-type {\n",
       "        vertical-align: middle;\n",
       "    }\n",
       "\n",
       "    .dataframe tbody tr th {\n",
       "        vertical-align: top;\n",
       "    }\n",
       "\n",
       "    .dataframe thead th {\n",
       "        text-align: right;\n",
       "    }\n",
       "</style>\n",
       "<table border=\"1\" class=\"dataframe\">\n",
       "  <thead>\n",
       "    <tr style=\"text-align: right;\">\n",
       "      <th></th>\n",
       "    </tr>\n",
       "    <tr>\n",
       "      <th>marke</th>\n",
       "    </tr>\n",
       "  </thead>\n",
       "  <tbody>\n",
       "    <tr>\n",
       "      <th>Canon</th>\n",
       "    </tr>\n",
       "    <tr>\n",
       "      <th>Nikon</th>\n",
       "    </tr>\n",
       "  </tbody>\n",
       "</table>\n",
       "</div>"
      ],
      "text/plain": [
       "Empty DataFrame\n",
       "Columns: []\n",
       "Index: [Canon, Nikon]"
      ]
     },
     "execution_count": 10,
     "metadata": {},
     "output_type": "execute_result"
    }
   ],
   "source": [
    "#grouping(kameras, ['marke'], []).print_table()\n",
    "\n",
    "# Load data from csv file\n",
    "#data = pd.DataFrame.from_csv('phone_data.csv')\n",
    "data = kameras.to_DataFrame()\n",
    "keys = 'marke'\n",
    "key = 'Canon'\n",
    "data.groupby([keys]).groups.keys()\n",
    "#len(data.groupby([keys]).groups[key])\n",
    "data.groupby([keys]).first()\n",
    "\n",
    "\n",
    "\n"
   ]
  },
  {
   "cell_type": "code",
   "execution_count": 37,
   "metadata": {},
   "outputs": [
    {
     "data": {
      "text/html": [
       "<div>\n",
       "<style scoped>\n",
       "    .dataframe tbody tr th:only-of-type {\n",
       "        vertical-align: middle;\n",
       "    }\n",
       "\n",
       "    .dataframe tbody tr th {\n",
       "        vertical-align: top;\n",
       "    }\n",
       "\n",
       "    .dataframe thead th {\n",
       "        text-align: right;\n",
       "    }\n",
       "</style>\n",
       "<table border=\"1\" class=\"dataframe\">\n",
       "  <thead>\n",
       "    <tr style=\"text-align: right;\">\n",
       "      <th></th>\n",
       "    </tr>\n",
       "    <tr>\n",
       "      <th>seniorid</th>\n",
       "    </tr>\n",
       "  </thead>\n",
       "  <tbody>\n",
       "    <tr>\n",
       "      <th>1</th>\n",
       "    </tr>\n",
       "    <tr>\n",
       "      <th>2</th>\n",
       "    </tr>\n",
       "  </tbody>\n",
       "</table>\n",
       "</div>"
      ],
      "text/plain": [
       "Empty DataFrame\n",
       "Columns: []\n",
       "Index: [1, 2]"
      ]
     },
     "execution_count": 37,
     "metadata": {},
     "output_type": "execute_result"
    }
   ],
   "source": [
    "#grouping(managed, ['seniorid'], [(sum, 'fotographid'),(max, 'fotographid')]).print_table()\n",
    "\n",
    "data = managed.to_DataFrame()\n",
    "keys = 'seniorid'\n",
    "#keys = 'fotographid'\n",
    "#keys = ['seniorid', 'fotographid']\n",
    "#key = 'seniorid'\n",
    "#data.groupby([keys]).groups.keys()\n",
    "#len(data.groupby([keys]).groups[key])\n",
    "#data.groupby(keys).groups.keys()\n",
    "df = data.groupby(keys).groups\n",
    "\n",
    "\n",
    "data.groupby(keys).count()\n",
    "#df\n",
    "\n",
    "#data.groupby('seniorid')[['fotographid']].sum()\n",
    "\n",
    "#data.groupby('fotographid', as_index=False).agg({\"fotographid\": \"sum\"})\n",
    "\n",
    "#data.groupby(['seniorid']).groups.keys()\n",
    "#data.groupby(['seniorid']).first()\n",
    "#data.groupby(keys).sum()\n",
    "\n",
    "\n",
    "#data.groupby([keys]).agg({\"fotographid\": \"sum\"})\n",
    "\n",
    "#{'B': ['min', 'max'], 'C': 'sum'}\n"
   ]
  },
  {
   "cell_type": "code",
   "execution_count": 33,
   "metadata": {},
   "outputs": [
    {
     "data": {
      "text/plain": [
       "{}"
      ]
     },
     "execution_count": 33,
     "metadata": {},
     "output_type": "execute_result"
    }
   ],
   "source": [
    "#grouped_df = data.groupby(keys)\n",
    "\n",
    "#for key, item in grouped_df:\n",
    "#    print(grouped_df.get_group(key), \"\\n\\n\")\n",
    "df.to_dict()"
   ]
  },
  {
   "cell_type": "code",
   "execution_count": 31,
   "metadata": {},
   "outputs": [
    {
     "name": "stderr",
     "output_type": "stream",
     "text": [
      "/home/user/UdS/InfoSys/projects/is18/lib/python3.5/site-packages/pandas/core/groupby.py:4291: FutureWarning: using a dict with renaming is deprecated and will be removed in a future version\n",
      "  return super(DataFrameGroupBy, self).aggregate(arg, *args, **kwargs)\n"
     ]
    },
    {
     "ename": "KeyError",
     "evalue": "'fotographid'",
     "output_type": "error",
     "traceback": [
      "\u001b[0;31m---------------------------------------------------------------------------\u001b[0m",
      "\u001b[0;31mKeyError\u001b[0m                                  Traceback (most recent call last)",
      "\u001b[0;32m~/UdS/InfoSys/projects/is18/lib/python3.5/site-packages/pandas/core/indexes/base.py\u001b[0m in \u001b[0;36mget_loc\u001b[0;34m(self, key, method, tolerance)\u001b[0m\n\u001b[1;32m   2524\u001b[0m             \u001b[0;32mtry\u001b[0m\u001b[0;34m:\u001b[0m\u001b[0;34m\u001b[0m\u001b[0m\n\u001b[0;32m-> 2525\u001b[0;31m                 \u001b[0;32mreturn\u001b[0m \u001b[0mself\u001b[0m\u001b[0;34m.\u001b[0m\u001b[0m_engine\u001b[0m\u001b[0;34m.\u001b[0m\u001b[0mget_loc\u001b[0m\u001b[0;34m(\u001b[0m\u001b[0mkey\u001b[0m\u001b[0;34m)\u001b[0m\u001b[0;34m\u001b[0m\u001b[0m\n\u001b[0m\u001b[1;32m   2526\u001b[0m             \u001b[0;32mexcept\u001b[0m \u001b[0mKeyError\u001b[0m\u001b[0;34m:\u001b[0m\u001b[0;34m\u001b[0m\u001b[0m\n",
      "\u001b[0;32mpandas/_libs/index.pyx\u001b[0m in \u001b[0;36mpandas._libs.index.IndexEngine.get_loc\u001b[0;34m()\u001b[0m\n",
      "\u001b[0;32mpandas/_libs/index.pyx\u001b[0m in \u001b[0;36mpandas._libs.index.IndexEngine.get_loc\u001b[0;34m()\u001b[0m\n",
      "\u001b[0;32mpandas/_libs/hashtable_class_helper.pxi\u001b[0m in \u001b[0;36mpandas._libs.hashtable.PyObjectHashTable.get_item\u001b[0;34m()\u001b[0m\n",
      "\u001b[0;32mpandas/_libs/hashtable_class_helper.pxi\u001b[0m in \u001b[0;36mpandas._libs.hashtable.PyObjectHashTable.get_item\u001b[0;34m()\u001b[0m\n",
      "\u001b[0;31mKeyError\u001b[0m: 'fotographid'",
      "\nDuring handling of the above exception, another exception occurred:\n",
      "\u001b[0;31mKeyError\u001b[0m                                  Traceback (most recent call last)",
      "\u001b[0;32m<ipython-input-31-b345c65495b4>\u001b[0m in \u001b[0;36m<module>\u001b[0;34m()\u001b[0m\n\u001b[1;32m      3\u001b[0m \u001b[0;31m#data.groupby(keys).agg({'fotographid': sum})\u001b[0m\u001b[0;34m\u001b[0m\u001b[0;34m\u001b[0m\u001b[0m\n\u001b[1;32m      4\u001b[0m \u001b[0;31m#data.groupby('seniorid')['fotographid'].agg('sum')\u001b[0m\u001b[0;34m\u001b[0m\u001b[0;34m\u001b[0m\u001b[0m\n\u001b[0;32m----> 5\u001b[0;31m \u001b[0mdata\u001b[0m\u001b[0;34m.\u001b[0m\u001b[0mgroupby\u001b[0m\u001b[0;34m(\u001b[0m\u001b[0mkeys\u001b[0m\u001b[0;34m)\u001b[0m\u001b[0;34m.\u001b[0m\u001b[0magg\u001b[0m\u001b[0;34m(\u001b[0m\u001b[0;34m{\u001b[0m\u001b[0;34m\"fotographid\"\u001b[0m\u001b[0;34m:\u001b[0m \u001b[0;34m\"sum\"\u001b[0m\u001b[0;34m}\u001b[0m\u001b[0;34m)\u001b[0m\u001b[0;34m\u001b[0m\u001b[0m\n\u001b[0m\u001b[1;32m      6\u001b[0m \u001b[0;34m\u001b[0m\u001b[0m\n\u001b[1;32m      7\u001b[0m \u001b[0;34m\u001b[0m\u001b[0m\n",
      "\u001b[0;32m~/UdS/InfoSys/projects/is18/lib/python3.5/site-packages/pandas/core/groupby.py\u001b[0m in \u001b[0;36maggregate\u001b[0;34m(self, arg, *args, **kwargs)\u001b[0m\n\u001b[1;32m   4289\u001b[0m         versionadded=''))\n\u001b[1;32m   4290\u001b[0m     \u001b[0;32mdef\u001b[0m \u001b[0maggregate\u001b[0m\u001b[0;34m(\u001b[0m\u001b[0mself\u001b[0m\u001b[0;34m,\u001b[0m \u001b[0marg\u001b[0m\u001b[0;34m,\u001b[0m \u001b[0;34m*\u001b[0m\u001b[0margs\u001b[0m\u001b[0;34m,\u001b[0m \u001b[0;34m**\u001b[0m\u001b[0mkwargs\u001b[0m\u001b[0;34m)\u001b[0m\u001b[0;34m:\u001b[0m\u001b[0;34m\u001b[0m\u001b[0m\n\u001b[0;32m-> 4291\u001b[0;31m         \u001b[0;32mreturn\u001b[0m \u001b[0msuper\u001b[0m\u001b[0;34m(\u001b[0m\u001b[0mDataFrameGroupBy\u001b[0m\u001b[0;34m,\u001b[0m \u001b[0mself\u001b[0m\u001b[0;34m)\u001b[0m\u001b[0;34m.\u001b[0m\u001b[0maggregate\u001b[0m\u001b[0;34m(\u001b[0m\u001b[0marg\u001b[0m\u001b[0;34m,\u001b[0m \u001b[0;34m*\u001b[0m\u001b[0margs\u001b[0m\u001b[0;34m,\u001b[0m \u001b[0;34m**\u001b[0m\u001b[0mkwargs\u001b[0m\u001b[0;34m)\u001b[0m\u001b[0;34m\u001b[0m\u001b[0m\n\u001b[0m\u001b[1;32m   4292\u001b[0m \u001b[0;34m\u001b[0m\u001b[0m\n\u001b[1;32m   4293\u001b[0m     \u001b[0magg\u001b[0m \u001b[0;34m=\u001b[0m \u001b[0maggregate\u001b[0m\u001b[0;34m\u001b[0m\u001b[0m\n",
      "\u001b[0;32m~/UdS/InfoSys/projects/is18/lib/python3.5/site-packages/pandas/core/groupby.py\u001b[0m in \u001b[0;36maggregate\u001b[0;34m(self, arg, *args, **kwargs)\u001b[0m\n\u001b[1;32m   3722\u001b[0m \u001b[0;34m\u001b[0m\u001b[0m\n\u001b[1;32m   3723\u001b[0m         \u001b[0m_level\u001b[0m \u001b[0;34m=\u001b[0m \u001b[0mkwargs\u001b[0m\u001b[0;34m.\u001b[0m\u001b[0mpop\u001b[0m\u001b[0;34m(\u001b[0m\u001b[0;34m'_level'\u001b[0m\u001b[0;34m,\u001b[0m \u001b[0;32mNone\u001b[0m\u001b[0;34m)\u001b[0m\u001b[0;34m\u001b[0m\u001b[0m\n\u001b[0;32m-> 3724\u001b[0;31m         \u001b[0mresult\u001b[0m\u001b[0;34m,\u001b[0m \u001b[0mhow\u001b[0m \u001b[0;34m=\u001b[0m \u001b[0mself\u001b[0m\u001b[0;34m.\u001b[0m\u001b[0m_aggregate\u001b[0m\u001b[0;34m(\u001b[0m\u001b[0marg\u001b[0m\u001b[0;34m,\u001b[0m \u001b[0m_level\u001b[0m\u001b[0;34m=\u001b[0m\u001b[0m_level\u001b[0m\u001b[0;34m,\u001b[0m \u001b[0;34m*\u001b[0m\u001b[0margs\u001b[0m\u001b[0;34m,\u001b[0m \u001b[0;34m**\u001b[0m\u001b[0mkwargs\u001b[0m\u001b[0;34m)\u001b[0m\u001b[0;34m\u001b[0m\u001b[0m\n\u001b[0m\u001b[1;32m   3725\u001b[0m         \u001b[0;32mif\u001b[0m \u001b[0mhow\u001b[0m \u001b[0;32mis\u001b[0m \u001b[0;32mNone\u001b[0m\u001b[0;34m:\u001b[0m\u001b[0;34m\u001b[0m\u001b[0m\n\u001b[1;32m   3726\u001b[0m             \u001b[0;32mreturn\u001b[0m \u001b[0mresult\u001b[0m\u001b[0;34m\u001b[0m\u001b[0m\n",
      "\u001b[0;32m~/UdS/InfoSys/projects/is18/lib/python3.5/site-packages/pandas/core/base.py\u001b[0m in \u001b[0;36m_aggregate\u001b[0;34m(self, arg, *args, **kwargs)\u001b[0m\n\u001b[1;32m    476\u001b[0m \u001b[0;34m\u001b[0m\u001b[0m\n\u001b[1;32m    477\u001b[0m                 \u001b[0;32mtry\u001b[0m\u001b[0;34m:\u001b[0m\u001b[0;34m\u001b[0m\u001b[0m\n\u001b[0;32m--> 478\u001b[0;31m                     \u001b[0mresult\u001b[0m \u001b[0;34m=\u001b[0m \u001b[0m_agg\u001b[0m\u001b[0;34m(\u001b[0m\u001b[0marg\u001b[0m\u001b[0;34m,\u001b[0m \u001b[0m_agg_1dim\u001b[0m\u001b[0;34m)\u001b[0m\u001b[0;34m\u001b[0m\u001b[0m\n\u001b[0m\u001b[1;32m    479\u001b[0m                 \u001b[0;32mexcept\u001b[0m \u001b[0mSpecificationError\u001b[0m\u001b[0;34m:\u001b[0m\u001b[0;34m\u001b[0m\u001b[0m\n\u001b[1;32m    480\u001b[0m \u001b[0;34m\u001b[0m\u001b[0m\n",
      "\u001b[0;32m~/UdS/InfoSys/projects/is18/lib/python3.5/site-packages/pandas/core/base.py\u001b[0m in \u001b[0;36m_agg\u001b[0;34m(arg, func)\u001b[0m\n\u001b[1;32m    427\u001b[0m                 \u001b[0mresult\u001b[0m \u001b[0;34m=\u001b[0m \u001b[0mcompat\u001b[0m\u001b[0;34m.\u001b[0m\u001b[0mOrderedDict\u001b[0m\u001b[0;34m(\u001b[0m\u001b[0;34m)\u001b[0m\u001b[0;34m\u001b[0m\u001b[0m\n\u001b[1;32m    428\u001b[0m                 \u001b[0;32mfor\u001b[0m \u001b[0mfname\u001b[0m\u001b[0;34m,\u001b[0m \u001b[0magg_how\u001b[0m \u001b[0;32min\u001b[0m \u001b[0mcompat\u001b[0m\u001b[0;34m.\u001b[0m\u001b[0miteritems\u001b[0m\u001b[0;34m(\u001b[0m\u001b[0marg\u001b[0m\u001b[0;34m)\u001b[0m\u001b[0;34m:\u001b[0m\u001b[0;34m\u001b[0m\u001b[0m\n\u001b[0;32m--> 429\u001b[0;31m                     \u001b[0mresult\u001b[0m\u001b[0;34m[\u001b[0m\u001b[0mfname\u001b[0m\u001b[0;34m]\u001b[0m \u001b[0;34m=\u001b[0m \u001b[0mfunc\u001b[0m\u001b[0;34m(\u001b[0m\u001b[0mfname\u001b[0m\u001b[0;34m,\u001b[0m \u001b[0magg_how\u001b[0m\u001b[0;34m)\u001b[0m\u001b[0;34m\u001b[0m\u001b[0m\n\u001b[0m\u001b[1;32m    430\u001b[0m                 \u001b[0;32mreturn\u001b[0m \u001b[0mresult\u001b[0m\u001b[0;34m\u001b[0m\u001b[0m\n\u001b[1;32m    431\u001b[0m \u001b[0;34m\u001b[0m\u001b[0m\n",
      "\u001b[0;32m~/UdS/InfoSys/projects/is18/lib/python3.5/site-packages/pandas/core/base.py\u001b[0m in \u001b[0;36m_agg_1dim\u001b[0;34m(name, how, subset)\u001b[0m\n\u001b[1;32m    406\u001b[0m                 \u001b[0maggregate\u001b[0m \u001b[0ma\u001b[0m \u001b[0;36m1\u001b[0m\u001b[0;34m-\u001b[0m\u001b[0mdim\u001b[0m \u001b[0;32mwith\u001b[0m \u001b[0mhow\u001b[0m\u001b[0;34m\u001b[0m\u001b[0m\n\u001b[1;32m    407\u001b[0m                 \"\"\"\n\u001b[0;32m--> 408\u001b[0;31m                 \u001b[0mcolg\u001b[0m \u001b[0;34m=\u001b[0m \u001b[0mself\u001b[0m\u001b[0;34m.\u001b[0m\u001b[0m_gotitem\u001b[0m\u001b[0;34m(\u001b[0m\u001b[0mname\u001b[0m\u001b[0;34m,\u001b[0m \u001b[0mndim\u001b[0m\u001b[0;34m=\u001b[0m\u001b[0;36m1\u001b[0m\u001b[0;34m,\u001b[0m \u001b[0msubset\u001b[0m\u001b[0;34m=\u001b[0m\u001b[0msubset\u001b[0m\u001b[0;34m)\u001b[0m\u001b[0;34m\u001b[0m\u001b[0m\n\u001b[0m\u001b[1;32m    409\u001b[0m                 \u001b[0;32mif\u001b[0m \u001b[0mcolg\u001b[0m\u001b[0;34m.\u001b[0m\u001b[0mndim\u001b[0m \u001b[0;34m!=\u001b[0m \u001b[0;36m1\u001b[0m\u001b[0;34m:\u001b[0m\u001b[0;34m\u001b[0m\u001b[0m\n\u001b[1;32m    410\u001b[0m                     raise SpecificationError(\"nested dictionary is ambiguous \"\n",
      "\u001b[0;32m~/UdS/InfoSys/projects/is18/lib/python3.5/site-packages/pandas/core/groupby.py\u001b[0m in \u001b[0;36m_gotitem\u001b[0;34m(self, key, ndim, subset)\u001b[0m\n\u001b[1;32m   4316\u001b[0m         \u001b[0;32melif\u001b[0m \u001b[0mndim\u001b[0m \u001b[0;34m==\u001b[0m \u001b[0;36m1\u001b[0m\u001b[0;34m:\u001b[0m\u001b[0;34m\u001b[0m\u001b[0m\n\u001b[1;32m   4317\u001b[0m             \u001b[0;32mif\u001b[0m \u001b[0msubset\u001b[0m \u001b[0;32mis\u001b[0m \u001b[0;32mNone\u001b[0m\u001b[0;34m:\u001b[0m\u001b[0;34m\u001b[0m\u001b[0m\n\u001b[0;32m-> 4318\u001b[0;31m                 \u001b[0msubset\u001b[0m \u001b[0;34m=\u001b[0m \u001b[0mself\u001b[0m\u001b[0;34m.\u001b[0m\u001b[0mobj\u001b[0m\u001b[0;34m[\u001b[0m\u001b[0mkey\u001b[0m\u001b[0;34m]\u001b[0m\u001b[0;34m\u001b[0m\u001b[0m\n\u001b[0m\u001b[1;32m   4319\u001b[0m             return SeriesGroupBy(subset, selection=key,\n\u001b[1;32m   4320\u001b[0m                                  grouper=self.grouper)\n",
      "\u001b[0;32m~/UdS/InfoSys/projects/is18/lib/python3.5/site-packages/pandas/core/frame.py\u001b[0m in \u001b[0;36m__getitem__\u001b[0;34m(self, key)\u001b[0m\n\u001b[1;32m   2137\u001b[0m             \u001b[0;32mreturn\u001b[0m \u001b[0mself\u001b[0m\u001b[0;34m.\u001b[0m\u001b[0m_getitem_multilevel\u001b[0m\u001b[0;34m(\u001b[0m\u001b[0mkey\u001b[0m\u001b[0;34m)\u001b[0m\u001b[0;34m\u001b[0m\u001b[0m\n\u001b[1;32m   2138\u001b[0m         \u001b[0;32melse\u001b[0m\u001b[0;34m:\u001b[0m\u001b[0;34m\u001b[0m\u001b[0m\n\u001b[0;32m-> 2139\u001b[0;31m             \u001b[0;32mreturn\u001b[0m \u001b[0mself\u001b[0m\u001b[0;34m.\u001b[0m\u001b[0m_getitem_column\u001b[0m\u001b[0;34m(\u001b[0m\u001b[0mkey\u001b[0m\u001b[0;34m)\u001b[0m\u001b[0;34m\u001b[0m\u001b[0m\n\u001b[0m\u001b[1;32m   2140\u001b[0m \u001b[0;34m\u001b[0m\u001b[0m\n\u001b[1;32m   2141\u001b[0m     \u001b[0;32mdef\u001b[0m \u001b[0m_getitem_column\u001b[0m\u001b[0;34m(\u001b[0m\u001b[0mself\u001b[0m\u001b[0;34m,\u001b[0m \u001b[0mkey\u001b[0m\u001b[0;34m)\u001b[0m\u001b[0;34m:\u001b[0m\u001b[0;34m\u001b[0m\u001b[0m\n",
      "\u001b[0;32m~/UdS/InfoSys/projects/is18/lib/python3.5/site-packages/pandas/core/frame.py\u001b[0m in \u001b[0;36m_getitem_column\u001b[0;34m(self, key)\u001b[0m\n\u001b[1;32m   2144\u001b[0m         \u001b[0;31m# get column\u001b[0m\u001b[0;34m\u001b[0m\u001b[0;34m\u001b[0m\u001b[0m\n\u001b[1;32m   2145\u001b[0m         \u001b[0;32mif\u001b[0m \u001b[0mself\u001b[0m\u001b[0;34m.\u001b[0m\u001b[0mcolumns\u001b[0m\u001b[0;34m.\u001b[0m\u001b[0mis_unique\u001b[0m\u001b[0;34m:\u001b[0m\u001b[0;34m\u001b[0m\u001b[0m\n\u001b[0;32m-> 2146\u001b[0;31m             \u001b[0;32mreturn\u001b[0m \u001b[0mself\u001b[0m\u001b[0;34m.\u001b[0m\u001b[0m_get_item_cache\u001b[0m\u001b[0;34m(\u001b[0m\u001b[0mkey\u001b[0m\u001b[0;34m)\u001b[0m\u001b[0;34m\u001b[0m\u001b[0m\n\u001b[0m\u001b[1;32m   2147\u001b[0m \u001b[0;34m\u001b[0m\u001b[0m\n\u001b[1;32m   2148\u001b[0m         \u001b[0;31m# duplicate columns & possible reduce dimensionality\u001b[0m\u001b[0;34m\u001b[0m\u001b[0;34m\u001b[0m\u001b[0m\n",
      "\u001b[0;32m~/UdS/InfoSys/projects/is18/lib/python3.5/site-packages/pandas/core/generic.py\u001b[0m in \u001b[0;36m_get_item_cache\u001b[0;34m(self, item)\u001b[0m\n\u001b[1;32m   1840\u001b[0m         \u001b[0mres\u001b[0m \u001b[0;34m=\u001b[0m \u001b[0mcache\u001b[0m\u001b[0;34m.\u001b[0m\u001b[0mget\u001b[0m\u001b[0;34m(\u001b[0m\u001b[0mitem\u001b[0m\u001b[0;34m)\u001b[0m\u001b[0;34m\u001b[0m\u001b[0m\n\u001b[1;32m   1841\u001b[0m         \u001b[0;32mif\u001b[0m \u001b[0mres\u001b[0m \u001b[0;32mis\u001b[0m \u001b[0;32mNone\u001b[0m\u001b[0;34m:\u001b[0m\u001b[0;34m\u001b[0m\u001b[0m\n\u001b[0;32m-> 1842\u001b[0;31m             \u001b[0mvalues\u001b[0m \u001b[0;34m=\u001b[0m \u001b[0mself\u001b[0m\u001b[0;34m.\u001b[0m\u001b[0m_data\u001b[0m\u001b[0;34m.\u001b[0m\u001b[0mget\u001b[0m\u001b[0;34m(\u001b[0m\u001b[0mitem\u001b[0m\u001b[0;34m)\u001b[0m\u001b[0;34m\u001b[0m\u001b[0m\n\u001b[0m\u001b[1;32m   1843\u001b[0m             \u001b[0mres\u001b[0m \u001b[0;34m=\u001b[0m \u001b[0mself\u001b[0m\u001b[0;34m.\u001b[0m\u001b[0m_box_item_values\u001b[0m\u001b[0;34m(\u001b[0m\u001b[0mitem\u001b[0m\u001b[0;34m,\u001b[0m \u001b[0mvalues\u001b[0m\u001b[0;34m)\u001b[0m\u001b[0;34m\u001b[0m\u001b[0m\n\u001b[1;32m   1844\u001b[0m             \u001b[0mcache\u001b[0m\u001b[0;34m[\u001b[0m\u001b[0mitem\u001b[0m\u001b[0;34m]\u001b[0m \u001b[0;34m=\u001b[0m \u001b[0mres\u001b[0m\u001b[0;34m\u001b[0m\u001b[0m\n",
      "\u001b[0;32m~/UdS/InfoSys/projects/is18/lib/python3.5/site-packages/pandas/core/internals.py\u001b[0m in \u001b[0;36mget\u001b[0;34m(self, item, fastpath)\u001b[0m\n\u001b[1;32m   3841\u001b[0m \u001b[0;34m\u001b[0m\u001b[0m\n\u001b[1;32m   3842\u001b[0m             \u001b[0;32mif\u001b[0m \u001b[0;32mnot\u001b[0m \u001b[0misna\u001b[0m\u001b[0;34m(\u001b[0m\u001b[0mitem\u001b[0m\u001b[0;34m)\u001b[0m\u001b[0;34m:\u001b[0m\u001b[0;34m\u001b[0m\u001b[0m\n\u001b[0;32m-> 3843\u001b[0;31m                 \u001b[0mloc\u001b[0m \u001b[0;34m=\u001b[0m \u001b[0mself\u001b[0m\u001b[0;34m.\u001b[0m\u001b[0mitems\u001b[0m\u001b[0;34m.\u001b[0m\u001b[0mget_loc\u001b[0m\u001b[0;34m(\u001b[0m\u001b[0mitem\u001b[0m\u001b[0;34m)\u001b[0m\u001b[0;34m\u001b[0m\u001b[0m\n\u001b[0m\u001b[1;32m   3844\u001b[0m             \u001b[0;32melse\u001b[0m\u001b[0;34m:\u001b[0m\u001b[0;34m\u001b[0m\u001b[0m\n\u001b[1;32m   3845\u001b[0m                 \u001b[0mindexer\u001b[0m \u001b[0;34m=\u001b[0m \u001b[0mnp\u001b[0m\u001b[0;34m.\u001b[0m\u001b[0marange\u001b[0m\u001b[0;34m(\u001b[0m\u001b[0mlen\u001b[0m\u001b[0;34m(\u001b[0m\u001b[0mself\u001b[0m\u001b[0;34m.\u001b[0m\u001b[0mitems\u001b[0m\u001b[0;34m)\u001b[0m\u001b[0;34m)\u001b[0m\u001b[0;34m[\u001b[0m\u001b[0misna\u001b[0m\u001b[0;34m(\u001b[0m\u001b[0mself\u001b[0m\u001b[0;34m.\u001b[0m\u001b[0mitems\u001b[0m\u001b[0;34m)\u001b[0m\u001b[0;34m]\u001b[0m\u001b[0;34m\u001b[0m\u001b[0m\n",
      "\u001b[0;32m~/UdS/InfoSys/projects/is18/lib/python3.5/site-packages/pandas/core/indexes/base.py\u001b[0m in \u001b[0;36mget_loc\u001b[0;34m(self, key, method, tolerance)\u001b[0m\n\u001b[1;32m   2525\u001b[0m                 \u001b[0;32mreturn\u001b[0m \u001b[0mself\u001b[0m\u001b[0;34m.\u001b[0m\u001b[0m_engine\u001b[0m\u001b[0;34m.\u001b[0m\u001b[0mget_loc\u001b[0m\u001b[0;34m(\u001b[0m\u001b[0mkey\u001b[0m\u001b[0;34m)\u001b[0m\u001b[0;34m\u001b[0m\u001b[0m\n\u001b[1;32m   2526\u001b[0m             \u001b[0;32mexcept\u001b[0m \u001b[0mKeyError\u001b[0m\u001b[0;34m:\u001b[0m\u001b[0;34m\u001b[0m\u001b[0m\n\u001b[0;32m-> 2527\u001b[0;31m                 \u001b[0;32mreturn\u001b[0m \u001b[0mself\u001b[0m\u001b[0;34m.\u001b[0m\u001b[0m_engine\u001b[0m\u001b[0;34m.\u001b[0m\u001b[0mget_loc\u001b[0m\u001b[0;34m(\u001b[0m\u001b[0mself\u001b[0m\u001b[0;34m.\u001b[0m\u001b[0m_maybe_cast_indexer\u001b[0m\u001b[0;34m(\u001b[0m\u001b[0mkey\u001b[0m\u001b[0;34m)\u001b[0m\u001b[0;34m)\u001b[0m\u001b[0;34m\u001b[0m\u001b[0m\n\u001b[0m\u001b[1;32m   2528\u001b[0m \u001b[0;34m\u001b[0m\u001b[0m\n\u001b[1;32m   2529\u001b[0m         \u001b[0mindexer\u001b[0m \u001b[0;34m=\u001b[0m \u001b[0mself\u001b[0m\u001b[0;34m.\u001b[0m\u001b[0mget_indexer\u001b[0m\u001b[0;34m(\u001b[0m\u001b[0;34m[\u001b[0m\u001b[0mkey\u001b[0m\u001b[0;34m]\u001b[0m\u001b[0;34m,\u001b[0m \u001b[0mmethod\u001b[0m\u001b[0;34m=\u001b[0m\u001b[0mmethod\u001b[0m\u001b[0;34m,\u001b[0m \u001b[0mtolerance\u001b[0m\u001b[0;34m=\u001b[0m\u001b[0mtolerance\u001b[0m\u001b[0;34m)\u001b[0m\u001b[0;34m\u001b[0m\u001b[0m\n",
      "\u001b[0;32mpandas/_libs/index.pyx\u001b[0m in \u001b[0;36mpandas._libs.index.IndexEngine.get_loc\u001b[0;34m()\u001b[0m\n",
      "\u001b[0;32mpandas/_libs/index.pyx\u001b[0m in \u001b[0;36mpandas._libs.index.IndexEngine.get_loc\u001b[0;34m()\u001b[0m\n",
      "\u001b[0;32mpandas/_libs/hashtable_class_helper.pxi\u001b[0m in \u001b[0;36mpandas._libs.hashtable.PyObjectHashTable.get_item\u001b[0;34m()\u001b[0m\n",
      "\u001b[0;32mpandas/_libs/hashtable_class_helper.pxi\u001b[0m in \u001b[0;36mpandas._libs.hashtable.PyObjectHashTable.get_item\u001b[0;34m()\u001b[0m\n",
      "\u001b[0;31mKeyError\u001b[0m: 'fotographid'"
     ]
    }
   ],
   "source": [
    "#data.groupby('seniorid').sum()\n",
    "#data.groupby('fotographid').sum()\n",
    "#data.groupby(keys).agg({'fotographid': sum})\n",
    "#data.groupby('seniorid')['fotographid'].agg('sum')\n",
    "data.groupby(keys).agg({\"fotographid\": \"sum\"})\n",
    "\n",
    "\n",
    "\n"
   ]
  },
  {
   "cell_type": "code",
   "execution_count": 18,
   "metadata": {},
   "outputs": [],
   "source": [
    "#grouping(kameras, ['marke'], []).print_table()\n",
    "#grouping(kameras, ['marke'], [])\n"
   ]
  },
  {
   "cell_type": "code",
   "execution_count": 19,
   "metadata": {},
   "outputs": [
    {
     "data": {
      "text/html": [
       "<div>\n",
       "<style scoped>\n",
       "    .dataframe tbody tr th:only-of-type {\n",
       "        vertical-align: middle;\n",
       "    }\n",
       "\n",
       "    .dataframe tbody tr th {\n",
       "        vertical-align: top;\n",
       "    }\n",
       "\n",
       "    .dataframe thead th {\n",
       "        text-align: right;\n",
       "    }\n",
       "</style>\n",
       "<table border=\"1\" class=\"dataframe\">\n",
       "  <thead>\n",
       "    <tr style=\"text-align: right;\">\n",
       "      <th></th>\n",
       "    </tr>\n",
       "    <tr>\n",
       "      <th>marke</th>\n",
       "    </tr>\n",
       "  </thead>\n",
       "  <tbody>\n",
       "    <tr>\n",
       "      <th>Canon</th>\n",
       "    </tr>\n",
       "    <tr>\n",
       "      <th>Nikon</th>\n",
       "    </tr>\n",
       "  </tbody>\n",
       "</table>\n",
       "</div>"
      ],
      "text/plain": [
       "Empty DataFrame\n",
       "Columns: []\n",
       "Index: [Canon, Nikon]"
      ]
     },
     "execution_count": 19,
     "metadata": {},
     "output_type": "execute_result"
    }
   ],
   "source": [
    "df = kameras.to_DataFrame()\n",
    "marke = df.groupby('marke')\n",
    "#marke.first()\n",
    "#marke.last()\n",
    "marke.max()\n",
    "\n",
    "#marke.aggregate()\n",
    "    "
   ]
  },
  {
   "cell_type": "code",
   "execution_count": null,
   "metadata": {},
   "outputs": [],
   "source": [
    "tup = kameras.tuples\n",
    "tup"
   ]
  },
  {
   "cell_type": "code",
   "execution_count": null,
   "metadata": {},
   "outputs": [],
   "source": [
    "# 3.0 Punkte\n",
    "# Grading Test:\n",
    "grouping(kameras, ['marke'], []).print_table()  # Kameras gruppiert nach Marke (keine Aggregation)\n",
    "# expected output:\n",
    "#------------------\n",
    "#γ_{marke}(kameras) \n",
    "#------------------\n",
    "#marke   \n",
    "#------------------\n",
    "#Canon  \n",
    "#Nikon \n",
    "# grouping(managed, ['seniorid'], [(sum, 'fotographid'),(max, 'fotographid')]).print_table()  # Für jeden Senior, die Summe der FotographIDs und die maximale FotographID, der Fotographen, die sie managen (mit Aggregation)\n",
    "# expected output:\n",
    "#-------------------------------------------------------\n",
    "#γ_{seniorid,sum(fotographid),max(fotographid)}(managed) \n",
    "#-------------------------------------------------------\n",
    "#seniorid         sum_fotographid  max_fotographid   \n",
    "#-------------------------------------------------------\n",
    "#1                9                6                \n",
    "#2                13               7                        "
   ]
  },
  {
   "cell_type": "markdown",
   "metadata": {},
   "source": [
    "## Aufgabe 2: Übersetzung (3 Punkte)\n",
    "\n",
    "In dieser Aufgabe sollen Anfragen in natürlicher Sprache in Ausdrücke der relationalen Alegbra und umgekehrt übersetzt werden. Als Grundlage dienen dazu die Relationen der Foto-Datenbank, die bereits in der Vorlesung und der vorherigen Aufgabe verwendet wurde. Nachfolgend sind noch mal die Schemata aller Relationen aufgelistet.\n",
    "\n",
    "Unterstrichene Attribute sind dabei Primärschlüssel. Tupel können über dieses Attribut eindeutig identifiziert werden, d.h. es gibt keine zwei Tupel mit dem gleichen Wert für dieses Attribut.\n",
    "\n",
    "Die Pfeile zeigen Fremdschlüsselbeziehungen an. Fremdschlüssel entsprechen dem Primärschlüssel einer anderen Relation und sind daher wichtig bei Joins. In der Relation *Kunden* zeigt die PersonID beispielsweise auf die Relation Personen und verweist damit auf das Tupel dieser Relation, mit dem es inhaltlich in Verbindung steht."
   ]
  },
  {
   "cell_type": "markdown",
   "metadata": {},
   "source": [
    " $ \\small {[}\\text{Personen}{]}: \\{{[} \\underline{ID: int}, Name: string, Vorname: string, Geburtsdatum: date {]}\\} $\n",
    "\n",
    "$ \\small {[}\\text{Mitarbeiter}{]}: \\{{[} \\underline{PersonID: int \\rightarrow Personen}, Gehalt: int, Erfahrung: int \\rightarrow Erfahrungsstufen {]}\\} $\n",
    "\n",
    "$ \\small {[}\\text{Erfahrungsstufen}{]}: \\{{[} \\underline{ID: int}, Bezeichnung: string {]}\\} $\n",
    "\n",
    "$ \\small {[}\\text{Kunden}{]}: \\{{[} \\underline{PersonID: int \\rightarrow Personen}, Branche: string {]}\\} $\n",
    "\n",
    "$ \\small {[}\\text{Seniors}{]}: \\{{[} \\underline{MitarbeiterID: int \\rightarrow Mitarbeiter}, AnzahlGraueHaare: int, Bonus: int {]}\\} $\n",
    "\n",
    "$ \\small {[}\\text{Verkaeufer}{]}: \\{{[} \\underline{MitarbeiterID: int \\rightarrow Mitarbeiter}, Spezialgebiet: string {]}\\} $\n",
    "\n",
    "$ \\small {[}\\text{Fotographen}{]}: \\{{[} \\underline{MitarbeiterID: int \\rightarrow Mitarbeiter}{]}\\} $\n",
    "\n",
    "$ \\small {[}\\text{Fotoabzuege}{]}: \\{{[} \\underline{Foto: int \\rightarrow Fotos, Zeitstempel: string}, Bildgroesse: int{]}\\} $\n",
    "\n",
    "$ \\small {[}\\text{Fotos}{]}: \\{{[} \\underline{ID: int}, GPSKoordinaten: point, Aufnahmezeitpunkt: string, Fotograph: int \\rightarrow Fotographen,  Kamera: int \\rightarrow  Kameras{]}\\} $\n",
    "\n",
    "$ \\small {[}\\text{Kameras}{]}: \\{{[} \\underline{ID: int}, Marke: string, Modell: string{]}\\} $\n",
    "\n",
    "$ \\small {[}\\text{Managed}{]}: \\{{[} \\underline{SeniorID: int \\rightarrow Seniors, FotographID: int \\rightarrow Fotographen, Von: date}, Bis: date{]}\\} $\n",
    "\n",
    "$ \\small {[}\\text{Verkaufen}{]}: \\{{[} \\underline{Kunde: int \\rightarrow Kunden, Verkaeufer: int  \\rightarrow Verkaeufer,} \\underline{Foto: int \\rightarrow Fotos}, Preis: int{]}\\} $"
   ]
  },
  {
   "cell_type": "markdown",
   "metadata": {},
   "source": [
    "### 2.1 Natürliche Sprache nach Relationale Alegbra (1.5 Punkte)\n",
    "\n",
    "Übersetze die folgenden umgasprachlichen Ausdrücke in Ausdrücke der relationalen Alegbra. Bei komplexen Ausdrücken empfiehlt es sich Variablen für Teilausdrücke einzuführen. So könnte man beispielsweise einen Teilausdruck Angestellte wiefolgt einführen:\n",
    "\n",
    "$$ \\text{Angestellte} := \\text{Personen} \\ltimes \\text{Mitarbeiter} $$\n",
    "\n",
    "Bei der Bennennung der Variablen solltet ihr darauf achten, dass es noch keine Relation mit dem gleichen Namen gibt.\n",
    "Den LaTeX-Befehl für alle wichtigen Operatoren findet ihr [hier](http://dbai.tuwien.ac.at/education/dm/resources/symbols.html).\n",
    "\n",
    "* Die IDs aller Fotographen, die schon mehr als 100 Bilder gemacht haben."
   ]
  },
  {
   "cell_type": "markdown",
   "metadata": {},
   "source": [
    "$$ # TODO $$"
   ]
  },
  {
   "cell_type": "code",
   "execution_count": null,
   "metadata": {},
   "outputs": [],
   "source": [
    "# 0.5 Punkte"
   ]
  },
  {
   "cell_type": "markdown",
   "metadata": {},
   "source": [
    "* Vor- und Nachname aller Seniors, die einen höheren Bonus erhalten als die Summe der Gehälter aller Fotographen, die von ihnen gemanagt werden."
   ]
  },
  {
   "cell_type": "markdown",
   "metadata": {},
   "source": [
    "Seniors und die Summe der gehälter der Fotographen, die sie managed:\n",
    "$$ # TODO $$"
   ]
  },
  {
   "cell_type": "code",
   "execution_count": null,
   "metadata": {},
   "outputs": [],
   "source": [
    "# 1.0 Punkt"
   ]
  },
  {
   "cell_type": "markdown",
   "metadata": {},
   "source": [
    "### 2.2 Relationale Algebra nach natürliche Sprache (1.5 Punkte)\n",
    "\n",
    "In diesem Aufgabeteil soll die Übersetzung in die andere Richtung durchgeführt werden. Übersetze die nachfolgenden Ausdrücke der relationalen Algebra in natürliche Sprache. Versuche dabei präzise Formulierungen zu wählen.\n",
    "\n",
    "* $ \\pi_{Vorname, Geburtsdatum}(\\sigma_{Geburtsdatum<01.01.2000} Personen) $"
   ]
  },
  {
   "cell_type": "markdown",
   "metadata": {},
   "source": [
    "### TODO"
   ]
  },
  {
   "cell_type": "code",
   "execution_count": null,
   "metadata": {},
   "outputs": [],
   "source": [
    "# 0.5 Punkte"
   ]
  },
  {
   "cell_type": "markdown",
   "metadata": {},
   "source": [
    "* $ \\pi_{ID}\\Big (\\sigma_{Erfahrung==ID \\land Bezeichnung=='Fortgeschrittener'}(\\text{Mitarbeiter} \\times \\text{Erfahrungsstufen})\\Big) $"
   ]
  },
  {
   "cell_type": "markdown",
   "metadata": {},
   "source": [
    "### TODO"
   ]
  },
  {
   "cell_type": "code",
   "execution_count": null,
   "metadata": {},
   "outputs": [],
   "source": [
    "# 1.0 Punkte"
   ]
  },
  {
   "cell_type": "markdown",
   "metadata": {},
   "source": [
    "## Aufgabe 3: Ausgabegröße (1 Punkt)\n",
    "\n",
    "Sowohl beim Anwenden der Selektion als auch der Projektion auf eine Relation kann es sein, dass die Anzahl der Tupel in der Ergebnisrelation geringer ist als in der ursprünglichen Relation. Erkläre für beide Operatoren kurz, wie es dazu kommen kann."
   ]
  },
  {
   "cell_type": "markdown",
   "metadata": {},
   "source": [
    "### TODO"
   ]
  },
  {
   "cell_type": "code",
   "execution_count": null,
   "metadata": {},
   "outputs": [],
   "source": [
    "# 1.0 Punkte"
   ]
  },
  {
   "cell_type": "markdown",
   "metadata": {},
   "source": [
    "## Abgabe\n",
    "\n",
    "Das Jupyter Notebook ist über das CMS bis zum dort angegebenen Abgabezeitpunkt (Donnerstag Morgen 10 Uhr) hochzuladen. Setzt vor dem Hochladen alle Outputs über `Kernel -> Restart & Clear Outputs` zurück. Ladet eine einzelne `.ipynb` Datei hoch, insbesondere sollen Datensätze nicht mit abgegeben werden. Tragt nachfolgend alle Teammitglieder mit Matrikelnummer ein.\n",
    "\n",
    "Team:\n",
    "- **hier Team eintragen:** Vorname Nachname (Matrikelnummer)\n",
    "- **hier Team eintragen:** Vorname Nachname (Matrikelnummer)\n",
    "- **hier Team eintragen:** Vorname Nachname (Matrikelnummer)"
   ]
  }
 ],
 "metadata": {
  "kernelspec": {
   "display_name": "Python 3",
   "language": "python",
   "name": "python3"
  },
  "language_info": {
   "codemirror_mode": {
    "name": "ipython",
    "version": 3
   },
   "file_extension": ".py",
   "mimetype": "text/x-python",
   "name": "python",
   "nbconvert_exporter": "python",
   "pygments_lexer": "ipython3",
   "version": "3.5.2"
  },
  "varInspector": {
   "cols": {
    "lenName": 16,
    "lenType": 16,
    "lenVar": 40
   },
   "kernels_config": {
    "python": {
     "delete_cmd_postfix": "",
     "delete_cmd_prefix": "del ",
     "library": "var_list.py",
     "varRefreshCmd": "print(var_dic_list())"
    },
    "r": {
     "delete_cmd_postfix": ") ",
     "delete_cmd_prefix": "rm(",
     "library": "var_list.r",
     "varRefreshCmd": "cat(var_dic_list()) "
    }
   },
   "types_to_exclude": [
    "module",
    "function",
    "builtin_function_or_method",
    "instance",
    "_Feature"
   ],
   "window_display": false
  }
 },
 "nbformat": 4,
 "nbformat_minor": 2
}
