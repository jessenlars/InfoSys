{
 "cells": [
  {
   "cell_type": "markdown",
   "metadata": {},
   "source": [
    "# Notebook 2: Relationale Algebra"
   ]
  },
  {
   "cell_type": "markdown",
   "metadata": {},
   "source": [
    "## Aufgabe 1: Relationale Algebra in Python (6 Punkte)\n",
    "\n",
    "In dieser Aufgabe sollt ihr selbst zwei abgeleitete Operatoren und den Grouping-Operator der relationalen Algebra implementieren.\n",
    "\n",
    "In unserer Implementierung erlauben wir im Gegensatz zur allgemeinen Definition aus der Vorlesung keine gleichnamigen Attribute. Dadurch müssen wir uns nicht um mehrdeutige Attributnamen beim kartesischen Produkt (oder abgeleiteten Operatoren) kümmern und keine Punkt-Notation zum Referenzieren von Attributen verwenden.\n",
    "\n",
    "Als Basis für unsere Implementierung dient die Klasse `Relation` aus der `relation.py`. Sie beschreibt eine Relation mit Name, Schema (bestehend aus Attributnamen und Domains) und eine Menge von Tupeln. Für euch sind insbesondere die folgenden Methoden der Klasse wichtig:\n",
    "* `__init__`: Der Konstruktor bildet aus einem Namen `name` und ein Schema `schema` eine neue **leere** Relation.\n",
    "* `add_tuple`: Fügt der Relation ein Tupel `tup` hinzu falls das Schema übereinstimmt\n",
    "* `set_name`: Ändert den Namen eines Relationsobjekts in `name` um. Im Unterschied zu `renaming_relation` wird kein neues Relationsobjekt erzeugt. Die Umbenennung findet also *in-place* statt. Diese Methode ist wichtig um bei der Implementierung abgeleiteter Operatoren, den richtigen Relationsnamen zu setzen.\n",
    "* `print_table`: Gibt die Relation in tabellarischer Form aus.\n",
    "Außerdem hat Relation die folgenden Hilfsmethoden, die beim Grouping-Operator benötigt werden:\n",
    "* `has_attribute`: Gibt für ein Attributnamen `attribute` den Wert `True` zurück, wenn die Relation ein Attribut mit diesem Namen besitzt.\n",
    "* `get_attribute_domain`: Gibt für ein Attributnamen `attribute` des Typen zurück, wenn die Relation ein Attribut mit diesem Namen besitzt.\n",
    "* `get_attribute_index`: Gibt für ein Attributnamen `attribute` die Position zurück, an der dieses Attribut im Schema der Relation steht, wenn die Relation ein Attribut mit diesem Namen besitzt.\n",
    "\n",
    "Alle anderen Methoden, die die Klasse bereitstellt, sollten bei der Bearbeitung der Aufgabe keine Rolle spielen, sind aber auch dokumentiert.\n",
    "\n",
    "Zunächst importieren wir die Klasse `Relation` und alle Basisoperatoren aus der Vorlesung in dieses Notebook, indem wir mithilfe von Cell Magic das Skript `relation.py`, in dem diese definiert sind, ausführen."
   ]
  },
  {
   "cell_type": "code",
   "execution_count": null,
   "metadata": {},
   "outputs": [],
   "source": [
    "%run relation  # runs the relation.py and thereby imports the Relation class and predefined base operators"
   ]
  },
  {
   "cell_type": "markdown",
   "metadata": {},
   "source": [
    "Anschließend lesen wir alle Relationen aus dem PhotoDB Schema über die zur Verfügung gestellten .csv-Dateien ein. Hierzu wird die Funktion `load_csv` verwendet, die jeweils ein fertiges Relationsobjekt für jede .csv-Datei erstellt."
   ]
  },
  {
   "cell_type": "code",
   "execution_count": null,
   "metadata": {},
   "outputs": [],
   "source": [
    "# load .csv files into relation objects\n",
    "erfahrungsstufen = load_csv('photodb/erfahrungsstufen.csv', 'erfahrungsstufen')\n",
    "fotoabzuege = load_csv('photodb/fotoabzuege.csv', 'fotoabzuege')\n",
    "fotographen = load_csv('photodb/fotographen.csv', 'fotographen')\n",
    "fotos = load_csv('photodb/fotos.csv', 'fotos')\n",
    "kameras = load_csv('photodb/kameras.csv', 'kameras')\n",
    "kunden = load_csv('photodb/kunden.csv', 'kunden')\n",
    "managed = load_csv('photodb/managed.csv', 'managed')\n",
    "mitarbeiter = load_csv('photodb/mitarbeiter.csv', 'mitarbeiter')\n",
    "personen = load_csv('photodb/personen.csv', 'personen')\n",
    "seniors = load_csv('photodb/seniors.csv', 'seniors')\n",
    "verkaufen = load_csv('photodb/verkaufen.csv', 'verkaufen')\n",
    "verkaeufer = load_csv('photodb/verkaeufer.csv', 'verkaeufer')"
   ]
  },
  {
   "cell_type": "markdown",
   "metadata": {},
   "source": [
    "Um den Einstieg etwas zu erleichtern, schauen wir uns zunächst die Implementierung des abgeleiteten Schnitt-Operators (intersection) an. Unsere Implementierung sieht wie folgt aus:\n",
    "\n",
    "```python\n",
    "def intersection(relation1, relation2):\n",
    "    \"\"\"\n",
    "    Computes the intersection of two relations\n",
    "\n",
    "    :param relation1: the first relation\n",
    "    :param relation2:  the second relation\n",
    "    :return: a new relation representing the intersection of the given relations\n",
    "    \"\"\"\n",
    "    # integrity checks\n",
    "    assert relation1.attributes == relation2.attributes  # the schema of both relations has to be identical\n",
    "    assert relation1.domains == relation2.domains  # # the schema of both relations has to be identical\n",
    "    # create empty new relation\n",
    "    new_name = '(' + relation1.name + ') ∩ (' + relation2.name + ')'\n",
    "    new_schema = build_schema(relation1.attributes, relation1.domains)\n",
    "    new_relation = Relation(new_name, new_schema)\n",
    "    # add all tuples of the intersection to the new relation\n",
    "    for tup in relation1.tuples & relation2.tuples:\n",
    "        new_relation.add_tuple(tup)\n",
    "    return new_relation\n",
    "```\n",
    "\n",
    "Die Funktion ist folgendermaßen aufgebaut:\n",
    "* Als Argumente bekommt sie zwei Relationen `relation1` und `relation2`, deren Schnitt berechnet werden soll.\n",
    "* Da der Schnitt voraussetzt, dass die Schemata der beiden Relationen gleich sein müssen, testen wir dies zunächst mit zwei Assertions. Dabei testet der erste Ausdruck die Gleichheit der Attributnamen beider Relationen und der zweite die Gleichheit der Typen (oder Domains). Intern verwaltet ein Relationsobjekt sein Schema als ein Tupel von Attributnamen (`attributes`) und ein Tupel von Typen zu den entsprechenden Attributnamen (`domains`).\n",
    "* Anschließend wird eine neue, leere Relation erstellt. Zum Erstellen einer Relation benötigen wir einen Namen (`new_name`) und das Schema (`new_schema`) der Ergebnisrelation. Als Namen wählen wir die Operation (Schnitt) in Verbindung mit den Namen der beiden Eingaberelationen. Da die Schemata beider Eingaberelationen gleich sind, können wir einfach eines der Schemata übernehmen. Hierzu verwenden wir die Hilfsfunktion `build_schema`, die aus einem Tupel aus Attributnamen und einem Tupel aus Typen ein Schema, wie es vom Konstruktor erwartet wird, erstellt. Die leere Relation wird dann durch Aufrufen des Konstruktors `Relation` mit den beiden Parametern `new_name` und `new_schema` erstellt.\n",
    "* Zum Schluss müssen noch die Tupel in die Relation eingefügt werden, die Teil der Ergebnisrelation sind. Intern verwaltet die Klasse `Relation` Tupel in einem `set` mit dem Namen `tuples`, das automatisch Doppelvorkommen eliminiert. Da die grundlegenden Mengenoperationen auf `sets` in Python vordefiniert sind, reicht es den Schnitt der beiden Tupelsets mit dem `&` Operator zu bilden und alle resultierenden Tupel in einer `for`-Schleife mit `add_tuple` in die Ergebnisrelation `new_relation` einzufügen und anschließend zurückzugeben.\n",
    "\n",
    "Im Folgenden soll der Theta-Join, der Left-Semi-Join und Grouping mit Aggregation implementiert werden. Beim Setzen des Namens der Ergebnisrelation könnt ihr das Symbol für die Operation einfach aus dem Erwarteten Output der Tests kopieren. Bei den Tests kann es aufgrund der Verwaltung von Tupeln als `sets` sein, dass die Reihenfolge eures Ergebnisses eine andere ist."
   ]
  },
  {
   "cell_type": "markdown",
   "metadata": {},
   "source": [
    "### 1.1 Theta Join (1.5 Punkte)\n",
    "\n",
    "Implementiere den Theta-Join-Operator. Dabei sind `relation1` und `relation2` Objekte der Klasse `Relation` und `theta` ein Prädikat in Form eines strings, wie es auch bei der Selektion und dem dazugehörigen Operator `selection` verwendet wird. Zwei Beispiele zur Verwendung des Operators mit erwartetem Ergebnis findet ihr in der Testzelle."
   ]
  },
  {
   "cell_type": "code",
   "execution_count": null,
   "metadata": {},
   "outputs": [],
   "source": [
    "# THETA JOIN\n",
    "def theta_join(relation1, relation2, theta):\n",
    "    \"\"\"\n",
    "    Performs a theta join between two relations by first performing the cartesian product and then selection\n",
    "\n",
    "    :param relation1: the first relation\n",
    "    :param relation2: the second relation\n",
    "    :param theta: the theta defining the join predicate\n",
    "    :return: a new relation computed by executing the theta join\n",
    "    \"\"\"\n",
    "    # TODO: implement this function\n",
    "    pass"
   ]
  },
  {
   "cell_type": "code",
   "execution_count": null,
   "metadata": {},
   "outputs": [],
   "source": [
    "# 1.5 Punkte\n",
    "# Grading Test:\n",
    "# theta_join(fotos, renaming_attributes(kameras, ['kid<-id']), 'kamera==kid').print_table()  # Zu jedem Foto, die Informationen über die Kamera, mit der sie aufgenommen wurden\n",
    "# expected output:\n",
    "#----------------------------------------------\n",
    "#(fotos) ⋈_{kamera==kid} (ρ_{kid<-id}(kameras)) \n",
    "#--------------------------------------------------------------------------------------------------------------------------------------------------------------------------------------------------------------------------------------------------------\n",
    "#id                             gpskoordinaten                 aufnahmezeitpunkt              fotograph                      kamera                         kid                            marke                          modell                          \n",
    "#--------------------------------------------------------------------------------------------------------------------------------------------------------------------------------------------------------------------------------------------------------\n",
    "#3                              (615.65,691.95)                2013-05-14 15:42:33.031867+02  7                              2                              2                              Canon                          650d                           \n",
    "#1                              (123,234)                      2013-05-14 15:40:47.161073+02  3                              1                              1                              Canon                          6d                             \n",
    "#2                              (3123.98,67.987)               2013-05-14 15:40:47.170802+02  6                              3                              3                              Nikon                          D3200                          \n",
    "# projection(theta_join(personen, renaming_attributes(fotos, ['fotoid<-id']), 'id==fotograph'), ['id', 'name', 'vorname','fotoid']).print_table()  # Zu jeder FotoID den Namen und Vornamen des Fotographen, der das Foto geschossen hat\n",
    "# expected output:\n",
    "#--------------------------------------------------------------------------------\n",
    "#π_{id,name,vorname,fotoid}((personen) ⋈_{id==fotograph} (ρ_{fotoid<-id}(fotos))) \n",
    "#--------------------------------------------------------------------------------\n",
    "#id       name     vorname  fotoid    \n",
    "#--------------------------------------------------------------------------------\n",
    "#3        Mueller  Peter    1        \n",
    "#7        Miese    Peter    3        \n",
    "#6        Wurst    Hans     2 "
   ]
  },
  {
   "cell_type": "markdown",
   "metadata": {},
   "source": [
    "### 1.2 Left Semi Join (1.5 Punkte)\n",
    "\n",
    "Implementiere den Left-Semi-Join-Operator. Dabei sind `relation1` und `relation2` Objekte der Klasse `Relation` und `theta` ein Prädikat in Form eines strings, wie es auch bei der Selektion und dem dazugehörigen Operator `selection` verwendet wird. Zwei Beispiele zur Verwendung des Operators mit erwartetem Ergebnis findet ihr in der Testzelle."
   ]
  },
  {
   "cell_type": "code",
   "execution_count": null,
   "metadata": {},
   "outputs": [],
   "source": [
    "# LEFT SEMI JOIN\n",
    "def left_semi_join(relation1, relation2, theta):\n",
    "    \"\"\"\n",
    "    Perfoms a left semi join between two relations\n",
    "\n",
    "    :param relation1: the first relation\n",
    "    :param relation2: the second relation\n",
    "    :param theta: The theta defining the join predicate\n",
    "    :return: a new relation computed by executing the left semi join\n",
    "    \"\"\"\n",
    "    # TODO: implement this function\n",
    "    pass"
   ]
  },
  {
   "cell_type": "code",
   "execution_count": null,
   "metadata": {},
   "outputs": [],
   "source": [
    "# 1.5 Punkte\n",
    "# Grading Test:\n",
    "# left_semi_join(fotographen, managed, 'mitarbeiterid==fotographid').print_table()  # Fotographen, die von Seniors gemanagt werden\n",
    "# expected output:\n",
    "#------------------------------------------------------\n",
    "#(fotographen) ⋉_{mitarbeiterid==fotographid} (managed) \n",
    "#------------------------------------------------------\n",
    "#mitarbeiterid   \n",
    "#------------------------------------------------------\n",
    "#7              \n",
    "#3              \n",
    "#6\n",
    "# left_semi_join(personen, fotographen, 'id==mitarbeiterid').print_table()  # Persönliche Daten aller Fotographen\n",
    "# expected output:\n",
    "#----------------------------------------------\n",
    "#(personen) ⋉_{id==mitarbeiterid} (fotographen) \n",
    "#--------------------------------------------------------\n",
    "#id            name          vorname       geburtsdatum   \n",
    "#--------------------------------------------------------\n",
    "#7             Miese         Peter         1983-05-06    \n",
    "#3             Mueller       Peter         1963-10-09    \n",
    "#6             Wurst         Hans          1974-02-01   "
   ]
  },
  {
   "cell_type": "markdown",
   "metadata": {},
   "source": [
    "### 1.3 Grouping mit Aggregation (3 Punkte)\n",
    "\n",
    "In dieser Aufgabe soll der Grouping-Operator mit Aggregation implementiert werden. Dabei ist `relation` ein Objekt der Klasse `Relation`, `group` eine liste von Attributnamen nach denen gruppiert werden soll und `aggregations` eine Liste von Aggregationen.\n",
    "\n",
    "Um die Implementierung zu erleichtern verwenden wir für die Aggregationen ausschließlich die folgenden Built-in Funktionen von Python die jeweils für Listen definiert sind:\n",
    "* `max`: berechnet das Maximum einer Liste von Zahlen,\n",
    "* `min`: berechnet das Minimum einer Liste von Zahlen,\n",
    "* `sum`: berechnet die Summe einer Liste von Zahlen.\n",
    "\n",
    "Ein Beispielaufruf der `grouping`-Funktion könnte folgendermaßen aussehen:\n",
    "```python\n",
    "grouping(managed, ['seniorid'], [(max, 'fotographid')])\n",
    "```\n",
    "Dabei gruppieren wir die relation `managed` nach dem Attribut `'seniorid'` und berechnen für jede Gruppe das Maximum des Attributs `'fotographid'`. Eine Gruppierung auf mehren Attributen und weitere Aggregationen wären ebenfalls möglich.\n",
    "\n",
    "Geht bei der Implementierung wie folgt vor:\n",
    "* **Gruppierung**: Erstellt zunächst die Gruppen. Eine einfache Möglichkeit ein Mapping von Gruppe auf alle Tupel der Gruppe zu verwalten ist die Verwendung eines dictionaries (`dict`), das ein Tupel (oder eine Liste) auf eine List von Tupeln der Gruppe abbildet.\n",
    "* **Aggregation**: Berechnet anschließend für jede Gruppe jede der Aggregationen. Da die Built-in Funktionen von Python bereits für Listen definiert sind, reicht es zur Berechnung alle Werte eines Attributs einer Gruppe (beispielsweise `'fotographid'`) in eine Liste zu packen und die Built-in Funktion auf dieser Liste aufzurufen. Beim extrahieren der entsprechenden Attributwerte aus den Tupeln, helfen euch die Hilfsfunktionen, die eingangs beschrieben wurden.\n",
    "* **Projektion**: Das Ergebnis der Gruppierung sind Tupel bestehend aus dem Teil, der die Gruppe beschreibt (beispielsweise `['seniorid']`) und den Werten der Aggregationen. Baut die Tupel entsprechend dieses Schemas zusammen.\n",
    "* **Abschluss**: Zum Schluss müsst ihr ein neues Relationsobjekt erstellen. Der Name der Relation soll wie zuvor die Operation beinhalten. Beim Schema soll der Attributname für die Aggregationen aus der Funktion gefolgt von einem Unterstrich und dem Attributnamen, auf dem die Aggregation berechnet wurde, bestehen (besipielsweise `max_photographid`). Baut das Schema mithilfe der Funktion `build_schema`. Nach dem Initialisieren des neuen Relationsobjekts müssen nun noch die Ergebnistupel mittels `add_tuple` der Relation hinzugefügt werden.\n",
    "\n",
    "Zwei Beispiele zur Verwendung des Operators mit erwartetem Ergebnis findet ihr in der Testzelle."
   ]
  },
  {
   "cell_type": "code",
   "execution_count": null,
   "metadata": {},
   "outputs": [],
   "source": [
    "# GROUPING\n",
    "def grouping(relation, group, aggregations):\n",
    "    \"\"\"\n",
    "    Performs grouping and aggregation on a relation\n",
    "\n",
    "    :param relation: the relation\n",
    "    :param group: a list of attributes the relation should be grouped by\n",
    "    :param aggregations: a list of aggregations of the form (builtin_func, attribute) e.g. [(sum, 'photographid'), (len, 'fotographid')]\n",
    "    :return: a new relation computed by executing grouping and computing the aggregations on the groups\n",
    "    \"\"\"\n",
    "    # TODO: implement this function\n",
    "    pass"
   ]
  },
  {
   "cell_type": "code",
   "execution_count": null,
   "metadata": {},
   "outputs": [],
   "source": [
    "# 3.0 Punkte\n",
    "# Grading Test:\n",
    "# grouping(kameras, ['marke'], []).print_table()  # Kameras gruppiert nach Marke (keine Aggregation)\n",
    "# expected output:\n",
    "#------------------\n",
    "#γ_{marke}(kameras) \n",
    "#------------------\n",
    "#marke   \n",
    "#------------------\n",
    "#Canon  \n",
    "#Nikon \n",
    "# grouping(managed, ['seniorid'], [(sum, 'fotographid'),(max, 'fotographid')]).print_table()  # Für jeden Senior, die Summe der FotographIDs und die maximale FotographID, der Fotographen, die sie managen (mit Aggregation)\n",
    "# expected output:\n",
    "#-------------------------------------------------------\n",
    "#γ_{seniorid,sum(fotographid),max(fotographid)}(managed) \n",
    "#-------------------------------------------------------\n",
    "#seniorid         sum_fotographid  max_fotographid   \n",
    "#-------------------------------------------------------\n",
    "#1                9                6                \n",
    "#2                13               7                        "
   ]
  },
  {
   "cell_type": "markdown",
   "metadata": {},
   "source": [
    "## Aufgabe 2: Übersetzung (3 Punkte)\n",
    "\n",
    "In dieser Aufgabe sollen Anfragen in natürlicher Sprache in Ausdrücke der relationalen Alegbra und umgekehrt übersetzt werden. Als Grundlage dienen dazu die Relationen der Foto-Datenbank, die bereits in der Vorlesung und der vorherigen Aufgabe verwendet wurde. Nachfolgend sind noch mal die Schemata aller Relationen aufgelistet.\n",
    "\n",
    "Unterstrichene Attribute sind dabei Primärschlüssel. Tupel können über dieses Attribut eindeutig identifiziert werden, d.h. es gibt keine zwei Tupel mit dem gleichen Wert für dieses Attribut.\n",
    "\n",
    "Die Pfeile zeigen Fremdschlüsselbeziehungen an. Fremdschlüssel entsprechen dem Primärschlüssel einer anderen Relation und sind daher wichtig bei Joins. In der Relation *Kunden* zeigt die PersonID beispielsweise auf die Relation Personen und verweist damit auf das Tupel dieser Relation, mit dem es inhaltlich in Verbindung steht."
   ]
  },
  {
   "cell_type": "markdown",
   "metadata": {},
   "source": [
    " $ \\small {[}\\text{Personen}{]}: \\{{[} \\underline{ID: int}, Name: string, Vorname: string, Geburtsdatum: date {]}\\} $\n",
    "\n",
    "$ \\small {[}\\text{Mitarbeiter}{]}: \\{{[} \\underline{PersonID: int \\rightarrow Personen}, Gehalt: int, Erfahrung: int \\rightarrow Erfahrungsstufen {]}\\} $\n",
    "\n",
    "$ \\small {[}\\text{Erfahrungsstufen}{]}: \\{{[} \\underline{ID: int}, Bezeichnung: string {]}\\} $\n",
    "\n",
    "$ \\small {[}\\text{Kunden}{]}: \\{{[} \\underline{PersonID: int \\rightarrow Personen}, Branche: string {]}\\} $\n",
    "\n",
    "$ \\small {[}\\text{Seniors}{]}: \\{{[} \\underline{MitarbeiterID: int \\rightarrow Mitarbeiter}, AnzahlGraueHaare: int, Bonus: int {]}\\} $\n",
    "\n",
    "$ \\small {[}\\text{Verkaeufer}{]}: \\{{[} \\underline{MitarbeiterID: int \\rightarrow Mitarbeiter}, Spezialgebiet: string {]}\\} $\n",
    "\n",
    "$ \\small {[}\\text{Fotographen}{]}: \\{{[} \\underline{MitarbeiterID: int \\rightarrow Mitarbeiter}{]}\\} $\n",
    "\n",
    "$ \\small {[}\\text{Fotoabzuege}{]}: \\{{[} \\underline{Foto: int \\rightarrow Fotos, Zeitstempel: string}, Bildgroesse: int{]}\\} $\n",
    "\n",
    "$ \\small {[}\\text{Fotos}{]}: \\{{[} \\underline{ID: int}, GPSKoordinaten: point, Aufnahmezeitpunkt: string, Fotograph: int \\rightarrow Fotographen,  Kamera: int \\rightarrow  Kameras{]}\\} $\n",
    "\n",
    "$ \\small {[}\\text{Kameras}{]}: \\{{[} \\underline{ID: int}, Marke: string, Modell: string{]}\\} $\n",
    "\n",
    "$ \\small {[}\\text{Managed}{]}: \\{{[} \\underline{SeniorID: int \\rightarrow Seniors, FotographID: int \\rightarrow Fotographen, Von: date}, Bis: date{]}\\} $\n",
    "\n",
    "$ \\small {[}\\text{Verkaufen}{]}: \\{{[} \\underline{Kunde: int \\rightarrow Kunden, Verkaeufer: int  \\rightarrow Verkaeufer,} \\underline{Foto: int \\rightarrow Fotos}, Preis: int{]}\\} $"
   ]
  },
  {
   "cell_type": "markdown",
   "metadata": {},
   "source": [
    "### 2.1 Natürliche Sprache nach Relationale Alegbra (1.5 Punkte)\n",
    "\n",
    "Übersetze die folgenden umgasprachlichen Ausdrücke in Ausdrücke der relationalen Alegbra. Bei komplexen Ausdrücken empfiehlt es sich Variablen für Teilausdrücke einzuführen. So könnte man beispielsweise einen Teilausdruck Angestellte wiefolgt einführen:\n",
    "\n",
    "$$ \\text{Angestellte} := \\text{Personen} \\ltimes \\text{Mitarbeiter} $$\n",
    "\n",
    "Bei der Bennennung der Variablen solltet ihr darauf achten, dass es noch keine Relation mit dem gleichen Namen gibt.\n",
    "Den LaTeX-Befehl für alle wichtigen Operatoren findet ihr [hier](http://dbai.tuwien.ac.at/education/dm/resources/symbols.html).\n",
    "\n",
    "* Die IDs aller Fotographen, die schon mehr als 100 Bilder gemacht haben."
   ]
  },
  {
   "cell_type": "markdown",
   "metadata": {},
   "source": [
    "$$ # TODO $$"
   ]
  },
  {
   "cell_type": "code",
   "execution_count": null,
   "metadata": {},
   "outputs": [],
   "source": [
    "# 0.5 Punkte"
   ]
  },
  {
   "cell_type": "markdown",
   "metadata": {},
   "source": [
    "* Vor- und Nachname aller Seniors, die einen höheren Bonus erhalten als die Summe der Gehälter aller Fotographen, die von ihnen gemanagt werden."
   ]
  },
  {
   "cell_type": "markdown",
   "metadata": {},
   "source": [
    "Seniors und die Summe der gehälter der Fotographen, die sie managed:\n",
    "$$ # TODO $$"
   ]
  },
  {
   "cell_type": "code",
   "execution_count": null,
   "metadata": {},
   "outputs": [],
   "source": [
    "# 1.0 Punkt"
   ]
  },
  {
   "cell_type": "markdown",
   "metadata": {},
   "source": [
    "### 2.2 Relationale Algebra nach natürliche Sprache (1.5 Punkte)\n",
    "\n",
    "In diesem Aufgabeteil soll die Übersetzung in die andere Richtung durchgeführt werden. Übersetze die nachfolgenden Ausdrücke der relationalen Algebra in natürliche Sprache. Versuche dabei präzise Formulierungen zu wählen.\n",
    "\n",
    "* $ \\pi_{Vorname, Geburtsdatum}(\\sigma_{Geburtsdatum<01.01.2000} Personen) $"
   ]
  },
  {
   "cell_type": "markdown",
   "metadata": {},
   "source": [
    "### TODO"
   ]
  },
  {
   "cell_type": "code",
   "execution_count": null,
   "metadata": {},
   "outputs": [],
   "source": [
    "# 0.5 Punkte"
   ]
  },
  {
   "cell_type": "markdown",
   "metadata": {},
   "source": [
    "* $ \\pi_{ID}\\Big (\\sigma_{Erfahrung==ID \\land Bezeichnung=='Fortgeschrittener'}(\\text{Mitarbeiter} \\times \\text{Erfahrungsstufen})\\Big) $"
   ]
  },
  {
   "cell_type": "markdown",
   "metadata": {},
   "source": [
    "### TODO"
   ]
  },
  {
   "cell_type": "code",
   "execution_count": null,
   "metadata": {},
   "outputs": [],
   "source": [
    "# 1.0 Punkte"
   ]
  },
  {
   "cell_type": "markdown",
   "metadata": {},
   "source": [
    "## Aufgabe 3: Ausgabegröße (1 Punkt)\n",
    "\n",
    "Sowohl beim Anwenden der Selektion als auch der Projektion auf eine Relation kann es sein, dass die Anzahl der Tupel in der Ergebnisrelation geringer ist als in der ursprünglichen Relation. Erkläre für beide Operatoren kurz, wie es dazu kommen kann."
   ]
  },
  {
   "cell_type": "markdown",
   "metadata": {},
   "source": [
    "### TODO"
   ]
  },
  {
   "cell_type": "code",
   "execution_count": null,
   "metadata": {},
   "outputs": [],
   "source": [
    "# 1.0 Punkte"
   ]
  },
  {
   "cell_type": "markdown",
   "metadata": {},
   "source": [
    "## Abgabe\n",
    "\n",
    "Das Jupyter Notebook ist über das CMS bis zum dort angegebenen Abgabezeitpunkt (Donnerstag Morgen 10 Uhr) hochzuladen. Setzt vor dem Hochladen alle Outputs über `Kernel -> Restart & Clear Outputs` zurück. Ladet eine einzelne `.ipynb` Datei hoch, insbesondere sollen Datensätze nicht mit abgegeben werden. Tragt nachfolgend alle Teammitglieder mit Matrikelnummer ein.\n",
    "\n",
    "Team:\n",
    "- **hier Team eintragen:** Vorname Nachname (Matrikelnummer)\n",
    "- **hier Team eintragen:** Vorname Nachname (Matrikelnummer)\n",
    "- **hier Team eintragen:** Vorname Nachname (Matrikelnummer)"
   ]
  }
 ],
 "metadata": {
  "kernelspec": {
   "display_name": "Python 3",
   "language": "python",
   "name": "python3"
  },
  "language_info": {
   "codemirror_mode": {
    "name": "ipython",
    "version": 3
   },
   "file_extension": ".py",
   "mimetype": "text/x-python",
   "name": "python",
   "nbconvert_exporter": "python",
   "pygments_lexer": "ipython3",
   "version": "3.6.5"
  },
  "varInspector": {
   "cols": {
    "lenName": 16,
    "lenType": 16,
    "lenVar": 40
   },
   "kernels_config": {
    "python": {
     "delete_cmd_postfix": "",
     "delete_cmd_prefix": "del ",
     "library": "var_list.py",
     "varRefreshCmd": "print(var_dic_list())"
    },
    "r": {
     "delete_cmd_postfix": ") ",
     "delete_cmd_prefix": "rm(",
     "library": "var_list.r",
     "varRefreshCmd": "cat(var_dic_list()) "
    }
   },
   "types_to_exclude": [
    "module",
    "function",
    "builtin_function_or_method",
    "instance",
    "_Feature"
   ],
   "window_display": false
  }
 },
 "nbformat": 4,
 "nbformat_minor": 2
}
