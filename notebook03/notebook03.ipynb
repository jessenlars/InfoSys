{
 "cells": [
  {
   "cell_type": "markdown",
   "metadata": {},
   "source": [
    "# Notebook 3: SQL und Explorative Analyse\n",
    "\n",
    "## Aufgabe 1: Deskriptive Statistik und Visualisierung (1 Punkt)\n",
    "\n",
    "Wir unterscheiden zwei Ansätze bei der Analyse eines neuen Datensatzes: deskriptive Statistik und Visualisierung. In dieser Aufgabe wollen wir zeigen, dass oft eine Methode allein nicht ausreicht, um ein Gefühl für die vorliegenden Daten zu bekommen. Wir beginnen damit zwei neue Datensätze zu laden."
   ]
  },
  {
   "cell_type": "code",
   "execution_count": 1,
   "metadata": {},
   "outputs": [],
   "source": [
    "# Daten laden\n",
    "import pandas as pd\n",
    "\n",
    "df1 = pd.read_csv('./datasets/data1.csv')\n",
    "df2 = pd.read_csv('./datasets/data2.csv')"
   ]
  },
  {
   "cell_type": "code",
   "execution_count": 4,
   "metadata": {},
   "outputs": [
    {
     "data": {
      "text/html": [
       "<div>\n",
       "<style scoped>\n",
       "    .dataframe tbody tr th:only-of-type {\n",
       "        vertical-align: middle;\n",
       "    }\n",
       "\n",
       "    .dataframe tbody tr th {\n",
       "        vertical-align: top;\n",
       "    }\n",
       "\n",
       "    .dataframe thead th {\n",
       "        text-align: right;\n",
       "    }\n",
       "</style>\n",
       "<table border=\"1\" class=\"dataframe\">\n",
       "  <thead>\n",
       "    <tr style=\"text-align: right;\">\n",
       "      <th></th>\n",
       "      <th>x</th>\n",
       "      <th>y</th>\n",
       "    </tr>\n",
       "  </thead>\n",
       "  <tbody>\n",
       "    <tr>\n",
       "      <th>0</th>\n",
       "      <td>58.213608</td>\n",
       "      <td>91.881892</td>\n",
       "    </tr>\n",
       "    <tr>\n",
       "      <th>1</th>\n",
       "      <td>58.196054</td>\n",
       "      <td>92.214989</td>\n",
       "    </tr>\n",
       "    <tr>\n",
       "      <th>2</th>\n",
       "      <td>58.718231</td>\n",
       "      <td>90.310532</td>\n",
       "    </tr>\n",
       "    <tr>\n",
       "      <th>3</th>\n",
       "      <td>57.278373</td>\n",
       "      <td>89.907607</td>\n",
       "    </tr>\n",
       "    <tr>\n",
       "      <th>4</th>\n",
       "      <td>58.082020</td>\n",
       "      <td>92.008145</td>\n",
       "    </tr>\n",
       "  </tbody>\n",
       "</table>\n",
       "</div>"
      ],
      "text/plain": [
       "           x          y\n",
       "0  58.213608  91.881892\n",
       "1  58.196054  92.214989\n",
       "2  58.718231  90.310532\n",
       "3  57.278373  89.907607\n",
       "4  58.082020  92.008145"
      ]
     },
     "metadata": {},
     "output_type": "display_data"
    },
    {
     "data": {
      "text/html": [
       "<div>\n",
       "<style scoped>\n",
       "    .dataframe tbody tr th:only-of-type {\n",
       "        vertical-align: middle;\n",
       "    }\n",
       "\n",
       "    .dataframe tbody tr th {\n",
       "        vertical-align: top;\n",
       "    }\n",
       "\n",
       "    .dataframe thead th {\n",
       "        text-align: right;\n",
       "    }\n",
       "</style>\n",
       "<table border=\"1\" class=\"dataframe\">\n",
       "  <thead>\n",
       "    <tr style=\"text-align: right;\">\n",
       "      <th></th>\n",
       "      <th>x</th>\n",
       "      <th>y</th>\n",
       "    </tr>\n",
       "  </thead>\n",
       "  <tbody>\n",
       "    <tr>\n",
       "      <th>0</th>\n",
       "      <td>55.3846</td>\n",
       "      <td>97.1795</td>\n",
       "    </tr>\n",
       "    <tr>\n",
       "      <th>1</th>\n",
       "      <td>51.5385</td>\n",
       "      <td>96.0256</td>\n",
       "    </tr>\n",
       "    <tr>\n",
       "      <th>2</th>\n",
       "      <td>46.1538</td>\n",
       "      <td>94.4872</td>\n",
       "    </tr>\n",
       "    <tr>\n",
       "      <th>3</th>\n",
       "      <td>42.8205</td>\n",
       "      <td>91.4103</td>\n",
       "    </tr>\n",
       "    <tr>\n",
       "      <th>4</th>\n",
       "      <td>40.7692</td>\n",
       "      <td>88.3333</td>\n",
       "    </tr>\n",
       "  </tbody>\n",
       "</table>\n",
       "</div>"
      ],
      "text/plain": [
       "         x        y\n",
       "0  55.3846  97.1795\n",
       "1  51.5385  96.0256\n",
       "2  46.1538  94.4872\n",
       "3  42.8205  91.4103\n",
       "4  40.7692  88.3333"
      ]
     },
     "metadata": {},
     "output_type": "display_data"
    },
    {
     "data": {
      "text/plain": [
       "(142, 2)"
      ]
     },
     "execution_count": 4,
     "metadata": {},
     "output_type": "execute_result"
    }
   ],
   "source": [
    "display(df1.head())\n",
    "display(df2.head())\n",
    "df1.shape"
   ]
  },
  {
   "cell_type": "markdown",
   "metadata": {},
   "source": [
    "### 1.1 Deskriptive Statistik (0.5 Punkte)\n",
    "Führe eine statistische Analyse der oben geladenen Datensätze durch. Berechne dazu für `x` und `y` beider Datensätze folgende stastische Werte und gebe sie aus:\n",
    "- Mittelwert\n",
    "- Standardabweichung\n",
    "- Korrelationskoeffizient nach Pearson"
   ]
  },
  {
   "cell_type": "code",
   "execution_count": 40,
   "metadata": {},
   "outputs": [
    {
     "name": "stdout",
     "output_type": "stream",
     "text": [
      "Mittelwert X Dataframe1 54.26734110449506\n",
      "Mittelwert X Dataframe2 54.26327323943662\n",
      "Mittelwert Y Dataframe1 47.839545225097886\n",
      "Mittelwert Y Dataframe2 47.832252816901416\n",
      "Korrelationskoeffizient nach Pearson Df1           x         y\n",
      "x  1.000000 -0.062961\n",
      "y -0.062961  1.000000\n",
      "Korrelationskoeffizient nach Pearson Df2           x         y\n",
      "x  1.000000 -0.064472\n",
      "y -0.064472  1.000000\n",
      "Standardabweichung X Dataframe1 16.768959216276542\n",
      "Standardabweichung X Dataframe2 16.76514203911679\n",
      "Standardabweichung Y Dataframe1 26.93027468764851\n",
      "Standardabweichung Y Dataframe2 26.935403486939116\n"
     ]
    }
   ],
   "source": [
    "sumx1 = df1['x'].mean()\n",
    "sumy1 = df1['y'].mean()\n",
    "corrx1 = df1.corr(method='pearson')\n",
    "sdev1x = df1['x'].std()\n",
    "sdev1y = df1['y'].std()\n",
    "\n",
    "sumx2 = df2['x'].mean()\n",
    "sumy2 = df2['y'].mean()\n",
    "corrx2 = df2.corr(method='pearson')\n",
    "sdev2x = df2['x'].std()\n",
    "sdev2y = df2['y'].std()\n",
    "\n",
    "print ('Mittelwert X Dataframe1',  sumx1)\n",
    "print ('Mittelwert X Dataframe2',  sumx2)\n",
    "\n",
    "print('Mittelwert Y Dataframe1',sumy1)\n",
    "print('Mittelwert Y Dataframe2',sumy2)\n",
    "\n",
    "print ('Korrelationskoeffizient nach Pearson Df1', corrx1)\n",
    "print ('Korrelationskoeffizient nach Pearson Df2', corrx2)\n",
    "\n",
    "print ('Standardabweichung X Dataframe1',sdev1x)\n",
    "print ('Standardabweichung X Dataframe2',sdev2x)\n",
    "\n",
    "print ('Standardabweichung Y Dataframe1',sdev1y)\n",
    "print ('Standardabweichung Y Dataframe2',sdev2y)"
   ]
  },
  {
   "cell_type": "markdown",
   "metadata": {},
   "source": [
    "Gib anhand der jeweiligen Werte eine kleine Einschätzung zur Ähnlichkeit der beiden Datensätze ab. (ein Satz)"
   ]
  },
  {
   "cell_type": "markdown",
   "metadata": {},
   "source": [
    "Die beiden Datensätze ähneln sich in den betrachteten Werten sehr stark"
   ]
  },
  {
   "cell_type": "code",
   "execution_count": 41,
   "metadata": {},
   "outputs": [],
   "source": [
    "# 0.5 Punkte"
   ]
  },
  {
   "cell_type": "markdown",
   "metadata": {},
   "source": [
    "### 1.2 Visualisierung (0.5 Punkte)\n",
    "Nun testen wir, ob unsere vorherige Einschätzung richtig war. Dazu wollen wir die Daten zunächst mithilfe von Box-Whisker Plots visualisieren. Dabei sollen jeweils die `x`- und `y`-Werte der Datensätze verglichen werden. Implementiere hierfür die Funktion `plot_boxplot`, die zwei DataFrames sowie den entsprechenden Spaltennamen als String bekommt und dann einen Boxplot mithilfe von `matplotlib` erstellt und anzeigt. Der Boxplot soll zusätzlich den Mittelwert anzeigen."
   ]
  },
  {
   "cell_type": "code",
   "execution_count": 180,
   "metadata": {},
   "outputs": [],
   "source": [
    "import matplotlib.pyplot as plt\n",
    "\n",
    "def plot_boxplot(df1, df2, attr):\n",
    "    \"\"\"\n",
    "    Creates a boxplot for the provided attribute of each dataframe.\n",
    "    \n",
    "    :param: df1: The first dataframe\n",
    "    :param: df2: The second dataframe\n",
    "    :param: attr: The name of the attribute to be plotted \n",
    "    \"\"\"\n",
    "    if attr == 'x':\n",
    "        plt.subplot(1,2,1)\n",
    "        plt.boxplot(df1.x)\n",
    "        plt.subplot(1,2,2)\n",
    "        plt.boxplot(df2.x)\n",
    "        plt.show\n",
    "        \n",
    "    if attr == 'y':\n",
    "        plt.subplot(2,2,1)\n",
    "        plt.boxplot(df1.y)\n",
    "        plt.subplot(2,2,2)\n",
    "        plt.boxplot(df2.y)\n",
    "        plt.show\n",
    "    pass"
   ]
  },
  {
   "cell_type": "markdown",
   "metadata": {},
   "source": [
    "Nach Betrachtung der oben erstellten Plots, ändert sich deine Einschätzung? (ein bis zwei Sätze)"
   ]
  },
  {
   "cell_type": "markdown",
   "metadata": {},
   "source": [
    "$$ # TODO $$"
   ]
  },
  {
   "cell_type": "code",
   "execution_count": 181,
   "metadata": {},
   "outputs": [
    {
     "data": {
      "image/png": "[encoded data removed]",
      "text/plain": [
       "<Figure size 864x864 with 2 Axes>"
      ]
     },
     "metadata": {},
     "output_type": "display_data"
    }
   ],
   "source": [
    "# 0.25 Punkte\n",
    "# Grading Test:\n",
    "plot_boxplot(df1, df2, 'x')\n",
    "plot_boxplot(df1, df2, 'y')"
   ]
  },
  {
   "cell_type": "markdown",
   "metadata": {},
   "source": [
    "In dieser Teilaufgabe möchten wir uns eine andere Art der Visualisierung zunutze machen. Erstelle mithilfe von `matplotlib` Streudiagramme (scatter plots) für beide Datensätze. "
   ]
  },
  {
   "cell_type": "code",
   "execution_count": 142,
   "metadata": {},
   "outputs": [
    {
     "data": {
      "text/plain": [
       "<matplotlib.collections.PathCollection at 0xba3b2e5c88>"
      ]
     },
     "execution_count": 142,
     "metadata": {},
     "output_type": "execute_result"
    },
    {
     "data": {
      "image/png": "[encoded data removed]",
      "text/plain": [
       "<Figure size 432x288 with 2 Axes>"
      ]
     },
     "metadata": {},
     "output_type": "display_data"
    }
   ],
   "source": [
    "plt.subplot(2,1,1)\n",
    "plt.scatter(x = df1.x, y = df1.y)\n",
    "plt.subplot(2,1,2)\n",
    "plt.scatter(x = df2.x, y = df2.y)\n"
   ]
  },
  {
   "cell_type": "markdown",
   "metadata": {},
   "source": [
    "Wie lautet nun deine Einschätzung zur Ähnlichkeit der Daten? (ein Satz)"
   ]
  },
  {
   "cell_type": "markdown",
   "metadata": {},
   "source": [
    "Die Daten sind nur auf den ersten Blick ähnlich, der Box und Scatter Plot zeigen dass nur Mittelwerte etc ähnlich sind, die Daten jedoch sehr verschieden"
   ]
  },
  {
   "cell_type": "code",
   "execution_count": null,
   "metadata": {},
   "outputs": [],
   "source": [
    "# 0.25 Punkte"
   ]
  },
  {
   "cell_type": "markdown",
   "metadata": {},
   "source": [
    "## Aufgabe 2: Mozzarella and Doctoral Degrees (2 Punkt)\n",
    "\n",
    "In dieser Aufgabe beschäftigen wir uns mit einem echten Datensatz. Der Datensaty stammt aus einer neuen amerikanischne Studie, die zeigt, dass eine sehr starke Korrelation zwischen dem pro Kopf Konsum von Mozzarella (in Pfund) und der Anzahl an Promotionen im Bauingenieurwesen besteht. Im Folgenden möchten wir überprüfen, ob diese Behauptung stimmt. Zunächst laden wir die Daten."
   ]
  },
  {
   "cell_type": "code",
   "execution_count": 129,
   "metadata": {},
   "outputs": [
    {
     "data": {
      "text/html": [
       "<div>\n",
       "<style scoped>\n",
       "    .dataframe tbody tr th:only-of-type {\n",
       "        vertical-align: middle;\n",
       "    }\n",
       "\n",
       "    .dataframe tbody tr th {\n",
       "        vertical-align: top;\n",
       "    }\n",
       "\n",
       "    .dataframe thead th {\n",
       "        text-align: right;\n",
       "    }\n",
       "</style>\n",
       "<table border=\"1\" class=\"dataframe\">\n",
       "  <thead>\n",
       "    <tr style=\"text-align: right;\">\n",
       "      <th></th>\n",
       "      <th>Year</th>\n",
       "      <th>Mozzarella</th>\n",
       "      <th>Doctorates</th>\n",
       "    </tr>\n",
       "  </thead>\n",
       "  <tbody>\n",
       "    <tr>\n",
       "      <th>0</th>\n",
       "      <td>2000</td>\n",
       "      <td>9.3</td>\n",
       "      <td>480</td>\n",
       "    </tr>\n",
       "    <tr>\n",
       "      <th>1</th>\n",
       "      <td>2001</td>\n",
       "      <td>9.7</td>\n",
       "      <td>501</td>\n",
       "    </tr>\n",
       "    <tr>\n",
       "      <th>2</th>\n",
       "      <td>2002</td>\n",
       "      <td>9.7</td>\n",
       "      <td>540</td>\n",
       "    </tr>\n",
       "    <tr>\n",
       "      <th>3</th>\n",
       "      <td>2003</td>\n",
       "      <td>9.7</td>\n",
       "      <td>552</td>\n",
       "    </tr>\n",
       "    <tr>\n",
       "      <th>4</th>\n",
       "      <td>2004</td>\n",
       "      <td>9.9</td>\n",
       "      <td>547</td>\n",
       "    </tr>\n",
       "    <tr>\n",
       "      <th>5</th>\n",
       "      <td>2005</td>\n",
       "      <td>10.2</td>\n",
       "      <td>622</td>\n",
       "    </tr>\n",
       "    <tr>\n",
       "      <th>6</th>\n",
       "      <td>2006</td>\n",
       "      <td>10.5</td>\n",
       "      <td>655</td>\n",
       "    </tr>\n",
       "    <tr>\n",
       "      <th>7</th>\n",
       "      <td>2007</td>\n",
       "      <td>11.0</td>\n",
       "      <td>701</td>\n",
       "    </tr>\n",
       "    <tr>\n",
       "      <th>8</th>\n",
       "      <td>2008</td>\n",
       "      <td>10.6</td>\n",
       "      <td>712</td>\n",
       "    </tr>\n",
       "    <tr>\n",
       "      <th>9</th>\n",
       "      <td>2009</td>\n",
       "      <td>10.6</td>\n",
       "      <td>708</td>\n",
       "    </tr>\n",
       "  </tbody>\n",
       "</table>\n",
       "</div>"
      ],
      "text/plain": [
       "   Year  Mozzarella  Doctorates\n",
       "0  2000         9.3         480\n",
       "1  2001         9.7         501\n",
       "2  2002         9.7         540\n",
       "3  2003         9.7         552\n",
       "4  2004         9.9         547\n",
       "5  2005        10.2         622\n",
       "6  2006        10.5         655\n",
       "7  2007        11.0         701\n",
       "8  2008        10.6         712\n",
       "9  2009        10.6         708"
      ]
     },
     "execution_count": 129,
     "metadata": {},
     "output_type": "execute_result"
    }
   ],
   "source": [
    "# Daten laden\n",
    "import pandas as pd\n",
    "df = pd.read_csv('./datasets/mozzarella_doctorates.csv')\n",
    "df"
   ]
  },
  {
   "cell_type": "markdown",
   "metadata": {},
   "source": [
    "Berechne nun den Korrelationskoeffizienten nach Pearson zwischen `Mozzarella` und `Doctorates` und speichere das Ergebnis in der Variablen `corr` ab."
   ]
  },
  {
   "cell_type": "code",
   "execution_count": 133,
   "metadata": {},
   "outputs": [],
   "source": [
    "df.drop(df.columns[[0]], axis=1, inplace=True)\n",
    "corr = df.corr(method='pearson')"
   ]
  },
  {
   "cell_type": "code",
   "execution_count": 134,
   "metadata": {},
   "outputs": [
    {
     "data": {
      "text/html": [
       "<div>\n",
       "<style scoped>\n",
       "    .dataframe tbody tr th:only-of-type {\n",
       "        vertical-align: middle;\n",
       "    }\n",
       "\n",
       "    .dataframe tbody tr th {\n",
       "        vertical-align: top;\n",
       "    }\n",
       "\n",
       "    .dataframe thead th {\n",
       "        text-align: right;\n",
       "    }\n",
       "</style>\n",
       "<table border=\"1\" class=\"dataframe\">\n",
       "  <thead>\n",
       "    <tr style=\"text-align: right;\">\n",
       "      <th></th>\n",
       "      <th>Mozzarella</th>\n",
       "      <th>Doctorates</th>\n",
       "    </tr>\n",
       "  </thead>\n",
       "  <tbody>\n",
       "    <tr>\n",
       "      <th>Mozzarella</th>\n",
       "      <td>1.000000</td>\n",
       "      <td>0.958648</td>\n",
       "    </tr>\n",
       "    <tr>\n",
       "      <th>Doctorates</th>\n",
       "      <td>0.958648</td>\n",
       "      <td>1.000000</td>\n",
       "    </tr>\n",
       "  </tbody>\n",
       "</table>\n",
       "</div>"
      ],
      "text/plain": [
       "            Mozzarella  Doctorates\n",
       "Mozzarella    1.000000    0.958648\n",
       "Doctorates    0.958648    1.000000"
      ]
     },
     "metadata": {},
     "output_type": "display_data"
    }
   ],
   "source": [
    "# 0.25 Punkte\n",
    "# Grading Test:\n",
    "display(corr)"
   ]
  },
  {
   "cell_type": "markdown",
   "metadata": {},
   "source": [
    "Als nächstes möchten wir die Daten visualisieren. Erstelle mithilfe von `matplotlib` **ein** Liniendiagramm mit zwei Kurven. Auf der x-Achse soll das Jahr abgetragen werden. Auf der y-Achse soll sowohl der pro Kopf Konsum von Mozzarella in Pfund (erste Kurve) als auch die Anzahl an Promotionen im Bauinenieurwesen (zweite Kurve) abgetragen werden. Achte beim Plot auf aussagekräftige Achsenbeschriftungen. (*Tipp*: Ein Beispiel für einen Plot mit zwei Kurven, die unterschiede Skalen verwenden, findet ihr [hier](https://matplotlib.org/examples/api/two_scales.html).)"
   ]
  },
  {
   "cell_type": "code",
   "execution_count": 135,
   "metadata": {},
   "outputs": [
    {
     "data": {
      "image/png": "[encoded data removed]",
      "text/plain": [
       "<Figure size 432x288 with 2 Axes>"
      ]
     },
     "metadata": {},
     "output_type": "display_data"
    }
   ],
   "source": [
    "df = pd.read_csv('./datasets/mozzarella_doctorates.csv')\n",
    "df\n",
    "\n",
    "fig, ax1 = plt.subplots()\n",
    "ax1.plot(df['Year'], df['Mozzarella'], 'b-')\n",
    "ax1.set_xlabel('Year')\n",
    "# Make the y-axis label, ticks and tick labels match the line color.\n",
    "ax1.set_ylabel('Mozzarellakonsum (Pfund)', color='b')\n",
    "ax1.tick_params('y', colors='b')\n",
    "\n",
    "ax2 = ax1.twinx()\n",
    "ax2.plot(df['Year'], df['Doctorates'], 'r-')\n",
    "ax2.set_ylabel('Doctorates', color='r')\n",
    "ax2.tick_params('y', colors='r')\n",
    "\n",
    "fig.tight_layout()\n",
    "plt.show()"
   ]
  },
  {
   "cell_type": "code",
   "execution_count": null,
   "metadata": {},
   "outputs": [],
   "source": [
    "# 0.75 Punkte"
   ]
  },
  {
   "cell_type": "markdown",
   "metadata": {},
   "source": [
    "Sollten Amerikaner mehr Mozzarella essen, damit es mehr promovierte Bauingenieure gibt? Belegen die statistischen und visuellen Ergebnisse die ursprüngliche Aussage? Vertraust du diesen Ergebnissen? Begründe deine Antwort. (ein bis zwei Sätze)\n"
   ]
  },
  {
   "cell_type": "markdown",
   "metadata": {},
   "source": [
    "Der Korrelationskoeffizient ist recht nah an 1 was einen Zusammenhang naheliegt, auch im Kurvendiagramm besteht der Verdacht dass die beiden Kurven zusammenhängen. Den Daten vertraue ich jedoch nicht, hier liegt wohl nur ein zufälliger Zusammenhang vor."
   ]
  },
  {
   "cell_type": "code",
   "execution_count": null,
   "metadata": {},
   "outputs": [],
   "source": [
    "# 1.0 Punkte"
   ]
  },
  {
   "cell_type": "markdown",
   "metadata": {},
   "source": [
    "## Aufgabe 3: Non-Linear Correlations (2 Punkte)\n",
    "\n",
    "In dieser Aufgabe schauen wir uns vier verschiedene Datensätze an, die alle aus 500 Datenpunkten bestehen und jeweils zwei Spalten `x` und `y` haben."
   ]
  },
  {
   "cell_type": "code",
   "execution_count": 137,
   "metadata": {},
   "outputs": [
    {
     "data": {
      "text/html": [
       "<div>\n",
       "<style scoped>\n",
       "    .dataframe tbody tr th:only-of-type {\n",
       "        vertical-align: middle;\n",
       "    }\n",
       "\n",
       "    .dataframe tbody tr th {\n",
       "        vertical-align: top;\n",
       "    }\n",
       "\n",
       "    .dataframe thead th {\n",
       "        text-align: right;\n",
       "    }\n",
       "</style>\n",
       "<table border=\"1\" class=\"dataframe\">\n",
       "  <thead>\n",
       "    <tr style=\"text-align: right;\">\n",
       "      <th></th>\n",
       "      <th>x</th>\n",
       "      <th>y</th>\n",
       "    </tr>\n",
       "  </thead>\n",
       "  <tbody>\n",
       "    <tr>\n",
       "      <th>0</th>\n",
       "      <td>24.488062</td>\n",
       "      <td>51.217175</td>\n",
       "    </tr>\n",
       "    <tr>\n",
       "      <th>1</th>\n",
       "      <td>9.373466</td>\n",
       "      <td>19.098333</td>\n",
       "    </tr>\n",
       "    <tr>\n",
       "      <th>2</th>\n",
       "      <td>24.294849</td>\n",
       "      <td>46.564575</td>\n",
       "    </tr>\n",
       "    <tr>\n",
       "      <th>3</th>\n",
       "      <td>17.252423</td>\n",
       "      <td>30.826118</td>\n",
       "    </tr>\n",
       "    <tr>\n",
       "      <th>4</th>\n",
       "      <td>5.896208</td>\n",
       "      <td>8.062808</td>\n",
       "    </tr>\n",
       "    <tr>\n",
       "      <th>5</th>\n",
       "      <td>10.040756</td>\n",
       "      <td>17.152787</td>\n",
       "    </tr>\n",
       "    <tr>\n",
       "      <th>6</th>\n",
       "      <td>20.737480</td>\n",
       "      <td>41.017456</td>\n",
       "    </tr>\n",
       "    <tr>\n",
       "      <th>7</th>\n",
       "      <td>15.110174</td>\n",
       "      <td>32.665896</td>\n",
       "    </tr>\n",
       "    <tr>\n",
       "      <th>8</th>\n",
       "      <td>11.143201</td>\n",
       "      <td>22.089000</td>\n",
       "    </tr>\n",
       "    <tr>\n",
       "      <th>9</th>\n",
       "      <td>19.917397</td>\n",
       "      <td>35.996314</td>\n",
       "    </tr>\n",
       "    <tr>\n",
       "      <th>10</th>\n",
       "      <td>5.929210</td>\n",
       "      <td>12.023455</td>\n",
       "    </tr>\n",
       "    <tr>\n",
       "      <th>11</th>\n",
       "      <td>13.968116</td>\n",
       "      <td>26.240322</td>\n",
       "    </tr>\n",
       "    <tr>\n",
       "      <th>12</th>\n",
       "      <td>9.529367</td>\n",
       "      <td>20.958336</td>\n",
       "    </tr>\n",
       "    <tr>\n",
       "      <th>13</th>\n",
       "      <td>26.362029</td>\n",
       "      <td>51.887380</td>\n",
       "    </tr>\n",
       "    <tr>\n",
       "      <th>14</th>\n",
       "      <td>19.112038</td>\n",
       "      <td>37.626631</td>\n",
       "    </tr>\n",
       "    <tr>\n",
       "      <th>15</th>\n",
       "      <td>9.730381</td>\n",
       "      <td>21.710439</td>\n",
       "    </tr>\n",
       "    <tr>\n",
       "      <th>16</th>\n",
       "      <td>14.209469</td>\n",
       "      <td>27.983807</td>\n",
       "    </tr>\n",
       "    <tr>\n",
       "      <th>17</th>\n",
       "      <td>22.450519</td>\n",
       "      <td>44.246468</td>\n",
       "    </tr>\n",
       "    <tr>\n",
       "      <th>18</th>\n",
       "      <td>8.524508</td>\n",
       "      <td>19.696929</td>\n",
       "    </tr>\n",
       "    <tr>\n",
       "      <th>19</th>\n",
       "      <td>17.072432</td>\n",
       "      <td>34.235855</td>\n",
       "    </tr>\n",
       "    <tr>\n",
       "      <th>20</th>\n",
       "      <td>9.669147</td>\n",
       "      <td>20.450805</td>\n",
       "    </tr>\n",
       "    <tr>\n",
       "      <th>21</th>\n",
       "      <td>28.995025</td>\n",
       "      <td>54.489935</td>\n",
       "    </tr>\n",
       "    <tr>\n",
       "      <th>22</th>\n",
       "      <td>9.859563</td>\n",
       "      <td>18.679929</td>\n",
       "    </tr>\n",
       "    <tr>\n",
       "      <th>23</th>\n",
       "      <td>7.480154</td>\n",
       "      <td>12.403771</td>\n",
       "    </tr>\n",
       "    <tr>\n",
       "      <th>24</th>\n",
       "      <td>18.082710</td>\n",
       "      <td>32.587602</td>\n",
       "    </tr>\n",
       "    <tr>\n",
       "      <th>25</th>\n",
       "      <td>22.822038</td>\n",
       "      <td>43.424211</td>\n",
       "    </tr>\n",
       "    <tr>\n",
       "      <th>26</th>\n",
       "      <td>27.781052</td>\n",
       "      <td>52.513356</td>\n",
       "    </tr>\n",
       "    <tr>\n",
       "      <th>27</th>\n",
       "      <td>16.956251</td>\n",
       "      <td>37.434761</td>\n",
       "    </tr>\n",
       "    <tr>\n",
       "      <th>28</th>\n",
       "      <td>11.244190</td>\n",
       "      <td>23.219239</td>\n",
       "    </tr>\n",
       "    <tr>\n",
       "      <th>29</th>\n",
       "      <td>22.116815</td>\n",
       "      <td>44.366056</td>\n",
       "    </tr>\n",
       "    <tr>\n",
       "      <th>...</th>\n",
       "      <td>...</td>\n",
       "      <td>...</td>\n",
       "    </tr>\n",
       "    <tr>\n",
       "      <th>470</th>\n",
       "      <td>10.800216</td>\n",
       "      <td>21.070008</td>\n",
       "    </tr>\n",
       "    <tr>\n",
       "      <th>471</th>\n",
       "      <td>20.863916</td>\n",
       "      <td>40.613717</td>\n",
       "    </tr>\n",
       "    <tr>\n",
       "      <th>472</th>\n",
       "      <td>10.410362</td>\n",
       "      <td>19.987720</td>\n",
       "    </tr>\n",
       "    <tr>\n",
       "      <th>473</th>\n",
       "      <td>27.793604</td>\n",
       "      <td>56.139998</td>\n",
       "    </tr>\n",
       "    <tr>\n",
       "      <th>474</th>\n",
       "      <td>23.085292</td>\n",
       "      <td>46.318032</td>\n",
       "    </tr>\n",
       "    <tr>\n",
       "      <th>475</th>\n",
       "      <td>17.789863</td>\n",
       "      <td>36.235508</td>\n",
       "    </tr>\n",
       "    <tr>\n",
       "      <th>476</th>\n",
       "      <td>27.053341</td>\n",
       "      <td>54.167420</td>\n",
       "    </tr>\n",
       "    <tr>\n",
       "      <th>477</th>\n",
       "      <td>13.466795</td>\n",
       "      <td>24.180880</td>\n",
       "    </tr>\n",
       "    <tr>\n",
       "      <th>478</th>\n",
       "      <td>15.020677</td>\n",
       "      <td>28.480689</td>\n",
       "    </tr>\n",
       "    <tr>\n",
       "      <th>479</th>\n",
       "      <td>8.774877</td>\n",
       "      <td>13.893757</td>\n",
       "    </tr>\n",
       "    <tr>\n",
       "      <th>480</th>\n",
       "      <td>11.114485</td>\n",
       "      <td>22.000102</td>\n",
       "    </tr>\n",
       "    <tr>\n",
       "      <th>481</th>\n",
       "      <td>11.630014</td>\n",
       "      <td>24.951338</td>\n",
       "    </tr>\n",
       "    <tr>\n",
       "      <th>482</th>\n",
       "      <td>15.838018</td>\n",
       "      <td>32.662299</td>\n",
       "    </tr>\n",
       "    <tr>\n",
       "      <th>483</th>\n",
       "      <td>14.956825</td>\n",
       "      <td>33.123111</td>\n",
       "    </tr>\n",
       "    <tr>\n",
       "      <th>484</th>\n",
       "      <td>5.679855</td>\n",
       "      <td>13.252403</td>\n",
       "    </tr>\n",
       "    <tr>\n",
       "      <th>485</th>\n",
       "      <td>26.843817</td>\n",
       "      <td>53.987375</td>\n",
       "    </tr>\n",
       "    <tr>\n",
       "      <th>486</th>\n",
       "      <td>19.440143</td>\n",
       "      <td>37.914728</td>\n",
       "    </tr>\n",
       "    <tr>\n",
       "      <th>487</th>\n",
       "      <td>7.017054</td>\n",
       "      <td>12.665210</td>\n",
       "    </tr>\n",
       "    <tr>\n",
       "      <th>488</th>\n",
       "      <td>28.906167</td>\n",
       "      <td>56.088859</td>\n",
       "    </tr>\n",
       "    <tr>\n",
       "      <th>489</th>\n",
       "      <td>22.521822</td>\n",
       "      <td>46.799090</td>\n",
       "    </tr>\n",
       "    <tr>\n",
       "      <th>490</th>\n",
       "      <td>24.208037</td>\n",
       "      <td>48.146931</td>\n",
       "    </tr>\n",
       "    <tr>\n",
       "      <th>491</th>\n",
       "      <td>12.636438</td>\n",
       "      <td>20.884990</td>\n",
       "    </tr>\n",
       "    <tr>\n",
       "      <th>492</th>\n",
       "      <td>16.190487</td>\n",
       "      <td>30.035066</td>\n",
       "    </tr>\n",
       "    <tr>\n",
       "      <th>493</th>\n",
       "      <td>22.933582</td>\n",
       "      <td>46.716583</td>\n",
       "    </tr>\n",
       "    <tr>\n",
       "      <th>494</th>\n",
       "      <td>17.840929</td>\n",
       "      <td>38.983811</td>\n",
       "    </tr>\n",
       "    <tr>\n",
       "      <th>495</th>\n",
       "      <td>16.651761</td>\n",
       "      <td>31.094094</td>\n",
       "    </tr>\n",
       "    <tr>\n",
       "      <th>496</th>\n",
       "      <td>9.205803</td>\n",
       "      <td>18.834040</td>\n",
       "    </tr>\n",
       "    <tr>\n",
       "      <th>497</th>\n",
       "      <td>5.122254</td>\n",
       "      <td>11.349506</td>\n",
       "    </tr>\n",
       "    <tr>\n",
       "      <th>498</th>\n",
       "      <td>23.369144</td>\n",
       "      <td>49.007024</td>\n",
       "    </tr>\n",
       "    <tr>\n",
       "      <th>499</th>\n",
       "      <td>15.271347</td>\n",
       "      <td>30.645579</td>\n",
       "    </tr>\n",
       "  </tbody>\n",
       "</table>\n",
       "<p>500 rows × 2 columns</p>\n",
       "</div>"
      ],
      "text/plain": [
       "             x          y\n",
       "0    24.488062  51.217175\n",
       "1     9.373466  19.098333\n",
       "2    24.294849  46.564575\n",
       "3    17.252423  30.826118\n",
       "4     5.896208   8.062808\n",
       "5    10.040756  17.152787\n",
       "6    20.737480  41.017456\n",
       "7    15.110174  32.665896\n",
       "8    11.143201  22.089000\n",
       "9    19.917397  35.996314\n",
       "10    5.929210  12.023455\n",
       "11   13.968116  26.240322\n",
       "12    9.529367  20.958336\n",
       "13   26.362029  51.887380\n",
       "14   19.112038  37.626631\n",
       "15    9.730381  21.710439\n",
       "16   14.209469  27.983807\n",
       "17   22.450519  44.246468\n",
       "18    8.524508  19.696929\n",
       "19   17.072432  34.235855\n",
       "20    9.669147  20.450805\n",
       "21   28.995025  54.489935\n",
       "22    9.859563  18.679929\n",
       "23    7.480154  12.403771\n",
       "24   18.082710  32.587602\n",
       "25   22.822038  43.424211\n",
       "26   27.781052  52.513356\n",
       "27   16.956251  37.434761\n",
       "28   11.244190  23.219239\n",
       "29   22.116815  44.366056\n",
       "..         ...        ...\n",
       "470  10.800216  21.070008\n",
       "471  20.863916  40.613717\n",
       "472  10.410362  19.987720\n",
       "473  27.793604  56.139998\n",
       "474  23.085292  46.318032\n",
       "475  17.789863  36.235508\n",
       "476  27.053341  54.167420\n",
       "477  13.466795  24.180880\n",
       "478  15.020677  28.480689\n",
       "479   8.774877  13.893757\n",
       "480  11.114485  22.000102\n",
       "481  11.630014  24.951338\n",
       "482  15.838018  32.662299\n",
       "483  14.956825  33.123111\n",
       "484   5.679855  13.252403\n",
       "485  26.843817  53.987375\n",
       "486  19.440143  37.914728\n",
       "487   7.017054  12.665210\n",
       "488  28.906167  56.088859\n",
       "489  22.521822  46.799090\n",
       "490  24.208037  48.146931\n",
       "491  12.636438  20.884990\n",
       "492  16.190487  30.035066\n",
       "493  22.933582  46.716583\n",
       "494  17.840929  38.983811\n",
       "495  16.651761  31.094094\n",
       "496   9.205803  18.834040\n",
       "497   5.122254  11.349506\n",
       "498  23.369144  49.007024\n",
       "499  15.271347  30.645579\n",
       "\n",
       "[500 rows x 2 columns]"
      ]
     },
     "execution_count": 137,
     "metadata": {},
     "output_type": "execute_result"
    }
   ],
   "source": [
    "# Daten laden\n",
    "import pandas as pd\n",
    "df1 = pd.read_csv('./datasets/data3.csv')\n",
    "df2 = pd.read_csv('./datasets/data4.csv')\n",
    "df3 = pd.read_csv('./datasets/data5.csv')\n",
    "df4 = pd.read_csv('./datasets/data6.csv')\n",
    "df5 = pd.read_csv('./datasets/data7.csv')"
   ]
  },
  {
   "cell_type": "markdown",
   "metadata": {},
   "source": [
    "Berechne zunächst den Korrelationskoeffizienten nach Pearson für die jeweiligen Datensätze und speichere deine Ergebnisse in den entsprechenden Variablen."
   ]
  },
  {
   "cell_type": "code",
   "execution_count": 139,
   "metadata": {},
   "outputs": [],
   "source": [
    "p_corr1 = df1.corr(method='pearson')\n",
    "p_corr2 = df2.corr(method='pearson')\n",
    "p_corr3 = df3.corr(method='pearson')\n",
    "p_corr4 = df4.corr(method='pearson')\n",
    "p_corr5 = df5.corr(method='pearson')"
   ]
  },
  {
   "cell_type": "code",
   "execution_count": 140,
   "metadata": {},
   "outputs": [
    {
     "name": "stdout",
     "output_type": "stream",
     "text": [
      "Der Korrelationskoeffizient nach Pearson für Datensatz 1 beträgt:         x       y\n",
      "x  1.0000  0.9893\n",
      "y  0.9893  1.0000\n",
      "Der Korrelationskoeffizient nach Pearson für Datensatz 2 beträgt:           x         y\n",
      "x  1.000000 -0.991825\n",
      "y -0.991825  1.000000\n",
      "Der Korrelationskoeffizient nach Pearson für Datensatz 3 beträgt:         x       y\n",
      "x  1.0000  0.6068\n",
      "y  0.6068  1.0000\n",
      "Der Korrelationskoeffizient nach Pearson für Datensatz 4 beträgt:           x         y\n",
      "x  1.000000 -0.014022\n",
      "y -0.014022  1.000000\n",
      "Der Korrelationskoeffizient nach Pearson für Datensatz 4 beträgt:           x         y\n",
      "x  1.000000 -0.063096\n",
      "y -0.063096  1.000000\n"
     ]
    }
   ],
   "source": [
    "# 0.25 Punkte\n",
    "# Grading Test:\n",
    "print('Der Korrelationskoeffizient nach Pearson für Datensatz 1 beträgt:', p_corr1)\n",
    "print('Der Korrelationskoeffizient nach Pearson für Datensatz 2 beträgt:', p_corr2)\n",
    "print('Der Korrelationskoeffizient nach Pearson für Datensatz 3 beträgt:', p_corr3)\n",
    "print('Der Korrelationskoeffizient nach Pearson für Datensatz 4 beträgt:', p_corr4)\n",
    "print('Der Korrelationskoeffizient nach Pearson für Datensatz 4 beträgt:', p_corr5)"
   ]
  },
  {
   "cell_type": "markdown",
   "metadata": {},
   "source": [
    "Als nächstes möchten wir die jeweiligen Daten mithilfe von `matplotlib` in Streudiagrammen (scatter plots) visualisieren. Benutze diesmal [subplots](https://matplotlib.org/api/_as_gen/matplotlib.pyplot.subplots.html), um die Grafiken nebeneinander darzustellen (*Tipp*: Man kann die Größe einer Figure mit dem optionalen Parameter `figsize` anpassen)."
   ]
  },
  {
   "cell_type": "code",
   "execution_count": 166,
   "metadata": {},
   "outputs": [
    {
     "data": {
      "image/png": "[encoded data removed]",
      "text/plain": [
       "<Figure size 864x864 with 5 Axes>"
      ]
     },
     "metadata": {},
     "output_type": "display_data"
    }
   ],
   "source": [
    "plt.rcParams[\"figure.figsize\"] = [12,12]\n",
    "plt.subplot(151)\n",
    "plt.scatter(x = df1.x, y = df1.y)\n",
    "\n",
    "plt.subplot(152)\n",
    "plt.scatter(x = df2.x, y = df2.y)\n",
    "\n",
    "plt.subplot(153)\n",
    "plt.scatter(x = df3.x, y = df3.y)\n",
    "\n",
    "plt.subplot(154)\n",
    "plt.scatter(x = df4.x, y = df4.y)\n",
    "\n",
    "plt.subplot(155)\n",
    "plt.scatter(x = df5.x, y = df5.y)\n",
    "\n",
    "plt.show()"
   ]
  },
  {
   "cell_type": "code",
   "execution_count": null,
   "metadata": {},
   "outputs": [],
   "source": [
    "# 0.25 Punkte"
   ]
  },
  {
   "cell_type": "markdown",
   "metadata": {},
   "source": [
    "Leite nun mithilfe der Visualisierungen eine approximative Formel für die jeweiligen Datensätze her (zum Beispiel: $Y = 4X + 3$)."
   ]
  },
  {
   "cell_type": "markdown",
   "metadata": {},
   "source": [
    "Approximative Formeln:\n",
    "- Datensatz 1: $''Y=2X''$\n",
    "- Datensatz 2: $''Y=-1,5X''$\n",
    "- Datensatz 3: $'Streung zu groß'$\n",
    "- Datensatz 4: $''Y= x^2-5''$\n",
    "- Datensatz 5: $'Keine Form erkennbar'$"
   ]
  },
  {
   "cell_type": "code",
   "execution_count": null,
   "metadata": {},
   "outputs": [],
   "source": [
    "# 0.75 Punkte"
   ]
  },
  {
   "cell_type": "markdown",
   "metadata": {},
   "source": [
    "Erkläre, weshalb der Korrelationskoeffizient für Datensatz 3 kleiner ist als der für Datensatz 1 und 2."
   ]
  },
  {
   "cell_type": "markdown",
   "metadata": {},
   "source": [
    "Je näher der Scatter Plot eines Datensatzes an einer Linie ist desto näher ist der Korrelationskoeffizient an 1 bzw -1. Dies bedeutet die Werte hängen stark zusammen."
   ]
  },
  {
   "cell_type": "code",
   "execution_count": null,
   "metadata": {},
   "outputs": [],
   "source": [
    "# 0.25 Punkte"
   ]
  },
  {
   "cell_type": "markdown",
   "metadata": {},
   "source": [
    "Warum fällt der Korrelationskoeffizient für Datensatz 4 und 5 jeweils so niedrig aus?"
   ]
  },
  {
   "cell_type": "markdown",
   "metadata": {},
   "source": [
    "In Datensatz 5 lässt sich absolut kein Zusammenhang zwischen den verschiedenen (x,y) Tupeln finden, daher existiert auch keine Korrelation und der Wert ist niedrig. In Datensatz 5 besteht zwar ein Zusammenhang, die Korrelation nach Pearson erkennt jedoch nur lineare Zusammenhänge und dieser hier ist quadratisch"
   ]
  },
  {
   "cell_type": "code",
   "execution_count": null,
   "metadata": {},
   "outputs": [],
   "source": [
    "# 0.25 Punkte"
   ]
  },
  {
   "cell_type": "markdown",
   "metadata": {},
   "source": [
    "Erkläre, welche Beziehung ein Maß zur Berechnung der Korrelation für Datensatz 4 erkennen müsste. Warum findet die Korrelation nach Pearson diese nicht?"
   ]
  },
  {
   "cell_type": "markdown",
   "metadata": {},
   "source": [
    "Die Korrelation in Datensatz 4 ist quadratisch, Pearson erkennt nur lineare Korrelationen"
   ]
  },
  {
   "cell_type": "code",
   "execution_count": null,
   "metadata": {},
   "outputs": [],
   "source": [
    "# 0.25 Punkte"
   ]
  },
  {
   "cell_type": "markdown",
   "metadata": {},
   "source": [
    "## Aufgabe 4: Mutual-Information (3 Punkte)\n",
    "\n",
    "In dieser Aufgabe beschäftigen wir uns mit dem Mutual Information Score. Berechne diesen für die vier Datensätze `df1`, `df2`, `df3`, `df4` und `df5` aus Aufgabe 3. Definiere hierfür zwei Funktionen `shannon_entropy` und `mutual_information`.\n",
    "Die Funktion `shannon_entropy` bekommt ein n-dimensionales `numpy` Array, berechnet die Entropy und gibt diese zurück.\n",
    "Die Funktion `mutual_information` bekommt zwei Arrays `x` und `y`, sowie einen Integer `bins`. `mutual_information` diskretisiert zunächst beide Variablen `x` und `y`, bildet dann die Kontingenztabelle für beide Variablen und berechnet anschließend mithilfe der Funktion `shannon_entropy` den Mutual Information Score und gibt diesen zurück. "
   ]
  },
  {
   "cell_type": "code",
   "execution_count": null,
   "metadata": {},
   "outputs": [],
   "source": [
    "def shannon_entropy(np_array):\n",
    "    \"\"\"\n",
    "    Compute the shannon entropy for an n-dimensional numpy array.\n",
    "    \n",
    "    :param: np_array: n-dimensional numpy array\n",
    "    \n",
    "    :return: the shannon entropy\n",
    "    \"\"\"\n",
    "    pass\n",
    "\n",
    "def mutual_information(x, y, bins):\n",
    "    \"\"\"\n",
    "    Compute the mutual information score between x and y.\n",
    "    \n",
    "    :param: x: first variable for which the mutual information score will be computed\n",
    "    :param: y: second variable for which the mutual information score will be computed\n",
    "    :param: bins: the number of bins to use to discretize the variables\n",
    "    \n",
    "    :return: the mutual information score\n",
    "    \"\"\"\n",
    "    pass"
   ]
  },
  {
   "cell_type": "code",
   "execution_count": null,
   "metadata": {
    "scrolled": true
   },
   "outputs": [],
   "source": [
    "# 1.5 Punkte (1.0 Punkte für mutual_information und 0.5 Punkte für shannon_entropy)\n",
    "# Grading Test:\n",
    "import numpy as np\n",
    "bins = 4\n",
    "print('Mutual Information für Datensatz 1:', mutual_information(df1['x'], df1['y'], bins))\n",
    "print('Mutual Information für Datensatz 2:', mutual_information(df2['x'], df2['y'], bins))\n",
    "print('Mutual Information für Datensatz 3:', mutual_information(df3['x'], df3['y'], bins))\n",
    "print('Mutual Information für Datensatz 4:', mutual_information(df4['x'], df4['y'], bins))\n",
    "print('Mutual Information für Datensatz 5:', mutual_information(df5['x'], df5['y'], bins))"
   ]
  },
  {
   "cell_type": "markdown",
   "metadata": {},
   "source": [
    "Vergleiche die Mutual Information Scores mit den Korrelationskoeffizienten nach Pearson, die wir für die jeweiligen Datensätze in Aufgabe 3 berechnet haben. Drücken die Mutual Information Scores deinen anfänglichen Eindruck bezüglich der Korrelation der Daten besser aus als die Korrelationskoeffizienten? Begründe deine Antwort."
   ]
  },
  {
   "cell_type": "markdown",
   "metadata": {},
   "source": [
    "$$ # TODO $$"
   ]
  },
  {
   "cell_type": "code",
   "execution_count": null,
   "metadata": {},
   "outputs": [],
   "source": [
    "# 0.25 Punkte"
   ]
  },
  {
   "cell_type": "markdown",
   "metadata": {},
   "source": [
    "In der ersten Teilaufgabe, haben wir uns für einen \"binning\" Wert von 4 entschieden. Dieser führt zu einer grobgranularen Aufteilung der Daten. Im Folgenden haben wir erneut die Mutual Information Scores berechnet, diesmal jedoch feingranularer."
   ]
  },
  {
   "cell_type": "code",
   "execution_count": null,
   "metadata": {},
   "outputs": [],
   "source": [
    "bins = 100\n",
    "print('Mutual Information für Datensatz 1:', mutual_information(df1['x'], df1['y'], bins))\n",
    "print('Mutual Information für Datensatz 2:', mutual_information(df2['x'], df2['y'], bins))\n",
    "print('Mutual Information für Datensatz 3:', mutual_information(df3['x'], df3['y'], bins))\n",
    "print('Mutual Information für Datensatz 4:', mutual_information(df4['x'], df4['y'], bins))\n",
    "print('Mutual Information für Datensatz 5:', mutual_information(df5['x'], df5['y'], bins))"
   ]
  },
  {
   "cell_type": "markdown",
   "metadata": {},
   "source": [
    "Vergleiche die neuen Mutual Information Scores mit den oben berechneten Werten. Interpretiere und erkläre die Werte."
   ]
  },
  {
   "cell_type": "markdown",
   "metadata": {},
   "source": [
    "$$ # TODO $$"
   ]
  },
  {
   "cell_type": "code",
   "execution_count": null,
   "metadata": {},
   "outputs": [],
   "source": [
    "# 1.25 Punkte"
   ]
  },
  {
   "cell_type": "markdown",
   "metadata": {},
   "source": [
    "## Aufgabe 5: SQL Grundlagen (2 + 1 Punkte)\n",
    "\n",
    "In dieser Aufgabe sollt ihr SQL-Statements angeben. Hierfür verwenden wir Sqlite3, das bereits mit Python installiert wurde. Beachte, dass Sqlite nicht den vollen SQL-Standard beherrscht, für unsere Anwendung hier aber ausreicht. Solltet ihr dennoch eine Operation ausführen, die nicht unterstützt wird, so könnt ihr diese umschreiben.\n",
    "\n",
    "Zunächst laden wir die nötigen Paket, stellen eine Verbindung zur Datenbank her und definieren eine Funktion, die Anfragen aud der Datenbank ausführt und die Rückgabe als `DataFram` ausgibt."
   ]
  },
  {
   "cell_type": "code",
   "execution_count": 170,
   "metadata": {},
   "outputs": [],
   "source": [
    "from IPython.display import HTML  # required to display HTML directly in the jupyter notebook\n",
    "import sqlite3\n",
    "import pandas as pd\n",
    "\n",
    "# establish connection to the db\n",
    "con = sqlite3.connect('photo.db')\n",
    "\n",
    "# execute query on db and display result\n",
    "def query(sql):\n",
    "    with con:\n",
    "        df = pd.read_sql_query(sql, con)  # executes query and puts result into df\n",
    "        display(HTML(df.to_html(index=False)))  # displays df without index"
   ]
  },
  {
   "cell_type": "markdown",
   "metadata": {},
   "source": [
    "Gib für die folgenden umgangsprachlichen Anfragen SQL-Statements an, um diese auf der Datenbank auszuführen. Ersetze hierfür jeweils die vordefinierte Dummy Anfrage. Achte darauf, dass du die Anfrage mit einem Semikolon ( ; ) terminierst.\n",
    "\n",
    "*Tipp:* Es ist möglich, SQL-Anfragen zu verschachteln:\n",
    "\n",
    "```sql\n",
    "SELECT *\n",
    "FROM (SELECT *\n",
    "      FROM irgendeineTabelle) AS irgendwas\n",
    "WHERE irgendeineBedingung = 'gilt';\n",
    "```"
   ]
  },
  {
   "cell_type": "markdown",
   "metadata": {},
   "source": [
    "* Mitarbeiter-ID als 'FotographID' und Gehalt aller Fotographen, die mit Vornamen nicht 'Peter' heißen."
   ]
  },
  {
   "cell_type": "code",
   "execution_count": 168,
   "metadata": {},
   "outputs": [
    {
     "data": {
      "text/html": [
       "<table border=\"1\" class=\"dataframe\">\n",
       "  <thead>\n",
       "    <tr style=\"text-align: right;\">\n",
       "      <th>TODO: answer</th>\n",
       "    </tr>\n",
       "  </thead>\n",
       "  <tbody>\n",
       "    <tr>\n",
       "      <td>42</td>\n",
       "    </tr>\n",
       "  </tbody>\n",
       "</table>"
      ],
      "text/plain": [
       "<IPython.core.display.HTML object>"
      ]
     },
     "metadata": {},
     "output_type": "display_data"
    }
   ],
   "source": [
    "query(\n",
    "SELECT (Gehalt\n",
    "        FROM (SELECT FotographID\n",
    "             FROM )\n",
    ")"
   ]
  },
  {
   "cell_type": "code",
   "execution_count": null,
   "metadata": {},
   "outputs": [],
   "source": [
    "# 0.25 Punkte"
   ]
  },
  {
   "cell_type": "markdown",
   "metadata": {},
   "source": [
    "* Die unterschiedlichen, alphabetisch sortierten Branchen aller Kunden, die vor dem Jahr 1980 geboren wurden und schon einmal etwas gekauft haben."
   ]
  },
  {
   "cell_type": "code",
   "execution_count": null,
   "metadata": {},
   "outputs": [],
   "source": [
    "query(\n",
    "'''\n",
    "SELECT 42 AS 'TODO: answer';\n",
    "'''\n",
    ")"
   ]
  },
  {
   "cell_type": "code",
   "execution_count": null,
   "metadata": {},
   "outputs": [],
   "source": [
    "# 0.25 Punkte"
   ]
  },
  {
   "cell_type": "markdown",
   "metadata": {},
   "source": [
    "* Die ID als 'FotoID' und den in 'Verkaufspreis' umbenannten und um 100 Euro reduzierten Preis aller (möglcherweise mehrfach) verkauften Fotos, die (mit Reduzierung) weniger als 900 Euro gekostet haben und mit einer Kamera der Marke 'Canon' aufgenommen wurden. Das Ergebnis soll absteigend nach dem Verkaufspreis sortiert sein."
   ]
  },
  {
   "cell_type": "code",
   "execution_count": null,
   "metadata": {
    "scrolled": true
   },
   "outputs": [],
   "source": [
    "query(\n",
    "'''\n",
    "SELECT 42 AS 'TODO: answer';\n",
    "'''\n",
    ")"
   ]
  },
  {
   "cell_type": "code",
   "execution_count": null,
   "metadata": {},
   "outputs": [],
   "source": [
    "# 0.5 Punkte"
   ]
  },
  {
   "cell_type": "markdown",
   "metadata": {},
   "source": [
    "* Die IDs als 'MitarbeiterID' und die Vornamen der Mitarbeiter, die jeweils mindestens 50.000 Euro als Gehalt verdienen, sortiert nach Vorname. Jeder Eintrag im Ergebnis soll zusätzlich das Wort 'Vielverdiener' in einer eigenen Spalte namens 'Status' angehängt bekommen."
   ]
  },
  {
   "cell_type": "code",
   "execution_count": null,
   "metadata": {},
   "outputs": [],
   "source": [
    "query(\n",
    "'''\n",
    "SELECT 42 AS 'TODO: answer';\n",
    "'''\n",
    ")"
   ]
  },
  {
   "cell_type": "code",
   "execution_count": null,
   "metadata": {},
   "outputs": [],
   "source": [
    "# 0.5 Punkte"
   ]
  },
  {
   "cell_type": "markdown",
   "metadata": {},
   "source": [
    "* ID, Name und Vorname der Seniors, die Fotographen managen, die Anzahl der Fotographen, die sie managen als 'AnzahlManagt' sowie das Alter des ältesten Fotographen, der von ihnen gemanagt wird zum Zeitpunkt eurer Abgabe ('2018-05-03') als 'ÄltesterFotograph'."
   ]
  },
  {
   "cell_type": "code",
   "execution_count": null,
   "metadata": {},
   "outputs": [],
   "source": [
    "query(\n",
    "'''\n",
    "SELECT 42 AS 'TODO: answer';\n",
    "'''\n",
    ")"
   ]
  },
  {
   "cell_type": "code",
   "execution_count": null,
   "metadata": {},
   "outputs": [],
   "source": [
    "# 0.5 Punkte"
   ]
  },
  {
   "cell_type": "markdown",
   "metadata": {},
   "source": [
    "* **Bonus**: Zu jedem Mitarbeiter die ID als 'MitarbeiterID', der Vor- und Nachname sowie das Spezialgebiet und die Anzahl der grauen Haare (falls vorhanden). Außerdem soll in drei weiteren Spalten namens 'istSenior', 'istFotograph' und 'istVerkaeufer' jeweils 1 ausgegeben werden wenn das entsprechende zutrifft. Im Ergebnis sollen nur Mitarbeiter mit Erfahrungsstufe 'Profi' oder 'Fortgeschrittener' vorkommen. Das Ergebnis soll aufsteigend nach Geburtsdatum sortiert sein."
   ]
  },
  {
   "cell_type": "code",
   "execution_count": null,
   "metadata": {},
   "outputs": [],
   "source": [
    "query(\n",
    "'''\n",
    "SELECT 42 AS 'TODO: answer';\n",
    "'''\n",
    ")"
   ]
  },
  {
   "cell_type": "code",
   "execution_count": null,
   "metadata": {},
   "outputs": [],
   "source": [
    "# 1.0 Punkte"
   ]
  },
  {
   "cell_type": "raw",
   "metadata": {},
   "source": []
  },
  {
   "cell_type": "markdown",
   "metadata": {},
   "source": [
    "## Abgabe\n",
    "\n",
    "Das Jupyter Notebook ist über das CMS bis zum dort angegebenen Abgabezeitpunkt (Donnerstag Morgen 10 Uhr) hochzuladen. Setzt vor dem Hochladen alle Outputs über `Kernel -> Restart & Clear Outputs` zurück. Ladet eine einzelne `.ipynb` Datei hoch, insbesondere sollen Datensätze nicht mit abgegeben werden. Tragt nachfolgend alle Teammitglieder mit Matrikelnummer ein.\n",
    "\n",
    "Team:\n",
    "- **hier Team eintragen:** Lars Jessen 2557660\n",
    "- **hier Team eintragen:** Vorname Nachname (Matrikelnummer)\n",
    "- **hier Team eintragen:** Vorname Nachname (Matrikelnummer)"
   ]
  }
 ],
 "metadata": {
  "kernelspec": {
   "display_name": "Python 3",
   "language": "python",
   "name": "python3"
  },
  "language_info": {
   "codemirror_mode": {
    "name": "ipython",
    "version": 3
   },
   "file_extension": ".py",
   "mimetype": "text/x-python",
   "name": "python",
   "nbconvert_exporter": "python",
   "pygments_lexer": "ipython3",
   "version": "3.6.5"
  }
 },
 "nbformat": 4,
 "nbformat_minor": 2
}
