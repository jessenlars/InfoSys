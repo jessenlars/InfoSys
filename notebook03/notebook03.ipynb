{
 "cells": [
  {
   "cell_type": "markdown",
   "metadata": {},
   "source": [
    "# Notebook 3: SQL und Explorative Analyse\n",
    "\n",
    "## Aufgabe 1: Deskriptive Statistik und Visualisierung (1 Punkt)\n",
    "\n",
    "Wir unterscheiden zwei Ansätze bei der Analyse eines neuen Datensatzes: deskriptive Statistik und Visualisierung. In dieser Aufgabe wollen wir zeigen, dass oft eine Methode allein nicht ausreicht, um ein Gefühl für die vorliegenden Daten zu bekommen. Wir beginnen damit zwei neue Datensätze zu laden."
   ]
  },
  {
   "cell_type": "code",
   "execution_count": null,
   "metadata": {},
   "outputs": [],
   "source": [
    "# Daten laden\n",
    "import pandas as pd\n",
    "\n",
    "df1 = pd.read_csv('./datasets/data1.csv')\n",
    "df2 = pd.read_csv('./datasets/data2.csv')"
   ]
  },
  {
   "cell_type": "code",
   "execution_count": null,
   "metadata": {},
   "outputs": [],
   "source": [
    "display(df1.head())\n",
    "display(df2.head())"
   ]
  },
  {
   "cell_type": "markdown",
   "metadata": {},
   "source": [
    "### 1.1 Deskriptive Statistik (0.5 Punkte)\n",
    "Führe eine statistische Analyse der oben geladenen Datensätze durch. Berechne dazu für `x` und `y` beider Datensätze folgende stastische Werte und gebe sie aus:\n",
    "- Mittelwert\n",
    "- Standardabweichung\n",
    "- Korrelationskoeffizient nach Pearson"
   ]
  },
  {
   "cell_type": "code",
   "execution_count": null,
   "metadata": {},
   "outputs": [],
   "source": [
    "'''\n",
    "TODO: implement\n",
    "'''"
   ]
  },
  {
   "cell_type": "markdown",
   "metadata": {},
   "source": [
    "Gib anhand der jeweiligen Werte eine kleine Einschätzung zur Ähnlichkeit der beiden Datensätze ab. (ein Satz)"
   ]
  },
  {
   "cell_type": "markdown",
   "metadata": {},
   "source": [
    "$$ # TODO $$"
   ]
  },
  {
   "cell_type": "code",
   "execution_count": null,
   "metadata": {},
   "outputs": [],
   "source": [
    "# 0.5 Punkte"
   ]
  },
  {
   "cell_type": "markdown",
   "metadata": {},
   "source": [
    "### 1.2 Visualisierung (0.5 Punkte)\n",
    "Nun testen wir, ob unsere vorherige Einschätzung richtig war. Dazu wollen wir die Daten zunächst mithilfe von Box-Whisker Plots visualisieren. Dabei sollen jeweils die `x`- und `y`-Werte der Datensätze verglichen werden. Implementiere hierfür die Funktion `plot_boxplot`, die zwei DataFrames sowie den entsprechenden Spaltennamen als String bekommt und dann einen Boxplot mithilfe von `matplotlib` erstellt und anzeigt. Der Boxplot soll zusätzlich den Mittelwert anzeigen."
   ]
  },
  {
   "cell_type": "code",
   "execution_count": null,
   "metadata": {},
   "outputs": [],
   "source": [
    "import matplotlib.pyplot as plt\n",
    "\n",
    "def plot_boxplot(df1, df2, attr):\n",
    "    \"\"\"\n",
    "    Creates a boxplot for the provided attribute of each dataframe.\n",
    "    \n",
    "    :param: df1: The first dataframe\n",
    "    :param: df2: The second dataframe\n",
    "    :param: attr: The name of the attribute to be plotted \n",
    "    \"\"\"\n",
    "    pass"
   ]
  },
  {
   "cell_type": "markdown",
   "metadata": {},
   "source": [
    "Nach Betrachtung der oben erstellten Plots, ändert sich deine Einschätzung? (ein bis zwei Sätze)"
   ]
  },
  {
   "cell_type": "markdown",
   "metadata": {},
   "source": [
    "$$ # TODO $$"
   ]
  },
  {
   "cell_type": "code",
   "execution_count": null,
   "metadata": {},
   "outputs": [],
   "source": [
    "# 0.25 Punkte\n",
    "# Grading Test:\n",
    "plot_boxplot(df1, df2, 'x')\n",
    "plot_boxplot(df1, df2, 'y')"
   ]
  },
  {
   "cell_type": "markdown",
   "metadata": {},
   "source": [
    "In dieser Teilaufgabe möchten wir uns eine andere Art der Visualisierung zunutze machen. Erstelle mithilfe von `matplotlib` Streudiagramme (scatter plots) für beide Datensätze. "
   ]
  },
  {
   "cell_type": "code",
   "execution_count": null,
   "metadata": {},
   "outputs": [],
   "source": [
    "'''\n",
    "TODO: implement\n",
    "'''"
   ]
  },
  {
   "cell_type": "markdown",
   "metadata": {},
   "source": [
    "Wie lautet nun deine Einschätzung zur Ähnlichkeit der Daten? (ein Satz)"
   ]
  },
  {
   "cell_type": "markdown",
   "metadata": {},
   "source": [
    "$$ # TODO $$"
   ]
  },
  {
   "cell_type": "code",
   "execution_count": null,
   "metadata": {},
   "outputs": [],
   "source": [
    "# 0.25 Punkte"
   ]
  },
  {
   "cell_type": "markdown",
   "metadata": {},
   "source": [
    "## Aufgabe 2: Mozzarella and Doctoral Degrees (2 Punkt)\n",
    "\n",
    "In dieser Aufgabe beschäftigen wir uns mit einem echten Datensatz. Der Datensaty stammt aus einer neuen amerikanischne Studie, die zeigt, dass eine sehr starke Korrelation zwischen dem pro Kopf Konsum von Mozzarella (in Pfund) und der Anzahl an Promotionen im Bauingenieurwesen besteht. Im Folgenden möchten wir überprüfen, ob diese Behauptung stimmt. Zunächst laden wir die Daten."
   ]
  },
  {
   "cell_type": "code",
   "execution_count": null,
   "metadata": {},
   "outputs": [],
   "source": [
    "# Daten laden\n",
    "import pandas as pd\n",
    "df = pd.read_csv('./datasets/mozzarella_doctorates.csv')\n",
    "df"
   ]
  },
  {
   "cell_type": "markdown",
   "metadata": {},
   "source": [
    "Berechne nun den Korrelationskoeffizienten nach Pearson zwischen `Mozzarella` und `Doctorates` und speichere das Ergebnis in der Variablen `corr` ab."
   ]
  },
  {
   "cell_type": "code",
   "execution_count": null,
   "metadata": {},
   "outputs": [],
   "source": [
    "'''\n",
    "TODO: implement\n",
    "'''\n",
    "corr = None"
   ]
  },
  {
   "cell_type": "code",
   "execution_count": null,
   "metadata": {},
   "outputs": [],
   "source": [
    "# 0.25 Punkte\n",
    "# Grading Test:\n",
    "display(corr)"
   ]
  },
  {
   "cell_type": "markdown",
   "metadata": {},
   "source": [
    "Als nächstes möchten wir die Daten visualisieren. Erstelle mithilfe von `matplotlib` **ein** Liniendiagramm mit zwei Kurven. Auf der x-Achse soll das Jahr abgetragen werden. Auf der y-Achse soll sowohl der pro Kopf Konsum von Mozzarella in Pfund (erste Kurve) als auch die Anzahl an Promotionen im Bauinenieurwesen (zweite Kurve) abgetragen werden. Achte beim Plot auf aussagekräftige Achsenbeschriftungen. (*Tipp*: Ein Beispiel für einen Plot mit zwei Kurven, die unterschiede Skalen verwenden, findet ihr [hier](https://matplotlib.org/examples/api/two_scales.html).)"
   ]
  },
  {
   "cell_type": "code",
   "execution_count": null,
   "metadata": {},
   "outputs": [],
   "source": [
    "'''\n",
    "TODO: implement\n",
    "'''"
   ]
  },
  {
   "cell_type": "code",
   "execution_count": null,
   "metadata": {},
   "outputs": [],
   "source": [
    "# 0.75 Punkte"
   ]
  },
  {
   "cell_type": "markdown",
   "metadata": {},
   "source": [
    "Sollten Amerikaner mehr Mozzarella essen, damit es mehr promovierte Bauingenieure gibt? Belegen die statistischen und visuellen Ergebnisse die ursprüngliche Aussage? Vertraust du diesen Ergebnissen? Begründe deine Antwort. (ein bis zwei Sätze)\n"
   ]
  },
  {
   "cell_type": "markdown",
   "metadata": {},
   "source": [
    "$$ # TODO $$'"
   ]
  },
  {
   "cell_type": "code",
   "execution_count": null,
   "metadata": {},
   "outputs": [],
   "source": [
    "# 1.0 Punkte"
   ]
  },
  {
   "cell_type": "markdown",
   "metadata": {},
   "source": [
    "## Aufgabe 3: Non-Linear Correlations (2 Punkte)\n",
    "\n",
    "In dieser Aufgabe schauen wir uns vier verschiedene Datensätze an, die alle aus 500 Datenpunkten bestehen und jeweils zwei Spalten `x` und `y` haben."
   ]
  },
  {
   "cell_type": "code",
   "execution_count": null,
   "metadata": {},
   "outputs": [],
   "source": [
    "# Daten laden\n",
    "import pandas as pd\n",
    "df1 = pd.read_csv('./datasets/data3.csv')\n",
    "df2 = pd.read_csv('./datasets/data4.csv')\n",
    "df3 = pd.read_csv('./datasets/data5.csv')\n",
    "df4 = pd.read_csv('./datasets/data6.csv')\n",
    "df5 = pd.read_csv('./datasets/data7.csv')"
   ]
  },
  {
   "cell_type": "markdown",
   "metadata": {},
   "source": [
    "Berechne zunächst den Korrelationskoeffizienten nach Pearson für die jeweiligen Datensätze und speichere deine Ergebnisse in den entsprechenden Variablen."
   ]
  },
  {
   "cell_type": "code",
   "execution_count": null,
   "metadata": {},
   "outputs": [],
   "source": [
    "'''\n",
    "TODO: implement\n",
    "'''\n",
    "p_corr1 = None\n",
    "p_corr2 = None\n",
    "p_corr3 = None\n",
    "p_corr4 = None\n",
    "p_corr5 = None"
   ]
  },
  {
   "cell_type": "code",
   "execution_count": null,
   "metadata": {},
   "outputs": [],
   "source": [
    "# 0.25 Punkte\n",
    "# Grading Test:\n",
    "print('Der Korrelationskoeffizient nach Pearson für Datensatz 1 beträgt:', p_corr1)\n",
    "print('Der Korrelationskoeffizient nach Pearson für Datensatz 2 beträgt:', p_corr2)\n",
    "print('Der Korrelationskoeffizient nach Pearson für Datensatz 3 beträgt:', p_corr3)\n",
    "print('Der Korrelationskoeffizient nach Pearson für Datensatz 4 beträgt:', p_corr4)\n",
    "print('Der Korrelationskoeffizient nach Pearson für Datensatz 4 beträgt:', p_corr5)"
   ]
  },
  {
   "cell_type": "markdown",
   "metadata": {},
   "source": [
    "Als nächstes möchten wir die jeweiligen Daten mithilfe von `matplotlib` in Streudiagrammen (scatter plots) visualisieren. Benutze diesmal [subplots](https://matplotlib.org/api/_as_gen/matplotlib.pyplot.subplots.html), um die Grafiken nebeneinander darzustellen (*Tipp*: Man kann die Größe einer Figure mit dem optionalen Parameter `figsize` anpassen)."
   ]
  },
  {
   "cell_type": "code",
   "execution_count": null,
   "metadata": {},
   "outputs": [],
   "source": [
    "'''\n",
    "TODO: implement\n",
    "'''"
   ]
  },
  {
   "cell_type": "code",
   "execution_count": null,
   "metadata": {},
   "outputs": [],
   "source": [
    "# 0.25 Punkte"
   ]
  },
  {
   "cell_type": "markdown",
   "metadata": {},
   "source": [
    "Leite nun mithilfe der Visualisierungen eine approximative Formel für die jeweiligen Datensätze her (zum Beispiel: $Y = 4X + 3$)."
   ]
  },
  {
   "cell_type": "markdown",
   "metadata": {},
   "source": [
    "Approximative Formeln:\n",
    "- Datensatz 1: $'''TODO: answer'''$\n",
    "- Datensatz 2: $'''TODO: answer'''$\n",
    "- Datensatz 3: $'''TODO: answer'''$\n",
    "- Datensatz 4: $'''TODO: answer'''$\n",
    "- Datensatz 5: $'''TODO: answer'''$"
   ]
  },
  {
   "cell_type": "code",
   "execution_count": null,
   "metadata": {},
   "outputs": [],
   "source": [
    "# 0.75 Punkte"
   ]
  },
  {
   "cell_type": "markdown",
   "metadata": {},
   "source": [
    "Erkläre, weshalb der Korrelationskoeffizient für Datensatz 3 kleiner ist als der für Datensatz 1 und 2."
   ]
  },
  {
   "cell_type": "markdown",
   "metadata": {},
   "source": [
    "$$ # TODO $$"
   ]
  },
  {
   "cell_type": "code",
   "execution_count": null,
   "metadata": {},
   "outputs": [],
   "source": [
    "# 0.25 Punkte"
   ]
  },
  {
   "cell_type": "markdown",
   "metadata": {},
   "source": [
    "Warum fällt der Korrelationskoeffizient für Datensatz 4 und 5 jeweils so niedrig aus?"
   ]
  },
  {
   "cell_type": "markdown",
   "metadata": {},
   "source": [
    "$$ # TODO $$"
   ]
  },
  {
   "cell_type": "code",
   "execution_count": null,
   "metadata": {},
   "outputs": [],
   "source": [
    "# 0.25 Punkte"
   ]
  },
  {
   "cell_type": "markdown",
   "metadata": {},
   "source": [
    "Erkläre, welche Beziehung ein Maß zur Berechnung der Korrelation für Datensatz 4 erkennen müsste. Warum findet die Korrelation nach Pearson diese nicht?"
   ]
  },
  {
   "cell_type": "markdown",
   "metadata": {},
   "source": [
    "$$ # TODO $$"
   ]
  },
  {
   "cell_type": "code",
   "execution_count": null,
   "metadata": {},
   "outputs": [],
   "source": [
    "# 0.25 Punkte"
   ]
  },
  {
   "cell_type": "markdown",
   "metadata": {},
   "source": [
    "## Aufgabe 4: Mutual-Information (3 Punkte)\n",
    "\n",
    "In dieser Aufgabe beschäftigen wir uns mit dem Mutual Information Score. Berechne diesen für die vier Datensätze `df1`, `df2`, `df3`, `df4` und `df5` aus Aufgabe 3. Definiere hierfür zwei Funktionen `shannon_entropy` und `mutual_information`.\n",
    "Die Funktion `shannon_entropy` bekommt ein n-dimensionales `numpy` Array, berechnet die Entropy und gibt diese zurück.\n",
    "Die Funktion `mutual_information` bekommt zwei Arrays `x` und `y`, sowie einen Integer `bins`. `mutual_information` diskretisiert zunächst beide Variablen `x` und `y`, bildet dann die Kontingenztabelle für beide Variablen und berechnet anschließend mithilfe der Funktion `shannon_entropy` den Mutual Information Score und gibt diesen zurück. "
   ]
  },
  {
   "cell_type": "code",
   "execution_count": null,
   "metadata": {},
   "outputs": [],
   "source": [
    "def shannon_entropy(np_array):\n",
    "    \"\"\"\n",
    "    Compute the shannon entropy for an n-dimensional numpy array.\n",
    "    \n",
    "    :param: np_array: n-dimensional numpy array\n",
    "    \n",
    "    :return: the shannon entropy\n",
    "    \"\"\"\n",
    "    pass\n",
    "\n",
    "def mutual_information(x, y, bins):\n",
    "    \"\"\"\n",
    "    Compute the mutual information score between x and y.\n",
    "    \n",
    "    :param: x: first variable for which the mutual information score will be computed\n",
    "    :param: y: second variable for which the mutual information score will be computed\n",
    "    :param: bins: the number of bins to use to discretize the variables\n",
    "    \n",
    "    :return: the mutual information score\n",
    "    \"\"\"\n",
    "    pass"
   ]
  },
  {
   "cell_type": "code",
   "execution_count": null,
   "metadata": {
    "scrolled": true
   },
   "outputs": [],
   "source": [
    "# 1.5 Punkte (1.0 Punkte für mutual_information und 0.5 Punkte für shannon_entropy)\n",
    "# Grading Test:\n",
    "import numpy as np\n",
    "bins = 4\n",
    "print('Mutual Information für Datensatz 1:', mutual_information(df1['x'], df1['y'], bins))\n",
    "print('Mutual Information für Datensatz 2:', mutual_information(df2['x'], df2['y'], bins))\n",
    "print('Mutual Information für Datensatz 3:', mutual_information(df3['x'], df3['y'], bins))\n",
    "print('Mutual Information für Datensatz 4:', mutual_information(df4['x'], df4['y'], bins))\n",
    "print('Mutual Information für Datensatz 5:', mutual_information(df5['x'], df5['y'], bins))"
   ]
  },
  {
   "cell_type": "markdown",
   "metadata": {},
   "source": [
    "Vergleiche die Mutual Information Scores mit den Korrelationskoeffizienten nach Pearson, die wir für die jeweiligen Datensätze in Aufgabe 3 berechnet haben. Drücken die Mutual Information Scores deinen anfänglichen Eindruck bezüglich der Korrelation der Daten besser aus als die Korrelationskoeffizienten? Begründe deine Antwort."
   ]
  },
  {
   "cell_type": "markdown",
   "metadata": {},
   "source": [
    "$$ # TODO $$"
   ]
  },
  {
   "cell_type": "code",
   "execution_count": null,
   "metadata": {},
   "outputs": [],
   "source": [
    "# 0.25 Punkte"
   ]
  },
  {
   "cell_type": "markdown",
   "metadata": {},
   "source": [
    "In der ersten Teilaufgabe, haben wir uns für einen \"binning\" Wert von 4 entschieden. Dieser führt zu einer grobgranularen Aufteilung der Daten. Im Folgenden haben wir erneut die Mutual Information Scores berechnet, diesmal jedoch feingranularer."
   ]
  },
  {
   "cell_type": "code",
   "execution_count": null,
   "metadata": {},
   "outputs": [],
   "source": [
    "bins = 100\n",
    "print('Mutual Information für Datensatz 1:', mutual_information(df1['x'], df1['y'], bins))\n",
    "print('Mutual Information für Datensatz 2:', mutual_information(df2['x'], df2['y'], bins))\n",
    "print('Mutual Information für Datensatz 3:', mutual_information(df3['x'], df3['y'], bins))\n",
    "print('Mutual Information für Datensatz 4:', mutual_information(df4['x'], df4['y'], bins))\n",
    "print('Mutual Information für Datensatz 5:', mutual_information(df5['x'], df5['y'], bins))"
   ]
  },
  {
   "cell_type": "markdown",
   "metadata": {},
   "source": [
    "Vergleiche die neuen Mutual Information Scores mit den oben berechneten Werten. Interpretiere und erkläre die Werte."
   ]
  },
  {
   "cell_type": "markdown",
   "metadata": {},
   "source": [
    "$$ # TODO $$"
   ]
  },
  {
   "cell_type": "code",
   "execution_count": null,
   "metadata": {},
   "outputs": [],
   "source": [
    "# 1.25 Punkte"
   ]
  },
  {
   "cell_type": "markdown",
   "metadata": {},
   "source": [
    "## Aufgabe 5: SQL Grundlagen (2 + 1 Punkte)\n",
    "\n",
    "In dieser Aufgabe sollt ihr SQL-Statements angeben. Hierfür verwenden wir Sqlite3, das bereits mit Python installiert wurde. Beachte, dass Sqlite nicht den vollen SQL-Standard beherrscht, für unsere Anwendung hier aber ausreicht. Solltet ihr dennoch eine Operation ausführen, die nicht unterstützt wird, so könnt ihr diese umschreiben.\n",
    "\n",
    "Zunächst laden wir die nötigen Paket, stellen eine Verbindung zur Datenbank her und definieren eine Funktion, die Anfragen aud der Datenbank ausführt und die Rückgabe als `DataFram` ausgibt."
   ]
  },
  {
   "cell_type": "code",
   "execution_count": null,
   "metadata": {},
   "outputs": [],
   "source": [
    "from IPython.display import HTML  # required to display HTML directly in the jupyter notebook\n",
    "import sqlite3\n",
    "import pandas as pd\n",
    "\n",
    "# establish connection to the db\n",
    "con = sqlite3.connect('photo.db')\n",
    "\n",
    "# execute query on db and display result\n",
    "def query(sql):\n",
    "    with con:\n",
    "        df = pd.read_sql_query(sql, con)  # executes query and puts result into df\n",
    "        display(HTML(df.to_html(index=False)))  # displays df without index"
   ]
  },
  {
   "cell_type": "markdown",
   "metadata": {},
   "source": [
    "Gib für die folgenden umgangsprachlichen Anfragen SQL-Statements an, um diese auf der Datenbank auszuführen. Ersetze hierfür jeweils die vordefinierte Dummy Anfrage. Achte darauf, dass du die Anfrage mit einem Semikolon ( ; ) terminierst.\n",
    "\n",
    "*Tipp:* Es ist möglich, SQL-Anfragen zu verschachteln:\n",
    "\n",
    "```sql\n",
    "SELECT *\n",
    "FROM (SELECT *\n",
    "      FROM irgendeineTabelle) AS irgendwas\n",
    "WHERE irgendeineBedingung = 'gilt';\n",
    "```"
   ]
  },
  {
   "cell_type": "markdown",
   "metadata": {},
   "source": [
    "* Mitarbeiter-ID als 'FotographID' und Gehalt aller Fotographen, die mit Vornamen nicht 'Peter' heißen."
   ]
  },
  {
   "cell_type": "code",
   "execution_count": null,
   "metadata": {},
   "outputs": [],
   "source": [
    "query(\n",
    "'''\n",
    "SELECT 42 AS 'TODO: answer';\n",
    "'''\n",
    ")"
   ]
  },
  {
   "cell_type": "code",
   "execution_count": null,
   "metadata": {},
   "outputs": [],
   "source": [
    "# 0.25 Punkte"
   ]
  },
  {
   "cell_type": "markdown",
   "metadata": {},
   "source": [
    "* Die unterschiedlichen, alphabetisch sortierten Branchen aller Kunden, die vor dem Jahr 1980 geboren wurden und schon einmal etwas gekauft haben."
   ]
  },
  {
   "cell_type": "code",
   "execution_count": null,
   "metadata": {},
   "outputs": [],
   "source": [
    "query(\n",
    "'''\n",
    "SELECT 42 AS 'TODO: answer';\n",
    "'''\n",
    ")"
   ]
  },
  {
   "cell_type": "code",
   "execution_count": null,
   "metadata": {},
   "outputs": [],
   "source": [
    "# 0.25 Punkte"
   ]
  },
  {
   "cell_type": "markdown",
   "metadata": {},
   "source": [
    "* Die ID als 'FotoID' und den in 'Verkaufspreis' umbenannten und um 100 Euro reduzierten Preis aller (möglcherweise mehrfach) verkauften Fotos, die (mit Reduzierung) weniger als 900 Euro gekostet haben und mit einer Kamera der Marke 'Canon' aufgenommen wurden. Das Ergebnis soll absteigend nach dem Verkaufspreis sortiert sein."
   ]
  },
  {
   "cell_type": "code",
   "execution_count": null,
   "metadata": {
    "scrolled": true
   },
   "outputs": [],
   "source": [
    "query(\n",
    "'''\n",
    "SELECT 42 AS 'TODO: answer';\n",
    "'''\n",
    ")"
   ]
  },
  {
   "cell_type": "code",
   "execution_count": null,
   "metadata": {},
   "outputs": [],
   "source": [
    "# 0.5 Punkte"
   ]
  },
  {
   "cell_type": "markdown",
   "metadata": {},
   "source": [
    "* Die IDs als 'MitarbeiterID' und die Vornamen der Mitarbeiter, die jeweils mindestens 50.000 Euro als Gehalt verdienen, sortiert nach Vorname. Jeder Eintrag im Ergebnis soll zusätzlich das Wort 'Vielverdiener' in einer eigenen Spalte namens 'Status' angehängt bekommen."
   ]
  },
  {
   "cell_type": "code",
   "execution_count": null,
   "metadata": {},
   "outputs": [],
   "source": [
    "query(\n",
    "'''\n",
    "SELECT 42 AS 'TODO: answer';\n",
    "'''\n",
    ")"
   ]
  },
  {
   "cell_type": "code",
   "execution_count": null,
   "metadata": {},
   "outputs": [],
   "source": [
    "# 0.5 Punkte"
   ]
  },
  {
   "cell_type": "markdown",
   "metadata": {},
   "source": [
    "* ID, Name und Vorname der Seniors, die Fotographen managen, die Anzahl der Fotographen, die sie managen als 'AnzahlManagt' sowie das Alter des ältesten Fotographen, der von ihnen gemanagt wird zum Zeitpunkt eurer Abgabe ('2018-05-03') als 'ÄltesterFotograph'."
   ]
  },
  {
   "cell_type": "code",
   "execution_count": null,
   "metadata": {},
   "outputs": [],
   "source": [
    "query(\n",
    "'''\n",
    "SELECT 42 AS 'TODO: answer';\n",
    "'''\n",
    ")"
   ]
  },
  {
   "cell_type": "code",
   "execution_count": null,
   "metadata": {},
   "outputs": [],
   "source": [
    "# 0.5 Punkte"
   ]
  },
  {
   "cell_type": "markdown",
   "metadata": {},
   "source": [
    "* **Bonus**: Zu jedem Mitarbeiter die ID als 'MitarbeiterID', der Vor- und Nachname sowie das Spezialgebiet und die Anzahl der grauen Haare (falls vorhanden). Außerdem soll in drei weiteren Spalten namens 'istSenior', 'istFotograph' und 'istVerkaeufer' jeweils 1 ausgegeben werden wenn das entsprechende zutrifft. Im Ergebnis sollen nur Mitarbeiter mit Erfahrungsstufe 'Profi' oder 'Fortgeschrittener' vorkommen. Das Ergebnis soll aufsteigend nach Geburtsdatum sortiert sein."
   ]
  },
  {
   "cell_type": "code",
   "execution_count": null,
   "metadata": {},
   "outputs": [],
   "source": [
    "query(\n",
    "'''\n",
    "SELECT 42 AS 'TODO: answer';\n",
    "'''\n",
    ")"
   ]
  },
  {
   "cell_type": "code",
   "execution_count": null,
   "metadata": {},
   "outputs": [],
   "source": [
    "# 1.0 Punkte"
   ]
  },
  {
   "cell_type": "markdown",
   "metadata": {},
   "source": [
    "## Abgabe\n",
    "\n",
    "Das Jupyter Notebook ist über das CMS bis zum dort angegebenen Abgabezeitpunkt (Donnerstag Morgen 10 Uhr) hochzuladen. Setzt vor dem Hochladen alle Outputs über `Kernel -> Restart & Clear Outputs` zurück. Ladet eine einzelne `.ipynb` Datei hoch, insbesondere sollen Datensätze nicht mit abgegeben werden. Tragt nachfolgend alle Teammitglieder mit Matrikelnummer ein.\n",
    "\n",
    "Team:\n",
    "- **hier Team eintragen:** Vorname Nachname (Matrikelnummer)\n",
    "- **hier Team eintragen:** Vorname Nachname (Matrikelnummer)\n",
    "- **hier Team eintragen:** Vorname Nachname (Matrikelnummer)"
   ]
  }
 ],
 "metadata": {
  "kernelspec": {
   "display_name": "Python 3",
   "language": "python",
   "name": "python3"
  },
  "language_info": {
   "codemirror_mode": {
    "name": "ipython",
    "version": 3
   },
   "file_extension": ".py",
   "mimetype": "text/x-python",
   "name": "python",
   "nbconvert_exporter": "python",
   "pygments_lexer": "ipython3",
   "version": "3.6.5"
  }
 },
 "nbformat": 4,
 "nbformat_minor": 2
}
