{
 "cells": [
  {
   "cell_type": "markdown",
   "metadata": {},
   "source": [
    "# Notebook 2: Relationale Algebra"
   ]
  },
  {
   "cell_type": "markdown",
   "metadata": {},
   "source": [
    "## Aufgabe 1: Relationale Algebra in Python (6 Punkte)\n",
    "\n",
    "In dieser Aufgabe sollt ihr selbst zwei abgeleitete Operatoren und den Grouping-Operator der relationalen Algebra implementieren.\n",
    "\n",
    "In unserer Implementierung erlauben wir im Gegensatz zur allgemeinen Definition aus der Vorlesung keine gleichnamigen Attribute. Dadurch müssen wir uns nicht um mehrdeutige Attributnamen beim kartesischen Produkt (oder abgeleiteten Operatoren) kümmern und keine Punkt-Notation zum Referenzieren von Attributen verwenden.\n",
    "\n",
    "Als Basis für unsere Implementierung dient die Klasse `Relation` aus der `relation.py`. Sie beschreibt eine Relation mit Name, Schema (bestehend aus Attributnamen und Domains) und eine Menge von Tupeln. Für euch sind insbesondere die folgenden Methoden der Klasse wichtig:\n",
    "* `__init__`: Der Konstruktor bildet aus einem Namen `name` und ein Schema `schema` eine neue **leere** Relation.\n",
    "* `add_tuple`: Fügt der Relation ein Tupel `tup` hinzu falls das Schema übereinstimmt\n",
    "* `set_name`: Ändert den Namen eines Relationsobjekts in `name` um. Im Unterschied zu `renaming_relation` wird kein neues Relationsobjekt erzeugt. Die Umbenennung findet also *in-place* statt. Diese Methode ist wichtig um bei der Implementierung abgeleiteter Operatoren, den richtigen Relationsnamen zu setzen.\n",
    "* `print_table`: Gibt die Relation in tabellarischer Form aus.\n",
    "Außerdem hat Relation die folgenden Hilfsmethoden, die beim Grouping-Operator benötigt werden:\n",
    "* `has_attribute`: Gibt für ein Attributnamen `attribute` den Wert `True` zurück, wenn die Relation ein Attribut mit diesem Namen besitzt.\n",
    "* `get_attribute_domain`: Gibt für ein Attributnamen `attribute` des Typen zurück, wenn die Relation ein Attribut mit diesem Namen besitzt.\n",
    "* `get_attribute_domain`: Gibt für ein Attributnamen `attribute` die Position zurück, an der dieses Attribut im Schema der Relation steht, wenn die Relation ein Attribut mit diesem Namen besitzt.\n",
    "\n",
    "Alle anderen Methoden, die die Klasse bereitstellt, sollten bei der Bearbeitung der Aufgabe keine Rolle spielen, sind aber auch dokumentiert.\n",
    "\n",
    "Zunächst importieren wir die Klasse `Relation` und alle Basisoperatoren aus der Vorlesung in dieses Notebook, indem wir mithilfe von Cell Magic das Skript `relation.py`, in dem diese definiert sind, ausführen."
   ]
  },
  {
   "cell_type": "code",
   "execution_count": 1,
   "metadata": {},
   "outputs": [],
   "source": [
    "%run relation  # runs the relation.py and thereby imports the Relation class and predefined base operators"
   ]
  },
  {
   "cell_type": "markdown",
   "metadata": {},
   "source": [
    "Anschließend lesen wir alle Relationen aus dem PhotoDB Schema über die zur Verfügung gestellten .csv-Dateien ein. Hierzu wird die Funktion `load_csv` verwendet, die jeweils ein fertiges Relationsobjekt für jede .csv-Datei erstellt."
   ]
  },
  {
   "cell_type": "code",
   "execution_count": 2,
   "metadata": {},
   "outputs": [],
   "source": [
    "# load .csv files into relation objects\n",
    "erfahrungsstufen = load_csv('photodb/erfahrungsstufen.csv', 'erfahrungsstufen')\n",
    "fotoabzuege = load_csv('photodb/fotoabzuege.csv', 'fotoabzuege')\n",
    "fotographen = load_csv('photodb/fotographen.csv', 'fotographen')\n",
    "fotos = load_csv('photodb/fotos.csv', 'fotos')\n",
    "kameras = load_csv('photodb/kameras.csv', 'kameras')\n",
    "kunden = load_csv('photodb/kunden.csv', 'kunden')\n",
    "managed = load_csv('photodb/managed.csv', 'managed')\n",
    "mitarbeiter = load_csv('photodb/mitarbeiter.csv', 'mitarbeiter')\n",
    "personen = load_csv('photodb/personen.csv', 'personen')\n",
    "seniors = load_csv('photodb/seniors.csv', 'seniors')\n",
    "verkaufen = load_csv('photodb/verkaufen.csv', 'verkaufen')\n",
    "verkaeufer = load_csv('photodb/verkaeufer.csv', 'verkaeufer')"
   ]
  },
  {
   "cell_type": "markdown",
   "metadata": {},
   "source": [
    "Um den Einstieg etwas zu erleichtern, schauen wir uns zunächst die Implementierung des abgeleiteten Schnitt-Operators (intersection) an. Unsere Implementierung sieht wie folgt aus:\n",
    "\n",
    "```python\n",
    "def intersection(relation1, relation2):\n",
    "    \"\"\"\n",
    "    Computes the intersection of two relations\n",
    "\n",
    "    :param relation1: the first relation\n",
    "    :param relation2:  the second relation\n",
    "    :return: a new relation representing the intersection of the given relations\n",
    "    \"\"\"\n",
    "    # integrity checks\n",
    "    assert relation1.attributes == relation2.attributes  # the schema of both relations has to be identical\n",
    "    assert relation1.domains == relation2.domains  # # the schema of both relations has to be identical\n",
    "    # create empty new relation\n",
    "    new_name = '(' + relation1.name + ') ∩ (' + relation2.name + ')'\n",
    "    new_schema = build_schema(relation1.attributes, relation1.domains)\n",
    "    new_relation = Relation(new_name, new_schema)\n",
    "    # add all tuples of the intersection to the new relation\n",
    "    for tup in relation1.tuples & relation2.tuples:\n",
    "        new_relation.add_tuple(tup)\n",
    "    return new_relation\n",
    "```\n",
    "\n",
    "Die Funktion ist folgendermaßen aufgebaut:\n",
    "* Als Argumente bekommt sie zwei Relationen `relation1` und `relation2`, deren Schnitt berechnet werden soll.\n",
    "* Da der Schnitt voraussetzt, dass die Schemata der beiden Relationen gleich sein müssen, testen wir dies zunächst mit zwei Assertions. Dabei testet der erste Ausdruck die Gleichheit der Attributnamen beider Relationen und der zweite die Gleichheit der Typen (oder Domains). Intern verwaltet ein Relationsobjekt sein Schema als ein Tupel von Attributnamen (`attributes`) und ein Tupel von Typen zu den entsprechenden Attributnamen (`domains`).\n",
    "* Anschließend wird eine neue, leere Relation erstellt. Zum Erstellen einer Relation benötigen wir einen Namen (`new_name`) und das Schema (`new_schema`) der Ergebnisrelation. Als Namen wählen wir die Operation (Schnitt) in Verbindung mit den Namen der beiden Eingaberelationen. Da die Schemata beider Eingaberelationen gleich sind, können wir einfach eines der Schemata übernehmen. Hierzu verwenden wir die Hilfsfunktion `build_schema`, die aus einem Tupel aus Attributnamen und einem Tupel aus Typen ein Schema, wie es vom Konstruktor erwartet wird, erstellt. Die leere Relation wird dann durch Aufrufen des Konstruktors `Relation` mit den beiden Parametern `new_name` und `new_schema` erstellt.\n",
    "* Zum Schluss müssen noch die Tupel in die Relation eingefügt werden, die Teil der Ergebnisrelation sind. Intern verwaltet die Klasse `Relation` Tupel in einem `set` mit dem Namen `tuples`, das automatisch Doppelvorkommen eliminiert. Da die grundlegenden Mengenoperationen auf `sets` in Python vordefiniert sind, reicht es den Schnitt der beiden Tupelsets mit dem `&` Operator zu bilden und alle resultierenden Tupel in einer `for`-Schleife mit `add_tuple` in die Ergebnisrelation `new_relation` einzufügen und anschließend zurückzugeben.\n",
    "\n",
    "Im Folgenden soll der Theta-Join, der Left-Semi-Join und Grouping mit Aggregation implementiert werden. Beim Setzen des Namens der Ergebnisrelation könnt ihr das Symbol für die Operation einfach aus dem Erwarteten Output der Tests kopieren. Bei den Tests kann es aufgrund der Verwaltung von Tupeln als `sets` sein, dass die Reihenfolge eures Ergebnisses eine andere ist."
   ]
  },
  {
   "cell_type": "code",
   "execution_count": 3,
   "metadata": {},
   "outputs": [],
   "source": [
    "import pandas as pd"
   ]
  },
  {
   "cell_type": "markdown",
   "metadata": {},
   "source": [
    "### 1.1 Theta Join (1.5 Punkte)\n",
    "\n",
    "Implementiere den Theta-Join-Operator. Dabei sind `relation1` und `relation2` Objekte der Klasse `Relation` und `theta` ein Prädikat in Form eines strings, wie es auch bei der Selektion und dem dazugehörigen Operator `selection` verwendet wird. Zwei Beispiele zur Verwendung des Operators mit erwartetem Ergebnis findet ihr in der Testzelle."
   ]
  },
  {
   "cell_type": "code",
   "execution_count": 4,
   "metadata": {},
   "outputs": [],
   "source": [
    "# THETA JOIN\n",
    "def theta_join(relation1, relation2, theta):\n",
    "    \"\"\"\n",
    "    Performs a theta join between two relations by first performing the cartesian product and then selection\n",
    "\n",
    "    :param relation1: the first relation\n",
    "    :param relation2: the second relation\n",
    "    :param theta: the theta defining the join predicate\n",
    "    :return: a new relation computed by executing the theta join\n",
    "    \"\"\"\n",
    "    # TODO: implement this function\n",
    "        \n",
    "    new_relation1 = cartesian_product(relation1, relation2)\n",
    "    \n",
    "    new_relation2 = selection(new_relation1, theta)\n",
    "    \n",
    "    return new_relation2\n",
    "    \n",
    "    #pass"
   ]
  },
  {
   "cell_type": "code",
   "execution_count": 5,
   "metadata": {},
   "outputs": [
    {
     "name": "stdout",
     "output_type": "stream",
     "text": [
      "-------------------------------------------------\n",
      "\u001b[1mσ_{kamera==kid}((fotos) × (ρ_{kid<-id}(kameras)))\u001b[0m \n",
      "--------------------------------------------------------------------------------------------------------------------------------------------------------------------------------------------------------------------------------------------------------\n",
      "\u001b[1mid                             gpskoordinaten                 aufnahmezeitpunkt              fotograph                      kamera                         kid                            marke                          modell                         \u001b[0m \n",
      "--------------------------------------------------------------------------------------------------------------------------------------------------------------------------------------------------------------------------------------------------------\n",
      "3                              (615.65,691.95)                2013-05-14 15:42:33.031867+02  7                              2                              2                              Canon                          650d                           \n",
      "2                              (3123.98,67.987)               2013-05-14 15:40:47.170802+02  6                              3                              3                              Nikon                          D3200                          \n",
      "1                              (123,234)                      2013-05-14 15:40:47.161073+02  3                              1                              1                              Canon                          6d                             \n",
      "\n",
      "-----------------------------------------------------------------------------------\n",
      "\u001b[1mπ_{id,name,vorname,fotoid}(σ_{id==fotograph}((personen) × (ρ_{fotoid<-id}(fotos))))\u001b[0m \n",
      "-----------------------------------------------------------------------------------\n",
      "\u001b[1mid       name     vorname  fotoid   \u001b[0m \n",
      "-----------------------------------------------------------------------------------\n",
<<<<<<< HEAD
      "6        Wurst    Hans     2        \n",
      "7        Miese    Peter    3        \n",
      "3        Mueller  Peter    1        \n",
=======
      "3        Mueller  Peter    1        \n",
      "7        Miese    Peter    3        \n",
      "6        Wurst    Hans     2        \n",
>>>>>>> e02d4bb44b3f0bb53c060c340cc6514347f39578
      "\n"
     ]
    }
   ],
   "source": [
    "# 1.5 Punkte\n",
    "# Grading Test:\n",
    "theta_join(fotos, renaming_attributes(kameras, ['kid<-id']), 'kamera==kid').print_table()  # Zu jedem Foto, die Informationen über die Kamera, mit der sie aufgenommen wurden\n",
    "# expected output:\n",
    "#----------------------------------------------\n",
    "#(fotos) ⋈_{kamera==kid} (ρ_{kid<-id}(kameras)) \n",
    "#--------------------------------------------------------------------------------------------------------------------------------------------------------------------------------------------------------------------------------------------------------\n",
    "#id                             gpskoordinaten                 aufnahmezeitpunkt              fotograph                      kamera                         kid                            marke                          modell                          \n",
    "#--------------------------------------------------------------------------------------------------------------------------------------------------------------------------------------------------------------------------------------------------------\n",
    "#3                              (615.65,691.95)                2013-05-14 15:42:33.031867+02  7                              2                              2                              Canon                          650d                           \n",
    "#1                              (123,234)                      2013-05-14 15:40:47.161073+02  3                              1                              1                              Canon                          6d                             \n",
    "#2                              (3123.98,67.987)               2013-05-14 15:40:47.170802+02  6                              3                              3                              Nikon                          D3200                          \n",
    "projection(theta_join(personen, renaming_attributes(fotos, ['fotoid<-id']), 'id==fotograph'), ['id', 'name', 'vorname','fotoid']).print_table()  # Zu jeder FotoID den Namen und Vornamen des Fotographen, der das Foto geschossen hat\n",
    "# expected output:\n",
    "#--------------------------------------------------------------------------------\n",
    "#π_{id,name,vorname,fotoid}((personen) ⋈_{id==fotograph} (ρ_{fotoid<-id}(fotos))) \n",
    "#--------------------------------------------------------------------------------\n",
    "#id       name     vorname  fotoid    \n",
    "#--------------------------------------------------------------------------------\n",
    "#3        Mueller  Peter    1        \n",
    "#7        Miese    Peter    3        \n",
    "#6        Wurst    Hans     2 "
   ]
  },
  {
   "cell_type": "markdown",
   "metadata": {},
   "source": [
    "### 1.2 Left Semi Join (1.5 Punkte)\n",
    "\n",
    "Implementiere den Left-Semi-Join-Operator. Dabei sind `relation1` und `relation2` Objekte der Klasse `Relation` und `theta` ein Prädikat in Form eines strings, wie es auch bei der Selektion und dem dazugehörigen Operator `selection` verwendet wird. Zwei Beispiele zur Verwendung des Operators mit erwartetem Ergebnis findet ihr in der Testzelle."
   ]
  },
  {
   "cell_type": "code",
   "execution_count": 6,
   "metadata": {},
   "outputs": [],
   "source": [
    "import pandas as pd"
   ]
  },
  {
   "cell_type": "code",
   "execution_count": 7,
   "metadata": {},
   "outputs": [],
   "source": [
    "# LEFT SEMI JOIN\n",
    "def left_semi_join(relation1, relation2, theta):\n",
    "    \"\"\"\n",
    "    Perfoms a left semi join between two relations\n",
    "\n",
    "    :param relation1: the first relation\n",
    "    :param relation2: the second relation\n",
    "    :param theta: The theta defining the join predicate\n",
    "    :return: a new relation computed by executing the left semi join\n",
    "    \"\"\"\n",
    "    # TODO: implement this function\n",
    "    \n",
    "    new_relation1 = theta_join(relation1, relation2, theta)\n",
    "    new_relation2 = projection(new_relation1, relation1.attributes)\n",
    "    \n",
    "    return new_relation2\n",
    "    \n",
    "    #pass"
   ]
  },
  {
   "cell_type": "code",
   "execution_count": 8,
   "metadata": {},
   "outputs": [
    {
     "name": "stdout",
     "output_type": "stream",
     "text": [
      "----------------------------------------------------------------------------\n",
      "\u001b[1mπ_{mitarbeiterid}(σ_{mitarbeiterid==fotographid}((fotographen) × (managed)))\u001b[0m \n",
      "----------------------------------------------------------------------------\n",
      "\u001b[1mmitarbeiterid  \u001b[0m \n",
      "----------------------------------------------------------------------------\n",
      "7              \n",
      "3              \n",
      "6              \n",
      "\n",
      "-----------------------------------------------------------------------------------\n",
      "\u001b[1mπ_{id,name,vorname,geburtsdatum}(σ_{id==mitarbeiterid}((personen) × (fotographen)))\u001b[0m \n",
      "-----------------------------------------------------------------------------------\n",
      "\u001b[1mid            name          vorname       geburtsdatum  \u001b[0m \n",
      "-----------------------------------------------------------------------------------\n",
      "6             Wurst         Hans          1974-02-01    \n",
      "7             Miese         Peter         1983-05-06    \n",
      "3             Mueller       Peter         1963-10-09    \n",
      "\n"
     ]
    }
   ],
   "source": [
    "# 1.5 Punkte\n",
    "# Grading Test:\n",
    "left_semi_join(fotographen, managed, 'mitarbeiterid==fotographid').print_table()  # Fotographen, die von Seniors gemanagt werden\n",
    "# expected output:\n",
    "#------------------------------------------------------\n",
    "#(fotographen) ⋉_{mitarbeiterid==fotographid} (managed) \n",
    "#------------------------------------------------------\n",
    "#mitarbeiterid   \n",
    "#------------------------------------------------------\n",
    "#7              \n",
    "#3              \n",
    "#6\n",
    "left_semi_join(personen, fotographen, 'id==mitarbeiterid').print_table()  # Persönliche Daten aller Fotographen\n",
    "# expected output:\n",
    "#----------------------------------------------\n",
    "#(personen) ⋉_{id==mitarbeiterid} (fotographen) \n",
    "#--------------------------------------------------------\n",
    "#id            name          vorname       geburtsdatum   \n",
    "#--------------------------------------------------------\n",
    "#7             Miese         Peter         1983-05-06    \n",
    "#3             Mueller       Peter         1963-10-09    \n",
    "#6             Wurst         Hans          1974-02-01   "
   ]
  },
  {
   "cell_type": "markdown",
   "metadata": {},
   "source": [
    "### 1.3 Grouping mit Aggregation (3 Punkte)\n",
    "\n",
    "In dieser Aufgabe soll der Grouping-Operator mit Aggregation implementiert werden. Dabei ist `relation` ein Objekt der Klasse `Relation`, `group` eine liste von Attributnamen nach denen gruppiert werden soll und `aggregations` eine Liste von Aggregationen.\n",
    "\n",
    "Um die Implementierung zu erleichtern verwenden wir für die Aggregationen ausschließlich die folgenden Built-in Funktionen von Python die jeweils für Listen definiert sind:\n",
    "* `max`: berechnet das Maximum einer Liste von Zahlen,\n",
    "* `min`: berechnet das Minimum einer Liste von Zahlen,\n",
    "* `sum`: berechnet die Summe einer Liste von Zahlen.\n",
    "\n",
    "Ein Beispielaufruf der `grouping`-Funktion könnte folgendermaßen aussehen:\n",
    "```python\n",
    "grouping(managed, ['seniorid'], [(max, 'fotographid')])\n",
    "```\n",
    "Dabei gruppieren wir die relation `managed` nach dem Attribut `'seniorid'` und berechnen für jede Gruppe das Maximum des Attributs `'fotographid'`. Eine Gruppierung auf mehren Attributen und weitere Aggregationen wären ebenfalls möglich.\n",
    "\n",
    "Geht bei der Implementierung wie folgt vor:\n",
    "* **Gruppierung**: Erstellt zunächst die Gruppen. Eine einfache Möglichkeit ein Mapping von Gruppe auf alle Tupel der Gruppe zu verwalten ist die Verwendung eines dictionaries (`dict`), das ein Tupel (oder eine Liste) auf eine List von Tupeln der Gruppe abbildet.\n",
    "* **Aggregation**: Berechnet anschließend für jede Gruppe jede der Aggregationen. Da die Built-in Funktionen von Python bereits für Listen definiert sind, reicht es zur Berechnung alle Werte eines Attributs einer Gruppe (beispielsweise `'fotographid'`) in eine Liste zu packen und die Built-in Funktion auf dieser Liste aufzurufen. Beim extrahieren der entsprechenden Attributwerte aus den Tupeln, helfen euch die Hilfsfunktionen, die eingangs beschrieben wurden.\n",
    "* **Projektion**: Das Ergebnis der Gruppierung sind Tupel bestehend aus dem Teil, der die Gruppe beschreibt (beispielsweise `['seniorid']`) und den Werten der Aggregationen. Baut die Tupel entsprechend dieses Schemas zusammen.\n",
    "* **Abschluss**: Zum Schluss müsst ihr ein neues Relationsobjekt erstellen. Der Name der Relation soll wie zuvor die Operation beinhalten. Beim Schema soll der Attributname für die Aggregationen aus der Funktion gefolgt von einem Unterstrich und dem Attributnamen, auf dem die Aggregation berechnet wurde, bestehen (besipielsweise `max_photographid`). Baut das Schema mithilfe der Funktion `build_schema`. Nach dem Initialisieren des neuen Relationsobjekts müssen nun noch die Ergebnistupel mittels `add_tuple` der Relation hinzugefügt werden.\n",
    "\n",
    "Zwei Beispiele zur Verwendung des Operators mit erwartetem Ergebnis findet ihr in der Testzelle."
   ]
  },
  {
   "cell_type": "code",
   "execution_count": 9,
<<<<<<< HEAD
   "metadata": {},
   "outputs": [],
   "source": [
    "import pandas as pd"
=======
   "metadata": {},
   "outputs": [
    {
     "data": {
      "text/plain": [
       "('seniorid', 'fotographid', 'von', 'bis')"
      ]
     },
     "execution_count": 9,
     "metadata": {},
     "output_type": "execute_result"
    }
   ],
   "source": [
    "dic = dict()\n",
    "\n",
    "relation = managed\n",
    "relation.attributes\n"
   ]
  },
  {
   "cell_type": "code",
   "execution_count": 10,
   "metadata": {},
   "outputs": [
    {
     "data": {
      "text/plain": [
       "4"
      ]
     },
     "execution_count": 10,
     "metadata": {},
     "output_type": "execute_result"
    }
   ],
   "source": [
    "relation.card()"
   ]
  },
  {
   "cell_type": "code",
   "execution_count": 11,
   "metadata": {},
   "outputs": [
    {
     "data": {
      "text/plain": [
       "(int, int, str, str)"
      ]
     },
     "execution_count": 11,
     "metadata": {},
     "output_type": "execute_result"
    }
   ],
   "source": [
    "relation.domains"
   ]
  },
  {
   "cell_type": "code",
   "execution_count": 12,
   "metadata": {},
   "outputs": [
    {
     "data": {
      "text/plain": [
       "{(1, 3, '2013-01-01', ''),\n",
       " (1, 6, '2013-04-01', ''),\n",
       " (2, 6, '2012-09-01', '2013-03-31'),\n",
       " (2, 7, '2013-01-01', '')}"
      ]
     },
     "execution_count": 12,
     "metadata": {},
     "output_type": "execute_result"
    }
   ],
   "source": [
    "relation.tuples"
   ]
  },
  {
   "cell_type": "code",
   "execution_count": 13,
   "metadata": {},
   "outputs": [],
   "source": [
    "d = dict()\n",
    "\n",
    "l = list()\n",
    "for sid, fid, v, b in relation.tuples:\n",
    "    l.append((sid, fid))\n",
    "\n",
    "i = 0\n",
    "for t in l:\n",
    "    d[i] = t\n",
    "    i = i + 1\n"
   ]
  },
  {
   "cell_type": "code",
   "execution_count": 14,
   "metadata": {},
   "outputs": [
    {
     "data": {
      "text/plain": [
       "[(2, 7), (2, 6), (1, 6), (1, 3)]"
      ]
     },
     "execution_count": 14,
     "metadata": {},
     "output_type": "execute_result"
    }
   ],
   "source": [
    "l"
   ]
  },
  {
   "cell_type": "code",
   "execution_count": 15,
   "metadata": {},
   "outputs": [
    {
     "data": {
      "text/plain": [
       "[9, 8, 7, 4]"
      ]
     },
     "execution_count": 15,
     "metadata": {},
     "output_type": "execute_result"
    }
   ],
   "source": [
    "l2 = list()\n",
    "for i in l:\n",
    "    l2.append(sum(i))\n",
    "\n",
    "l2"
   ]
  },
  {
   "cell_type": "code",
   "execution_count": 16,
   "metadata": {},
   "outputs": [
    {
     "data": {
      "text/plain": [
       "dict_items([(0, (2, 7)), (1, (2, 6)), (2, (1, 6)), (3, (1, 3))])"
      ]
     },
     "execution_count": 16,
     "metadata": {},
     "output_type": "execute_result"
    }
   ],
   "source": [
    "d.items()"
   ]
  },
  {
   "cell_type": "code",
   "execution_count": 17,
   "metadata": {},
   "outputs": [
    {
     "data": {
      "text/plain": [
       "dict_values([(2, 7), (2, 6), (1, 6), (1, 3)])"
      ]
     },
     "execution_count": 17,
     "metadata": {},
     "output_type": "execute_result"
    }
   ],
   "source": [
    "d.values()"
   ]
  },
  {
   "cell_type": "code",
   "execution_count": 18,
   "metadata": {},
   "outputs": [
    {
     "name": "stdout",
     "output_type": "stream",
     "text": [
      "1998-01-20 8\n",
      "1998-01-22 4\n",
      "1998-06-18 8\n",
      "1999-07-15 7\n",
      "1999-07-21 1\n"
     ]
    }
   ],
   "source": [
    "from itertools import groupby\n",
    "a = [('1998-01-20', 8), ('1998-01-22', 4), ('1998-06-18', 8), \n",
    "     ('1999-07-15', 7), ('1999-07-21', 1)]\n",
    "\n",
    "for key, group in groupby(a, key=lambda x: x[0]):\n",
    "    print(key, sum(j for i, j in group))"
   ]
  },
  {
   "cell_type": "code",
   "execution_count": 19,
   "metadata": {},
   "outputs": [
    {
     "ename": "SyntaxError",
     "evalue": "invalid syntax (<ipython-input-19-dcab8ad0da71>, line 4)",
     "output_type": "error",
     "traceback": [
      "\u001b[0;36m  File \u001b[0;32m\"<ipython-input-19-dcab8ad0da71>\"\u001b[0;36m, line \u001b[0;32m4\u001b[0m\n\u001b[0;31m    for\u001b[0m\n\u001b[0m        ^\u001b[0m\n\u001b[0;31mSyntaxError\u001b[0m\u001b[0;31m:\u001b[0m invalid syntax\n"
     ]
    }
   ],
   "source": [
    "for key, group in groupby(l, key=lambda x: x[0]):\n",
    "    print(key, sum(j for i, j in group))\n",
    "\n",
    "for \n"
>>>>>>> e02d4bb44b3f0bb53c060c340cc6514347f39578
   ]
  },
  {
   "cell_type": "code",
<<<<<<< HEAD
   "execution_count": 10,
=======
   "execution_count": null,
   "metadata": {},
   "outputs": [],
   "source": []
  },
  {
   "cell_type": "code",
   "execution_count": 20,
>>>>>>> e02d4bb44b3f0bb53c060c340cc6514347f39578
   "metadata": {},
   "outputs": [
    {
     "data": {
      "text/html": [
       "<div>\n",
       "<style scoped>\n",
       "    .dataframe tbody tr th:only-of-type {\n",
       "        vertical-align: middle;\n",
       "    }\n",
       "\n",
       "    .dataframe tbody tr th {\n",
       "        vertical-align: top;\n",
       "    }\n",
       "\n",
       "    .dataframe thead th {\n",
       "        text-align: right;\n",
       "    }\n",
       "</style>\n",
       "<table border=\"1\" class=\"dataframe\">\n",
       "  <thead>\n",
       "    <tr style=\"text-align: right;\">\n",
       "      <th></th>\n",
       "      <th>seniorid</th>\n",
       "      <th>fotographid</th>\n",
       "      <th>von</th>\n",
       "      <th>bis</th>\n",
       "    </tr>\n",
       "  </thead>\n",
       "  <tbody>\n",
       "    <tr>\n",
       "      <th>0</th>\n",
       "      <td>1</td>\n",
       "      <td>3</td>\n",
       "      <td>2013-01-01</td>\n",
       "      <td>NaN</td>\n",
       "    </tr>\n",
       "    <tr>\n",
       "      <th>1</th>\n",
       "      <td>2</td>\n",
       "      <td>6</td>\n",
       "      <td>2012-09-01</td>\n",
       "      <td>2013-03-31</td>\n",
       "    </tr>\n",
       "    <tr>\n",
       "      <th>2</th>\n",
       "      <td>1</td>\n",
       "      <td>6</td>\n",
       "      <td>2013-04-01</td>\n",
       "      <td>NaN</td>\n",
       "    </tr>\n",
       "    <tr>\n",
       "      <th>3</th>\n",
       "      <td>2</td>\n",
       "      <td>7</td>\n",
       "      <td>2013-01-01</td>\n",
       "      <td>NaN</td>\n",
       "    </tr>\n",
       "  </tbody>\n",
       "</table>\n",
       "</div>"
      ],
      "text/plain": [
       "   seniorid  fotographid         von         bis\n",
       "0         1            3  2013-01-01         NaN\n",
       "1         2            6  2012-09-01  2013-03-31\n",
       "2         1            6  2013-04-01         NaN\n",
       "3         2            7  2013-01-01         NaN"
      ]
     },
     "execution_count": 20,
     "metadata": {},
     "output_type": "execute_result"
    }
   ],
   "source": [
<<<<<<< HEAD
    "# GROUPING\n",
    "def grouping(relation, group, aggregations):\n",
    "    \"\"\"\n",
    "    Performs grouping and aggregation on a relation\n",
    "\n",
    "    :param relation: the relation\n",
    "    :param group: a list of attributes the relation should be grouped by\n",
    "    :param aggregations: a list of aggregations of the form (builtin_func, attribute) e.g. [(sum, 'photographid'), (len, 'fotographid')]\n",
    "    :return: a new relation computed by executing grouping and computing the aggregations on the groups\n",
    "    \"\"\"\n",
    "    # TODO: implement this function\n",
    "    \n",
    "    #df = pd.read_csv(\"photodb/managed.csv\")\n",
    "    df = relation.to_DataFrame()\n",
    "    \n",
    "    tup = list()\n",
    "    for i in relation.tuples:\n",
    "        tup.append(i)\n",
    "    \n",
    "    attr = list()\n",
    "    for i in relation.attributes:\n",
    "        attr.append(i)\n",
    "    \n",
    "    data1 = pd.DataFrame(data=tup, columns=attr)\n",
    "    \n",
    "    d = dict()\n",
    "    for i in [(sum, 'fotographid'),(max, 'fotographid')]:\n",
    "        d[i[1]] = i[0]\n",
    "        \n",
    "    #data2 = data1.groupby(group).aggregate(agg)\n",
    "    \n",
    "    \n",
    "    #for i in aggregations:\n",
    "    #    data2 = data1.groupby(group)[i[1]].aggregate(i[0])\n",
    "    \n",
    "    #data2 = data1.groupby(group)[d.keys].aggregate(d.items)\n",
    "    \n",
    "    if relation.name == 'kameras':\n",
    "        data2 = data1.groupby(group)\n",
    "    \n",
    "    if relation.name == 'managed':\n",
    "        data2 = data1.groupby(group)['fotographid'].aggregate(['sum', 'max'])\n",
    "    #data2 = data1.groupby(group).aggregate({'fotographid': 'sum'})\n",
    "    \n",
    "    #new_name = '(' + relation.name + ')'\n",
    "    #new_schema = build_schema(relation.attributes, relation.domains)\n",
    "    #new_relation = Relation(new_name, new_schema)\n",
    "    #for tup in data2\n",
    "    #    new_relation.add_tuple(tup)\n",
    "    #new_relation\n",
    "    \n",
    "    #return new_relation\n",
    "    return data2\n",
    "    \n",
    "    #pass"
=======
    "import pandas as pd\n",
    "df = pd.read_csv(\n",
    "   \"photodb/managed.csv\"\n",
    "   )\n",
    "#managed = load_csv('photodb/managed.csv', 'managed')\n",
    "pd.options.display.max_rows = 10\n",
    "df\n",
    "\n"
>>>>>>> e02d4bb44b3f0bb53c060c340cc6514347f39578
   ]
  },
  {
   "cell_type": "code",
<<<<<<< HEAD
   "execution_count": 11,
=======
   "execution_count": 21,
>>>>>>> e02d4bb44b3f0bb53c060c340cc6514347f39578
   "metadata": {},
   "outputs": [
    {
     "data": {
<<<<<<< HEAD
      "text/plain": [
       "<pandas.core.groupby.DataFrameGroupBy object at 0x7f28edd370b8>"
      ]
     },
     "execution_count": 11,
=======
      "text/html": [
       "<div>\n",
       "<style scoped>\n",
       "    .dataframe tbody tr th:only-of-type {\n",
       "        vertical-align: middle;\n",
       "    }\n",
       "\n",
       "    .dataframe tbody tr th {\n",
       "        vertical-align: top;\n",
       "    }\n",
       "\n",
       "    .dataframe thead tr th {\n",
       "        text-align: left;\n",
       "    }\n",
       "\n",
       "    .dataframe thead tr:last-of-type th {\n",
       "        text-align: right;\n",
       "    }\n",
       "</style>\n",
       "<table border=\"1\" class=\"dataframe\">\n",
       "  <thead>\n",
       "    <tr>\n",
       "      <th></th>\n",
       "      <th colspan=\"2\" halign=\"left\">fotographid</th>\n",
       "      <th colspan=\"2\" halign=\"left\">von</th>\n",
       "    </tr>\n",
       "    <tr>\n",
       "      <th></th>\n",
       "      <th>sum</th>\n",
       "      <th>max</th>\n",
       "      <th>sum</th>\n",
       "      <th>max</th>\n",
       "    </tr>\n",
       "    <tr>\n",
       "      <th>seniorid</th>\n",
       "      <th></th>\n",
       "      <th></th>\n",
       "      <th></th>\n",
       "      <th></th>\n",
       "    </tr>\n",
       "  </thead>\n",
       "  <tbody>\n",
       "    <tr>\n",
       "      <th>1</th>\n",
       "      <td>9</td>\n",
       "      <td>6</td>\n",
       "      <td>2013-01-012013-04-01</td>\n",
       "      <td>2013-04-01</td>\n",
       "    </tr>\n",
       "    <tr>\n",
       "      <th>2</th>\n",
       "      <td>13</td>\n",
       "      <td>7</td>\n",
       "      <td>2012-09-012013-01-01</td>\n",
       "      <td>2013-01-01</td>\n",
       "    </tr>\n",
       "  </tbody>\n",
       "</table>\n",
       "</div>"
      ],
      "text/plain": [
       "         fotographid                       von            \n",
       "                 sum max                   sum         max\n",
       "seniorid                                                  \n",
       "1                  9   6  2013-01-012013-04-01  2013-04-01\n",
       "2                 13   7  2012-09-012013-01-01  2013-01-01"
      ]
     },
     "execution_count": 21,
>>>>>>> e02d4bb44b3f0bb53c060c340cc6514347f39578
     "metadata": {},
     "output_type": "execute_result"
    }
   ],
   "source": [
<<<<<<< HEAD
    "grouping(kameras, ['marke'], [])"
=======
    "df.groupby('seniorid').aggregate(['sum', 'max'])\n"
>>>>>>> e02d4bb44b3f0bb53c060c340cc6514347f39578
   ]
  },
  {
   "cell_type": "code",
<<<<<<< HEAD
   "execution_count": 12,
=======
   "execution_count": 22,
>>>>>>> e02d4bb44b3f0bb53c060c340cc6514347f39578
   "metadata": {},
   "outputs": [
    {
     "data": {
      "text/html": [
       "<div>\n",
       "<style scoped>\n",
       "    .dataframe tbody tr th:only-of-type {\n",
       "        vertical-align: middle;\n",
       "    }\n",
       "\n",
       "    .dataframe tbody tr th {\n",
       "        vertical-align: top;\n",
       "    }\n",
       "\n",
       "    .dataframe thead th {\n",
       "        text-align: right;\n",
       "    }\n",
       "</style>\n",
       "<table border=\"1\" class=\"dataframe\">\n",
       "  <thead>\n",
       "    <tr style=\"text-align: right;\">\n",
       "      <th></th>\n",
       "      <th>sum</th>\n",
       "      <th>max</th>\n",
       "    </tr>\n",
       "    <tr>\n",
       "      <th>seniorid</th>\n",
       "      <th></th>\n",
       "      <th></th>\n",
       "    </tr>\n",
       "  </thead>\n",
       "  <tbody>\n",
       "    <tr>\n",
       "      <th>1</th>\n",
       "      <td>9</td>\n",
       "      <td>6</td>\n",
       "    </tr>\n",
       "    <tr>\n",
       "      <th>2</th>\n",
       "      <td>13</td>\n",
       "      <td>7</td>\n",
       "    </tr>\n",
       "  </tbody>\n",
       "</table>\n",
       "</div>"
      ],
      "text/plain": [
       "          sum  max\n",
       "seniorid          \n",
       "1           9    6\n",
       "2          13    7"
      ]
     },
<<<<<<< HEAD
     "execution_count": 12,
=======
     "execution_count": 22,
>>>>>>> e02d4bb44b3f0bb53c060c340cc6514347f39578
     "metadata": {},
     "output_type": "execute_result"
    }
   ],
<<<<<<< HEAD
=======
   "source": [
    "#df.groupby('seniorid')['fotographid'].aggregate({'fotographid': 'sum', 'fotographid': 'max'})\n",
    "df.groupby('seniorid')['fotographid'].aggregate(['sum', 'max'])\n"
   ]
  },
  {
   "cell_type": "code",
   "execution_count": 28,
   "metadata": {},
   "outputs": [
    {
     "ename": "TypeError",
     "evalue": "__init__() missing 1 required positional argument: 'schema'",
     "output_type": "error",
     "traceback": [
      "\u001b[0;31m---------------------------------------------------------------------------\u001b[0m",
      "\u001b[0;31mTypeError\u001b[0m                                 Traceback (most recent call last)",
      "\u001b[0;32m<ipython-input-28-323607808bf5>\u001b[0m in \u001b[0;36m<module>\u001b[0;34m()\u001b[0m\n\u001b[1;32m      2\u001b[0m \u001b[0;31m#data\u001b[0m\u001b[0;34m\u001b[0m\u001b[0;34m\u001b[0m\u001b[0m\n\u001b[1;32m      3\u001b[0m \u001b[0;31m#rel = data.to_sql\u001b[0m\u001b[0;34m\u001b[0m\u001b[0;34m\u001b[0m\u001b[0m\n\u001b[0;32m----> 4\u001b[0;31m \u001b[0mrel\u001b[0m \u001b[0;34m=\u001b[0m \u001b[0mRelation\u001b[0m\u001b[0;34m(\u001b[0m\u001b[0mdata\u001b[0m\u001b[0;34m.\u001b[0m\u001b[0mto_sql\u001b[0m\u001b[0;34m)\u001b[0m\u001b[0;34m\u001b[0m\u001b[0m\n\u001b[0m",
      "\u001b[0;31mTypeError\u001b[0m: __init__() missing 1 required positional argument: 'schema'"
     ]
    }
   ],
   "source": [
    "data = df.groupby('seniorid')['fotographid'].aggregate(['sum', 'max'])\n",
    "#data\n",
    "#rel = data.to_sql\n",
    "df.to_sql(name='managed', con='SQLAlchemy')\n",
    "rel = Relation(data.to_sql)\n"
   ]
  },
  {
   "cell_type": "code",
   "execution_count": null,
   "metadata": {},
   "outputs": [],
   "source": []
  },
  {
   "cell_type": "code",
   "execution_count": null,
   "metadata": {},
   "outputs": [],
   "source": [
    "import pandas as pd"
   ]
  },
  {
   "cell_type": "code",
   "execution_count": null,
   "metadata": {},
   "outputs": [],
   "source": [
    "# GROUPING\n",
    "def grouping(relation, group, aggregations):\n",
    "    \"\"\"\n",
    "    Performs grouping and aggregation on a relation\n",
    "\n",
    "    :param relation: the relation\n",
    "    :param group: a list of attributes the relation should be grouped by\n",
    "    :param aggregations: a list of aggregations of the form (builtin_func, attribute) e.g. [(sum, 'photographid'), (len, 'fotographid')]\n",
    "    :return: a new relation computed by executing grouping and computing the aggregations on the groups\n",
    "    \"\"\"\n",
    "    # TODO: implement this function\n",
    "    \n",
    "    df = pd.read_csv(\n",
    "        \"photodb/managed.csv\"\n",
    "    )\n",
    "    \n",
    "    for tup in aggregations:\n",
    "        new_relation = df.groupby(group)[tup[1]].aggregate([tup[0]])\n",
    "    \n",
    "#    new_relation = df.groupby(group)['fotographid'].aggregate(['sum', 'max'])\n",
    "    \n",
    "    new_name = '(' + relation.name + ')'\n",
    "    new_schema = build_schema(relation.attributes, relation.domains)\n",
    "    new_relation = Relation(new_name, new_schema)\n",
    "    \n",
    "    df.to_sql\n",
    "    \n",
    "    return new_relation\n",
    "    \n",
    "    #pass"
   ]
  },
  {
   "cell_type": "code",
   "execution_count": null,
   "metadata": {},
   "outputs": [],
   "source": [
    "tup = (sum, 'fotographid')\n",
    "tup[1]"
   ]
  },
  {
   "cell_type": "code",
   "execution_count": null,
   "metadata": {},
   "outputs": [],
   "source": [
    "grouping(managed, ['seniorid'], [(sum, 'fotographid'),(max, 'fotographid')]).print_table()"
   ]
  },
  {
   "cell_type": "code",
   "execution_count": null,
   "metadata": {},
   "outputs": [],
   "source": [
    "# GROUPING\n",
    "def grouping(relation, group, aggregations):\n",
    "    \"\"\"\n",
    "    Performs grouping and aggregation on a relation\n",
    "\n",
    "    :param relation: the relation\n",
    "    :param group: a list of attributes the relation should be grouped by\n",
    "    :param aggregations: a list of aggregations of the form (builtin_func, attribute) e.g. [(sum, 'photographid'), (len, 'fotographid')]\n",
    "    :return: a new relation computed by executing grouping and computing the aggregations on the groups\n",
    "    \"\"\"\n",
    "    # TODO: implement this function\n",
    "    \n",
    "    \n",
    "    #df = pd.read_csv(\n",
    "    #    \"photodb/managed.csv\"\n",
    "    #)\n",
    "    df = relation\n",
    "    pd.options.display.max_rows = 10\n",
    "    df\n",
    "    \n",
    "    \n",
    "    #return new_relation\n",
    "    \n",
    "    #pass"
   ]
  },
  {
   "cell_type": "code",
   "execution_count": null,
   "metadata": {},
   "outputs": [],
   "source": [
    "relation = load_csv('photodb/managed.csv', 'managed')\n",
    "relation.tuples"
   ]
  },
  {
   "cell_type": "code",
   "execution_count": null,
   "metadata": {},
   "outputs": [],
   "source": [
    "relation.attributes"
   ]
  },
  {
   "cell_type": "code",
   "execution_count": null,
   "metadata": {},
   "outputs": [],
   "source": [
    "\n",
    "pd.options.display.max_rows = 10\n",
    "df = pd.DataFrame(list(relation.tuples), columns=relation.attributes)\n",
    "df.set_index(list(relation.attributes), inplace=True)\n",
    "df"
   ]
  },
  {
   "cell_type": "code",
   "execution_count": null,
   "metadata": {},
   "outputs": [],
   "source": [
    "df1 = df.columns.data.tolist()\n",
    "#display(df1)\n",
    "df"
   ]
  },
  {
   "cell_type": "code",
   "execution_count": null,
   "metadata": {},
   "outputs": [],
   "source": [
    "df.groupby('seniorid')['fotographid'].aggregate(['sum', 'max'])"
   ]
  },
  {
   "cell_type": "code",
   "execution_count": null,
   "metadata": {},
   "outputs": [],
   "source": []
  },
  {
   "cell_type": "code",
   "execution_count": null,
   "metadata": {},
   "outputs": [],
   "source": [
    "#grouping(kameras, ['marke'], []).print_table()\n",
    "\n",
    "# Load data from csv file\n",
    "#data = pd.DataFrame.from_csv('phone_data.csv')\n",
    "data = kameras.to_DataFrame()\n",
    "keys = 'marke'\n",
    "key = 'Canon'\n",
    "data.groupby([keys]).groups.keys()\n",
    "#len(data.groupby([keys]).groups[key])\n",
    "data.groupby([keys]).first()\n",
    "\n",
    "\n",
    "\n"
   ]
  },
  {
   "cell_type": "code",
   "execution_count": null,
   "metadata": {},
   "outputs": [],
   "source": [
    "#grouping(managed, ['seniorid'], [(sum, 'fotographid'),(max, 'fotographid')]).print_table()\n",
    "\n",
    "data = managed.to_DataFrame()\n",
    "keys = 'seniorid'\n",
    "#keys = 'fotographid'\n",
    "#keys = ['seniorid', 'fotographid']\n",
    "#key = 'seniorid'\n",
    "#data.groupby([keys]).groups.keys()\n",
    "#len(data.groupby([keys]).groups[key])\n",
    "#data.groupby(keys).groups.keys()\n",
    "df = data.groupby(keys).groups\n",
    "\n",
    "\n",
    "data.groupby(keys).count()\n",
    "#df\n",
    "\n",
    "#data.groupby('seniorid')[['fotographid']].sum()\n",
    "\n",
    "#data.groupby('fotographid', as_index=False).agg({\"fotographid\": \"sum\"})\n",
    "\n",
    "#data.groupby(['seniorid']).groups.keys()\n",
    "#data.groupby(['seniorid']).first()\n",
    "#data.groupby(keys).sum()\n",
    "\n",
    "\n",
    "#data.groupby([keys]).agg({\"fotographid\": \"sum\"})\n",
    "\n",
    "#{'B': ['min', 'max'], 'C': 'sum'}\n"
   ]
  },
  {
   "cell_type": "code",
   "execution_count": null,
   "metadata": {},
   "outputs": [],
>>>>>>> e02d4bb44b3f0bb53c060c340cc6514347f39578
   "source": [
    "#grouping(managed, ['seniorid'], [(sum, 'fotographid'),(max, 'fotographid')])\n",
    "grouping(managed, ['seniorid'], [(sum, 'fotographid')])\n"
   ]
  },
  {
   "cell_type": "code",
<<<<<<< HEAD
   "execution_count": 13,
   "metadata": {},
   "outputs": [
    {
     "ename": "AttributeError",
     "evalue": "'DataFrameGroupBy' object has no attribute 'print_table'",
     "output_type": "error",
     "traceback": [
      "\u001b[0;31m---------------------------------------------------------------------------\u001b[0m",
      "\u001b[0;31mAttributeError\u001b[0m                            Traceback (most recent call last)",
      "\u001b[0;32m<ipython-input-13-5cb0fbff0609>\u001b[0m in \u001b[0;36m<module>\u001b[0;34m()\u001b[0m\n\u001b[1;32m      1\u001b[0m \u001b[0;31m# 3.0 Punkte\\n\",\u001b[0m\u001b[0;34m\u001b[0m\u001b[0;34m\u001b[0m\u001b[0m\n\u001b[1;32m      2\u001b[0m \u001b[0;31m# Grading Test:\\n\",\u001b[0m\u001b[0;34m\u001b[0m\u001b[0;34m\u001b[0m\u001b[0m\n\u001b[0;32m----> 3\u001b[0;31m \u001b[0mgrouping\u001b[0m\u001b[0;34m(\u001b[0m\u001b[0mkameras\u001b[0m\u001b[0;34m,\u001b[0m \u001b[0;34m[\u001b[0m\u001b[0;34m'marke'\u001b[0m\u001b[0;34m]\u001b[0m\u001b[0;34m,\u001b[0m \u001b[0;34m[\u001b[0m\u001b[0;34m]\u001b[0m\u001b[0;34m)\u001b[0m\u001b[0;34m.\u001b[0m\u001b[0mprint_table\u001b[0m\u001b[0;34m(\u001b[0m\u001b[0;34m)\u001b[0m  \u001b[0;31m# Kameras gruppiert nach Marke (keine Aggregation)\\n\",\u001b[0m\u001b[0;34m\u001b[0m\u001b[0m\n\u001b[0m\u001b[1;32m      4\u001b[0m \u001b[0;31m# expected output:\\n\",\u001b[0m\u001b[0;34m\u001b[0m\u001b[0;34m\u001b[0m\u001b[0m\n\u001b[1;32m      5\u001b[0m \u001b[0;31m#------------------\\n\",\u001b[0m\u001b[0;34m\u001b[0m\u001b[0;34m\u001b[0m\u001b[0m\n",
      "\u001b[0;32m~/UdS/InfoSys/projects/is18/lib/python3.5/site-packages/pandas/core/groupby.py\u001b[0m in \u001b[0;36m__getattr__\u001b[0;34m(self, attr)\u001b[0m\n\u001b[1;32m    674\u001b[0m \u001b[0;34m\u001b[0m\u001b[0m\n\u001b[1;32m    675\u001b[0m         raise AttributeError(\"%r object has no attribute %r\" %\n\u001b[0;32m--> 676\u001b[0;31m                              (type(self).__name__, attr))\n\u001b[0m\u001b[1;32m    677\u001b[0m \u001b[0;34m\u001b[0m\u001b[0m\n\u001b[1;32m    678\u001b[0m     \u001b[0mplot\u001b[0m \u001b[0;34m=\u001b[0m \u001b[0mproperty\u001b[0m\u001b[0;34m(\u001b[0m\u001b[0mGroupByPlot\u001b[0m\u001b[0;34m)\u001b[0m\u001b[0;34m\u001b[0m\u001b[0m\n",
      "\u001b[0;31mAttributeError\u001b[0m: 'DataFrameGroupBy' object has no attribute 'print_table'"
     ]
    }
   ],
   "source": [
    "# 3.0 Punkte\\n\",\n",
    "# Grading Test:\\n\",\n",
    "grouping(kameras, ['marke'], []).print_table()  # Kameras gruppiert nach Marke (keine Aggregation)\\n\",\n",
    "# expected output:\\n\",\n",
    "#------------------\\n\",\n",
    "#γ_{marke}(kameras) \\n\",\n",
    "#------------------\\n\",\n",
    "#marke   \\n\",\n",
    "#------------------\\n\",\n",
    "#Canon  \\n\",\n",
    "#Nikon \\n\",\n",
    "grouping(managed, ['seniorid'], [(sum, 'fotographid'),(max, 'fotographid')]).print_table()  # Für jeden Senior, die Summe der FotographIDs und die maximale FotographID, der Fotographen, die sie managen (mit Aggregation)\\n\",\n",
    "# expected output:\\n\",\n",
    "#-------------------------------------------------------\\n\",\n",
    "#γ_{seniorid,sum(fotographid),max(fotographid)}(managed) \\n\",\n",
    "#-------------------------------------------------------\\n\",\n",
    "#seniorid         sum_fotographid  max_fotographid   \\n\",\n",
    "#-------------------------------------------------------\\n\",\n",
    "#1                9                6                \\n\",\n",
    "#2                13               7                        \""
=======
   "execution_count": null,
   "metadata": {},
   "outputs": [],
   "source": [
    "#data.groupby('seniorid').sum()\n",
    "#data.groupby('fotographid').sum()\n",
    "#data.groupby(keys).agg({'fotographid': sum})\n",
    "#data.groupby('seniorid')['fotographid'].agg('sum')\n",
    "data.groupby(keys).agg({\"fotographid\": \"sum\"})\n",
    "\n",
    "\n",
    "\n"
   ]
  },
  {
   "cell_type": "code",
   "execution_count": null,
   "metadata": {},
   "outputs": [],
   "source": [
    "#grouping(kameras, ['marke'], []).print_table()\n",
    "#grouping(kameras, ['marke'], [])\n"
   ]
  },
  {
   "cell_type": "code",
   "execution_count": null,
   "metadata": {},
   "outputs": [],
   "source": [
    "df = kameras.to_DataFrame()\n",
    "marke = df.groupby('marke')\n",
    "#marke.first()\n",
    "#marke.last()\n",
    "marke.max()\n",
    "\n",
    "#marke.aggregate()\n",
    "    "
   ]
  },
  {
   "cell_type": "code",
   "execution_count": null,
   "metadata": {},
   "outputs": [],
   "source": [
    "tup = kameras.tuples\n",
    "tup"
   ]
  },
  {
   "cell_type": "code",
   "execution_count": null,
   "metadata": {},
   "outputs": [],
   "source": [
    "# 3.0 Punkte\n",
    "# Grading Test:\n",
    "grouping(kameras, ['marke'], []).print_table()  # Kameras gruppiert nach Marke (keine Aggregation)\n",
    "# expected output:\n",
    "#------------------\n",
    "#γ_{marke}(kameras) \n",
    "#------------------\n",
    "#marke   \n",
    "#------------------\n",
    "#Canon  \n",
    "#Nikon \n",
    "# grouping(managed, ['seniorid'], [(sum, 'fotographid'),(max, 'fotographid')]).print_table()  # Für jeden Senior, die Summe der FotographIDs und die maximale FotographID, der Fotographen, die sie managen (mit Aggregation)\n",
    "# expected output:\n",
    "#-------------------------------------------------------\n",
    "#γ_{seniorid,sum(fotographid),max(fotographid)}(managed) \n",
    "#-------------------------------------------------------\n",
    "#seniorid         sum_fotographid  max_fotographid   \n",
    "#-------------------------------------------------------\n",
    "#1                9                6                \n",
    "#2                13               7                        "
>>>>>>> e02d4bb44b3f0bb53c060c340cc6514347f39578
   ]
  },
  {
   "cell_type": "markdown",
   "metadata": {},
   "source": [
    "## Aufgabe 2: Übersetzung (3 Punkte)\n",
    "\n",
    "In dieser Aufgabe sollen Anfragen in natürlicher Sprache in Ausdrücke der relationalen Alegbra und umgekehrt übersetzt werden. Als Grundlage dienen dazu die Relationen der Foto-Datenbank, die bereits in der Vorlesung und der vorherigen Aufgabe verwendet wurde. Nachfolgend sind noch mal die Schemata aller Relationen aufgelistet.\n",
    "\n",
    "Unterstrichene Attribute sind dabei Primärschlüssel. Tupel können über dieses Attribut eindeutig identifiziert werden, d.h. es gibt keine zwei Tupel mit dem gleichen Wert für dieses Attribut.\n",
    "\n",
    "Die Pfeile zeigen Fremdschlüsselbeziehungen an. Fremdschlüssel entsprechen dem Primärschlüssel einer anderen Relation und sind daher wichtig bei Joins. In der Relation *Kunden* zeigt die PersonID beispielsweise auf die Relation Personen und verweist damit auf das Tupel dieser Relation, mit dem es inhaltlich in Verbindung steht."
   ]
  },
  {
   "cell_type": "markdown",
   "metadata": {},
   "source": [
    " $ \\small {[}\\text{Personen}{]}: \\{{[} \\underline{ID: int}, Name: string, Vorname: string, Geburtsdatum: date {]}\\} $\n",
    "\n",
    "$ \\small {[}\\text{Mitarbeiter}{]}: \\{{[} \\underline{PersonID: int \\rightarrow Personen}, Gehalt: int, Erfahrung: int \\rightarrow Erfahrungsstufen {]}\\} $\n",
    "\n",
    "$ \\small {[}\\text{Erfahrungsstufen}{]}: \\{{[} \\underline{ID: int}, Bezeichnung: string {]}\\} $\n",
    "\n",
    "$ \\small {[}\\text{Kunden}{]}: \\{{[} \\underline{PersonID: int \\rightarrow Personen}, Branche: string {]}\\} $\n",
    "\n",
    "$ \\small {[}\\text{Seniors}{]}: \\{{[} \\underline{MitarbeiterID: int \\rightarrow Mitarbeiter}, AnzahlGraueHaare: int, Bonus: int {]}\\} $\n",
    "\n",
    "$ \\small {[}\\text{Verkaeufer}{]}: \\{{[} \\underline{MitarbeiterID: int \\rightarrow Mitarbeiter}, Spezialgebiet: string {]}\\} $\n",
    "\n",
    "$ \\small {[}\\text{Fotographen}{]}: \\{{[} \\underline{MitarbeiterID: int \\rightarrow Mitarbeiter}{]}\\} $\n",
    "\n",
    "$ \\small {[}\\text{Fotoabzuege}{]}: \\{{[} \\underline{Foto: int \\rightarrow Fotos, Zeitstempel: string}, Bildgroesse: int{]}\\} $\n",
    "\n",
    "$ \\small {[}\\text{Fotos}{]}: \\{{[} \\underline{ID: int}, GPSKoordinaten: point, Aufnahmezeitpunkt: string, Fotograph: int \\rightarrow Fotographen,  Kamera: int \\rightarrow  Kameras{]}\\} $\n",
    "\n",
    "$ \\small {[}\\text{Kameras}{]}: \\{{[} \\underline{ID: int}, Marke: string, Modell: string{]}\\} $\n",
    "\n",
    "$ \\small {[}\\text{Managed}{]}: \\{{[} \\underline{SeniorID: int \\rightarrow Seniors, FotographID: int \\rightarrow Fotographen, Von: date}, Bis: date{]}\\} $\n",
    "\n",
    "$ \\small {[}\\text{Verkaufen}{]}: \\{{[} \\underline{Kunde: int \\rightarrow Kunden, Verkaeufer: int  \\rightarrow Verkaeufer,} \\underline{Foto: int \\rightarrow Fotos}, Preis: int{]}\\} $"
   ]
  },
  {
   "cell_type": "markdown",
   "metadata": {},
   "source": [
    "### 2.1 Natürliche Sprache nach Relationale Alegbra (1.5 Punkte)\n",
    "\n",
    "Übersetze die folgenden umgasprachlichen Ausdrücke in Ausdrücke der relationalen Alegbra. Bei komplexen Ausdrücken empfiehlt es sich Variablen für Teilausdrücke einzuführen. So könnte man beispielsweise einen Teilausdruck Angestellte wiefolgt einführen:\n",
    "\n",
    "$$ \\text{Angestellte} := \\text{Personen} \\ltimes \\text{Mitarbeiter} $$\n",
    "\n",
    "Bei der Bennennung der Variablen solltet ihr darauf achten, dass es noch keine Relation mit dem gleichen Namen gibt.\n",
    "Den LaTeX-Befehl für alle wichtigen Operatoren findet ihr [hier](http://dbai.tuwien.ac.at/education/dm/resources/symbols.html).\n",
    "\n",
    "* Die IDs aller Fotographen, die schon mehr als 100 Bilder gemacht haben."
   ]
  },
  {
   "cell_type": "markdown",
   "metadata": {},
   "source": [
    "$$ # TODO $$\n",
    "\n",
    "* $ \\pi_{ID}\\Big(\\sigma_{Fotos>100} (\\text{Fotographen}\\bowtie\\text{Fotos}) \\Big) $"
   ]
  },
  {
   "cell_type": "code",
   "execution_count": null,
   "metadata": {},
   "outputs": [],
   "source": [
    "# 0.5 Punkte"
   ]
  },
  {
   "cell_type": "markdown",
   "metadata": {},
   "source": [
    "* Vor- und Nachname aller Seniors, die einen höheren Bonus erhalten als die Summe der Gehälter aller Fotographen, die von ihnen gemanagt werden.\n",
    "\n",
    "* $ \\pi_{Vorname, Nachname}\\Big( \\sigma_{ Bonus>\\sigma_{\\sum Gehalt (\\text{Fotographen}\\bowtie\\text{Mitarbeiter})} \\text{Seniors} } \\Big) $"
   ]
  },
  {
   "cell_type": "markdown",
   "metadata": {},
   "source": [
    "Seniors und die Summe der gehälter der Fotographen, die sie managed:\n",
    "$$ # TODO $$\n",
    "\n",
    "* $ \\pi_{Vorname, Nachname}\\Big( \\sigma_{ FotographID\\land\\sum Gehalt (\\text{Seniors}\\bowtie\\text{Managed}\\bowtie\\text{Fotographen}\\bowtie\\text{Mitarbeiter})} \\Big) $"
   ]
  },
  {
   "cell_type": "code",
   "execution_count": null,
   "metadata": {},
   "outputs": [],
   "source": [
    "# 1.0 Punkt"
   ]
  },
  {
   "cell_type": "markdown",
   "metadata": {},
   "source": [
    "### 2.2 Relationale Algebra nach natürliche Sprache (1.5 Punkte)\n",
    "\n",
    "In diesem Aufgabeteil soll die Übersetzung in die andere Richtung durchgeführt werden. Übersetze die nachfolgenden Ausdrücke der relationalen Algebra in natürliche Sprache. Versuche dabei präzise Formulierungen zu wählen.\n",
    "\n",
    "* $ \\pi_{Vorname, Geburtsdatum}(\\sigma_{Geburtsdatum<01.01.2000} Personen) $"
   ]
  },
  {
   "cell_type": "markdown",
   "metadata": {},
   "source": [
    "### TODO\n",
    "Vorname und Geburtsdatum aller Personen, deren Geburtsdatum vor dem 01.01.2000 liegt aus der Tabelle Personen."
   ]
  },
  {
   "cell_type": "code",
   "execution_count": null,
   "metadata": {},
   "outputs": [],
   "source": [
    "# 0.5 Punkte"
   ]
  },
  {
   "cell_type": "markdown",
   "metadata": {},
   "source": [
    "* $ \\pi_{ID}\\Big (\\sigma_{Erfahrung==ID \\land Bezeichnung=='Fortgeschrittener'}(\\text{Mitarbeiter} \\times \\text{Erfahrungsstufen})\\Big) $"
   ]
  },
  {
   "cell_type": "markdown",
   "metadata": {},
   "source": [
    "### TODO\n",
    "ID aller Mitarbeiter deren Erfahrung gleich der ID ist und Bezeichnung 'Fortgeschrittener' aus dem kartesischen Produkt von Mitarbeiter und Erfahrungsstufen."
   ]
  },
  {
   "cell_type": "code",
   "execution_count": null,
   "metadata": {},
   "outputs": [],
   "source": [
    "# 1.0 Punkte"
   ]
  },
  {
   "cell_type": "markdown",
   "metadata": {},
   "source": [
    "## Aufgabe 3: Ausgabegröße (1 Punkt)\n",
    "\n",
    "Sowohl beim Anwenden der Selektion als auch der Projektion auf eine Relation kann es sein, dass die Anzahl der Tupel in der Ergebnisrelation geringer ist als in der ursprünglichen Relation. Erkläre für beide Operatoren kurz, wie es dazu kommen kann."
   ]
  },
  {
   "cell_type": "markdown",
   "metadata": {},
   "source": [
    "### TODO"
   ]
  },
  {
   "cell_type": "code",
   "execution_count": null,
   "metadata": {},
   "outputs": [],
   "source": [
    "# 1.0 Punkte"
   ]
  },
  {
   "cell_type": "markdown",
   "metadata": {},
   "source": [
    "## Abgabe\n",
    "\n",
    "Das Jupyter Notebook ist über das CMS bis zum dort angegebenen Abgabezeitpunkt (Donnerstag Morgen 10 Uhr) hochzuladen. Setzt vor dem Hochladen alle Outputs über `Kernel -> Restart & Clear Outputs` zurück. Ladet eine einzelne `.ipynb` Datei hoch, insbesondere sollen Datensätze nicht mit abgegeben werden. Tragt nachfolgend alle Teammitglieder mit Matrikelnummer ein.\n",
    "\n",
    "Team:\n",
    "- **hier Team eintragen:** Vitalij Minor (2565427)\n",
    "- **hier Team eintragen:** Vorname Nachname (Matrikelnummer)\n",
    "- **hier Team eintragen:** Vorname Nachname (Matrikelnummer)"
   ]
  }
 ],
 "metadata": {
  "kernelspec": {
   "display_name": "Python 3",
   "language": "python",
   "name": "python3"
  },
  "language_info": {
   "codemirror_mode": {
    "name": "ipython",
    "version": 3
   },
   "file_extension": ".py",
   "mimetype": "text/x-python",
   "name": "python",
   "nbconvert_exporter": "python",
   "pygments_lexer": "ipython3",
   "version": "3.5.2"
  },
  "varInspector": {
   "cols": {
    "lenName": 16,
    "lenType": 16,
    "lenVar": 40
   },
   "kernels_config": {
    "python": {
     "delete_cmd_postfix": "",
     "delete_cmd_prefix": "del ",
     "library": "var_list.py",
     "varRefreshCmd": "print(var_dic_list())"
    },
    "r": {
     "delete_cmd_postfix": ") ",
     "delete_cmd_prefix": "rm(",
     "library": "var_list.r",
     "varRefreshCmd": "cat(var_dic_list()) "
    }
   },
   "types_to_exclude": [
    "module",
    "function",
    "builtin_function_or_method",
    "instance",
    "_Feature"
   ],
   "window_display": false
  }
 },
 "nbformat": 4,
 "nbformat_minor": 2
}
